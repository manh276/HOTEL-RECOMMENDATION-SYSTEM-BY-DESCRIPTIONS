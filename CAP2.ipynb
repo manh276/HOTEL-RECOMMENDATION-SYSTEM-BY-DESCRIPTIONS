{
 "cells": [
  {
   "cell_type": "code",
   "execution_count": 2,
   "id": "6b192da9",
   "metadata": {},
   "outputs": [
    {
     "data": {
      "text/html": [
       "        <script type=\"text/javascript\">\n",
       "        window.PlotlyConfig = {MathJaxConfig: 'local'};\n",
       "        if (window.MathJax && window.MathJax.Hub && window.MathJax.Hub.Config) {window.MathJax.Hub.Config({SVG: {font: \"STIX-Web\"}});}\n",
       "        if (typeof require !== 'undefined') {\n",
       "        require.undef(\"plotly\");\n",
       "        requirejs.config({\n",
       "            paths: {\n",
       "                'plotly': ['https://cdn.plot.ly/plotly-2.20.0.min']\n",
       "            }\n",
       "        });\n",
       "        require(['plotly'], function(Plotly) {\n",
       "            window._Plotly = Plotly;\n",
       "        });\n",
       "        }\n",
       "        </script>\n",
       "        "
      ]
     },
     "metadata": {},
     "output_type": "display_data"
    }
   ],
   "source": [
    "import pandas as pd\n",
    "import numpy as np\n",
    "from nltk.corpus import stopwords\n",
    "from sklearn.metrics.pairwise import linear_kernel\n",
    "from sklearn.feature_extraction.text import CountVectorizer\n",
    "from sklearn.feature_extraction.text import TfidfVectorizer\n",
    "from sklearn.decomposition import LatentDirichletAllocation\n",
    "import re\n",
    "import random\n",
    "import plotly.graph_objs as go\n",
    "import chart_studio.plotly as py\n",
    "import cufflinks\n",
    "pd.options.display.max_columns = 30\n",
    "from IPython.core.interactiveshell import InteractiveShell\n",
    "import plotly.figure_factory as ff\n",
    "InteractiveShell.ast_node_interactivity = 'all'\n",
    "from plotly.offline import iplot\n",
    "cufflinks.go_offline()\n",
    "cufflinks.set_config_file(world_readable=True, theme='solar')\n",
    "\n"
   ]
  },
  {
   "cell_type": "markdown",
   "id": "f38998d2",
   "metadata": {},
   "source": [
    "workbook = xlrd.open_workbook('hotel-list.xls', ignore_workbook_corruption=True)\n",
    "df = pd.read_excel(workbook)"
   ]
  },
  {
   "cell_type": "code",
   "execution_count": 119,
   "id": "391af60f",
   "metadata": {},
   "outputs": [],
   "source": [
    "df = pd.read_csv('CRAWL-2.csv')"
   ]
  },
  {
   "cell_type": "code",
   "execution_count": 82,
   "id": "e11ed995",
   "metadata": {},
   "outputs": [],
   "source": [
    "def print_description(index):\n",
    "    example = df[df.index == index][['descriptions', 'names']].values[0]\n",
    "    if len(example) > 0:\n",
    "        print(example[0])\n",
    "        print('Name:', example[1])"
   ]
  },
  {
   "cell_type": "code",
   "execution_count": 83,
   "id": "0c7d7e0f",
   "metadata": {},
   "outputs": [
    {
     "name": "stdout",
     "output_type": "stream",
     "text": [
      "Bạn đủ điều kiện nhận giảm giá Genius tại GREENECO DA LAT HOTEL - Khách sạn Green Eco Đà Lạt! Để tiết kiệm tại chỗ nghỉ này, bạn chỉ cần đăng nhập.\n",
      "Tọa lạc tại thành phố Đà Lạt, cách Thiền viện Trúc Lâm 2,2 km và Hồ Tuyền Lâm 2,3 km, GreenEco Da Lat Hotel cung cấp chỗ nghỉ với sảnh khách chung và WiFi miễn phí trong toàn bộ khuôn viên cũng như chỗ đỗ xe riêng miễn phí cho khách lái xe. Chỗ nghỉ này nằm trong bán kính 3,5 km từ Quảng trường Lâm Viên, 3,6 km từ Công viên Yersin và 3,6 km từ Hồ Xuân Hương. Nơi đây có dịch vụ phòng, lễ tân 24 giờ và tổ chức các tour du lịch cho khách.\n",
      "Tất cả phòng nghỉ tại GreenEco Da Lat Hotel được trang bị tủ lạnh, minibar, ấm đun nước, vòi sen, máy sấy tóc, bàn làm việc, ga trải giường và khăn tắm. Mỗi phòng đều được bố trí TV màn hình phẳng, máy điều hòa và phòng tắm riêng với vòi xịt/chậu rửa vệ sinh cùng đồ vệ sinh cá nhân miễn phí. Một số phòng có sân hiên.\n",
      "Chỗ nghỉ phục vụ bữa sáng à la carte hằng ngày.\n",
      "Name: GREENECO DA LAT HOTEL - Khách sạn Green Eco Đà Lạt\n"
     ]
    }
   ],
   "source": [
    "print_description(10)"
   ]
  },
  {
   "cell_type": "code",
   "execution_count": 84,
   "id": "f1497417",
   "metadata": {},
   "outputs": [
    {
     "data": {
      "application/vnd.plotly.v1+json": {
       "config": {
        "linkText": "Export to plot.ly",
        "plotlyServerURL": "https://plot.ly",
        "showLink": true
       },
       "data": [
        {
         "marker": {
          "color": "rgba(255, 153, 51, 0.6)",
          "line": {
           "color": "rgba(255, 153, 51, 1.0)",
           "width": 1
          }
         },
         "name": "count",
         "orientation": "h",
         "text": "",
         "type": "bar",
         "x": [
          683,
          687,
          691,
          705,
          737,
          753,
          755,
          774,
          785,
          920,
          977,
          1000,
          1081,
          1153,
          1209,
          1338,
          1433,
          1519,
          1538,
          2188
         ],
         "y": [
          "miễn",
          "cung",
          "bạn",
          "cách",
          "này",
          "bay",
          "trong",
          "phí",
          "dịch",
          "hotel",
          "vụ",
          "sân",
          "km",
          "khách",
          "có",
          "chỗ",
          "phòng",
          "nghỉ",
          "tại",
          "và"
         ]
        }
       ],
       "layout": {
        "legend": {
         "bgcolor": "#151516",
         "font": {
          "color": "#D9D9D9"
         }
        },
        "paper_bgcolor": "#151516",
        "plot_bgcolor": "#151516",
        "template": {
         "data": {
          "bar": [
           {
            "error_x": {
             "color": "#2a3f5f"
            },
            "error_y": {
             "color": "#2a3f5f"
            },
            "marker": {
             "line": {
              "color": "#E5ECF6",
              "width": 0.5
             },
             "pattern": {
              "fillmode": "overlay",
              "size": 10,
              "solidity": 0.2
             }
            },
            "type": "bar"
           }
          ],
          "barpolar": [
           {
            "marker": {
             "line": {
              "color": "#E5ECF6",
              "width": 0.5
             },
             "pattern": {
              "fillmode": "overlay",
              "size": 10,
              "solidity": 0.2
             }
            },
            "type": "barpolar"
           }
          ],
          "carpet": [
           {
            "aaxis": {
             "endlinecolor": "#2a3f5f",
             "gridcolor": "white",
             "linecolor": "white",
             "minorgridcolor": "white",
             "startlinecolor": "#2a3f5f"
            },
            "baxis": {
             "endlinecolor": "#2a3f5f",
             "gridcolor": "white",
             "linecolor": "white",
             "minorgridcolor": "white",
             "startlinecolor": "#2a3f5f"
            },
            "type": "carpet"
           }
          ],
          "choropleth": [
           {
            "colorbar": {
             "outlinewidth": 0,
             "ticks": ""
            },
            "type": "choropleth"
           }
          ],
          "contour": [
           {
            "colorbar": {
             "outlinewidth": 0,
             "ticks": ""
            },
            "colorscale": [
             [
              0,
              "#0d0887"
             ],
             [
              0.1111111111111111,
              "#46039f"
             ],
             [
              0.2222222222222222,
              "#7201a8"
             ],
             [
              0.3333333333333333,
              "#9c179e"
             ],
             [
              0.4444444444444444,
              "#bd3786"
             ],
             [
              0.5555555555555556,
              "#d8576b"
             ],
             [
              0.6666666666666666,
              "#ed7953"
             ],
             [
              0.7777777777777778,
              "#fb9f3a"
             ],
             [
              0.8888888888888888,
              "#fdca26"
             ],
             [
              1,
              "#f0f921"
             ]
            ],
            "type": "contour"
           }
          ],
          "contourcarpet": [
           {
            "colorbar": {
             "outlinewidth": 0,
             "ticks": ""
            },
            "type": "contourcarpet"
           }
          ],
          "heatmap": [
           {
            "colorbar": {
             "outlinewidth": 0,
             "ticks": ""
            },
            "colorscale": [
             [
              0,
              "#0d0887"
             ],
             [
              0.1111111111111111,
              "#46039f"
             ],
             [
              0.2222222222222222,
              "#7201a8"
             ],
             [
              0.3333333333333333,
              "#9c179e"
             ],
             [
              0.4444444444444444,
              "#bd3786"
             ],
             [
              0.5555555555555556,
              "#d8576b"
             ],
             [
              0.6666666666666666,
              "#ed7953"
             ],
             [
              0.7777777777777778,
              "#fb9f3a"
             ],
             [
              0.8888888888888888,
              "#fdca26"
             ],
             [
              1,
              "#f0f921"
             ]
            ],
            "type": "heatmap"
           }
          ],
          "heatmapgl": [
           {
            "colorbar": {
             "outlinewidth": 0,
             "ticks": ""
            },
            "colorscale": [
             [
              0,
              "#0d0887"
             ],
             [
              0.1111111111111111,
              "#46039f"
             ],
             [
              0.2222222222222222,
              "#7201a8"
             ],
             [
              0.3333333333333333,
              "#9c179e"
             ],
             [
              0.4444444444444444,
              "#bd3786"
             ],
             [
              0.5555555555555556,
              "#d8576b"
             ],
             [
              0.6666666666666666,
              "#ed7953"
             ],
             [
              0.7777777777777778,
              "#fb9f3a"
             ],
             [
              0.8888888888888888,
              "#fdca26"
             ],
             [
              1,
              "#f0f921"
             ]
            ],
            "type": "heatmapgl"
           }
          ],
          "histogram": [
           {
            "marker": {
             "pattern": {
              "fillmode": "overlay",
              "size": 10,
              "solidity": 0.2
             }
            },
            "type": "histogram"
           }
          ],
          "histogram2d": [
           {
            "colorbar": {
             "outlinewidth": 0,
             "ticks": ""
            },
            "colorscale": [
             [
              0,
              "#0d0887"
             ],
             [
              0.1111111111111111,
              "#46039f"
             ],
             [
              0.2222222222222222,
              "#7201a8"
             ],
             [
              0.3333333333333333,
              "#9c179e"
             ],
             [
              0.4444444444444444,
              "#bd3786"
             ],
             [
              0.5555555555555556,
              "#d8576b"
             ],
             [
              0.6666666666666666,
              "#ed7953"
             ],
             [
              0.7777777777777778,
              "#fb9f3a"
             ],
             [
              0.8888888888888888,
              "#fdca26"
             ],
             [
              1,
              "#f0f921"
             ]
            ],
            "type": "histogram2d"
           }
          ],
          "histogram2dcontour": [
           {
            "colorbar": {
             "outlinewidth": 0,
             "ticks": ""
            },
            "colorscale": [
             [
              0,
              "#0d0887"
             ],
             [
              0.1111111111111111,
              "#46039f"
             ],
             [
              0.2222222222222222,
              "#7201a8"
             ],
             [
              0.3333333333333333,
              "#9c179e"
             ],
             [
              0.4444444444444444,
              "#bd3786"
             ],
             [
              0.5555555555555556,
              "#d8576b"
             ],
             [
              0.6666666666666666,
              "#ed7953"
             ],
             [
              0.7777777777777778,
              "#fb9f3a"
             ],
             [
              0.8888888888888888,
              "#fdca26"
             ],
             [
              1,
              "#f0f921"
             ]
            ],
            "type": "histogram2dcontour"
           }
          ],
          "mesh3d": [
           {
            "colorbar": {
             "outlinewidth": 0,
             "ticks": ""
            },
            "type": "mesh3d"
           }
          ],
          "parcoords": [
           {
            "line": {
             "colorbar": {
              "outlinewidth": 0,
              "ticks": ""
             }
            },
            "type": "parcoords"
           }
          ],
          "pie": [
           {
            "automargin": true,
            "type": "pie"
           }
          ],
          "scatter": [
           {
            "fillpattern": {
             "fillmode": "overlay",
             "size": 10,
             "solidity": 0.2
            },
            "type": "scatter"
           }
          ],
          "scatter3d": [
           {
            "line": {
             "colorbar": {
              "outlinewidth": 0,
              "ticks": ""
             }
            },
            "marker": {
             "colorbar": {
              "outlinewidth": 0,
              "ticks": ""
             }
            },
            "type": "scatter3d"
           }
          ],
          "scattercarpet": [
           {
            "marker": {
             "colorbar": {
              "outlinewidth": 0,
              "ticks": ""
             }
            },
            "type": "scattercarpet"
           }
          ],
          "scattergeo": [
           {
            "marker": {
             "colorbar": {
              "outlinewidth": 0,
              "ticks": ""
             }
            },
            "type": "scattergeo"
           }
          ],
          "scattergl": [
           {
            "marker": {
             "colorbar": {
              "outlinewidth": 0,
              "ticks": ""
             }
            },
            "type": "scattergl"
           }
          ],
          "scattermapbox": [
           {
            "marker": {
             "colorbar": {
              "outlinewidth": 0,
              "ticks": ""
             }
            },
            "type": "scattermapbox"
           }
          ],
          "scatterpolar": [
           {
            "marker": {
             "colorbar": {
              "outlinewidth": 0,
              "ticks": ""
             }
            },
            "type": "scatterpolar"
           }
          ],
          "scatterpolargl": [
           {
            "marker": {
             "colorbar": {
              "outlinewidth": 0,
              "ticks": ""
             }
            },
            "type": "scatterpolargl"
           }
          ],
          "scatterternary": [
           {
            "marker": {
             "colorbar": {
              "outlinewidth": 0,
              "ticks": ""
             }
            },
            "type": "scatterternary"
           }
          ],
          "surface": [
           {
            "colorbar": {
             "outlinewidth": 0,
             "ticks": ""
            },
            "colorscale": [
             [
              0,
              "#0d0887"
             ],
             [
              0.1111111111111111,
              "#46039f"
             ],
             [
              0.2222222222222222,
              "#7201a8"
             ],
             [
              0.3333333333333333,
              "#9c179e"
             ],
             [
              0.4444444444444444,
              "#bd3786"
             ],
             [
              0.5555555555555556,
              "#d8576b"
             ],
             [
              0.6666666666666666,
              "#ed7953"
             ],
             [
              0.7777777777777778,
              "#fb9f3a"
             ],
             [
              0.8888888888888888,
              "#fdca26"
             ],
             [
              1,
              "#f0f921"
             ]
            ],
            "type": "surface"
           }
          ],
          "table": [
           {
            "cells": {
             "fill": {
              "color": "#EBF0F8"
             },
             "line": {
              "color": "white"
             }
            },
            "header": {
             "fill": {
              "color": "#C8D4E3"
             },
             "line": {
              "color": "white"
             }
            },
            "type": "table"
           }
          ]
         },
         "layout": {
          "annotationdefaults": {
           "arrowcolor": "#2a3f5f",
           "arrowhead": 0,
           "arrowwidth": 1
          },
          "autotypenumbers": "strict",
          "coloraxis": {
           "colorbar": {
            "outlinewidth": 0,
            "ticks": ""
           }
          },
          "colorscale": {
           "diverging": [
            [
             0,
             "#8e0152"
            ],
            [
             0.1,
             "#c51b7d"
            ],
            [
             0.2,
             "#de77ae"
            ],
            [
             0.3,
             "#f1b6da"
            ],
            [
             0.4,
             "#fde0ef"
            ],
            [
             0.5,
             "#f7f7f7"
            ],
            [
             0.6,
             "#e6f5d0"
            ],
            [
             0.7,
             "#b8e186"
            ],
            [
             0.8,
             "#7fbc41"
            ],
            [
             0.9,
             "#4d9221"
            ],
            [
             1,
             "#276419"
            ]
           ],
           "sequential": [
            [
             0,
             "#0d0887"
            ],
            [
             0.1111111111111111,
             "#46039f"
            ],
            [
             0.2222222222222222,
             "#7201a8"
            ],
            [
             0.3333333333333333,
             "#9c179e"
            ],
            [
             0.4444444444444444,
             "#bd3786"
            ],
            [
             0.5555555555555556,
             "#d8576b"
            ],
            [
             0.6666666666666666,
             "#ed7953"
            ],
            [
             0.7777777777777778,
             "#fb9f3a"
            ],
            [
             0.8888888888888888,
             "#fdca26"
            ],
            [
             1,
             "#f0f921"
            ]
           ],
           "sequentialminus": [
            [
             0,
             "#0d0887"
            ],
            [
             0.1111111111111111,
             "#46039f"
            ],
            [
             0.2222222222222222,
             "#7201a8"
            ],
            [
             0.3333333333333333,
             "#9c179e"
            ],
            [
             0.4444444444444444,
             "#bd3786"
            ],
            [
             0.5555555555555556,
             "#d8576b"
            ],
            [
             0.6666666666666666,
             "#ed7953"
            ],
            [
             0.7777777777777778,
             "#fb9f3a"
            ],
            [
             0.8888888888888888,
             "#fdca26"
            ],
            [
             1,
             "#f0f921"
            ]
           ]
          },
          "colorway": [
           "#636efa",
           "#EF553B",
           "#00cc96",
           "#ab63fa",
           "#FFA15A",
           "#19d3f3",
           "#FF6692",
           "#B6E880",
           "#FF97FF",
           "#FECB52"
          ],
          "font": {
           "color": "#2a3f5f"
          },
          "geo": {
           "bgcolor": "white",
           "lakecolor": "white",
           "landcolor": "#E5ECF6",
           "showlakes": true,
           "showland": true,
           "subunitcolor": "white"
          },
          "hoverlabel": {
           "align": "left"
          },
          "hovermode": "closest",
          "mapbox": {
           "style": "light"
          },
          "paper_bgcolor": "white",
          "plot_bgcolor": "#E5ECF6",
          "polar": {
           "angularaxis": {
            "gridcolor": "white",
            "linecolor": "white",
            "ticks": ""
           },
           "bgcolor": "#E5ECF6",
           "radialaxis": {
            "gridcolor": "white",
            "linecolor": "white",
            "ticks": ""
           }
          },
          "scene": {
           "xaxis": {
            "backgroundcolor": "#E5ECF6",
            "gridcolor": "white",
            "gridwidth": 2,
            "linecolor": "white",
            "showbackground": true,
            "ticks": "",
            "zerolinecolor": "white"
           },
           "yaxis": {
            "backgroundcolor": "#E5ECF6",
            "gridcolor": "white",
            "gridwidth": 2,
            "linecolor": "white",
            "showbackground": true,
            "ticks": "",
            "zerolinecolor": "white"
           },
           "zaxis": {
            "backgroundcolor": "#E5ECF6",
            "gridcolor": "white",
            "gridwidth": 2,
            "linecolor": "white",
            "showbackground": true,
            "ticks": "",
            "zerolinecolor": "white"
           }
          },
          "shapedefaults": {
           "line": {
            "color": "#2a3f5f"
           }
          },
          "ternary": {
           "aaxis": {
            "gridcolor": "white",
            "linecolor": "white",
            "ticks": ""
           },
           "baxis": {
            "gridcolor": "white",
            "linecolor": "white",
            "ticks": ""
           },
           "bgcolor": "#E5ECF6",
           "caxis": {
            "gridcolor": "white",
            "linecolor": "white",
            "ticks": ""
           }
          },
          "title": {
           "x": 0.05
          },
          "xaxis": {
           "automargin": true,
           "gridcolor": "white",
           "linecolor": "white",
           "ticks": "",
           "title": {
            "standoff": 15
           },
           "zerolinecolor": "white",
           "zerolinewidth": 2
          },
          "yaxis": {
           "automargin": true,
           "gridcolor": "white",
           "linecolor": "white",
           "ticks": "",
           "title": {
            "standoff": 15
           },
           "zerolinecolor": "white",
           "zerolinewidth": 2
          }
         }
        },
        "title": {
         "font": {
          "color": "#D9D9D9"
         },
         "text": "Top 20 words in hotel description before removing stop words"
        },
        "xaxis": {
         "gridcolor": "#434343",
         "linecolor": "black",
         "showgrid": true,
         "tickfont": {
          "color": "#C2C2C2"
         },
         "title": {
          "font": {
           "color": "#D9D9D9"
          },
          "text": ""
         },
         "zerolinecolor": "#666570"
        },
        "yaxis": {
         "gridcolor": "#434343",
         "linecolor": "black",
         "showgrid": true,
         "tickfont": {
          "color": "#C2C2C2"
         },
         "title": {
          "font": {
           "color": "#D9D9D9"
          },
          "text": "Count"
         },
         "zerolinecolor": "#666570"
        }
       }
      },
      "text/html": [
       "<div>                            <div id=\"44202b09-32d3-4986-8581-daa81690f24f\" class=\"plotly-graph-div\" style=\"height:525px; width:100%;\"></div>            <script type=\"text/javascript\">                require([\"plotly\"], function(Plotly) {                    window.PLOTLYENV=window.PLOTLYENV || {};\n",
       "                    window.PLOTLYENV.BASE_URL='https://plot.ly';                                    if (document.getElementById(\"44202b09-32d3-4986-8581-daa81690f24f\")) {                    Plotly.newPlot(                        \"44202b09-32d3-4986-8581-daa81690f24f\",                        [{\"marker\":{\"color\":\"rgba(255, 153, 51, 0.6)\",\"line\":{\"color\":\"rgba(255, 153, 51, 1.0)\",\"width\":1}},\"name\":\"count\",\"orientation\":\"h\",\"text\":\"\",\"x\":[683,687,691,705,737,753,755,774,785,920,977,1000,1081,1153,1209,1338,1433,1519,1538,2188],\"y\":[\"mi\\u1ec5n\",\"cung\",\"b\\u1ea1n\",\"c\\u00e1ch\",\"n\\u00e0y\",\"bay\",\"trong\",\"ph\\u00ed\",\"d\\u1ecbch\",\"hotel\",\"v\\u1ee5\",\"s\\u00e2n\",\"km\",\"kh\\u00e1ch\",\"c\\u00f3\",\"ch\\u1ed7\",\"ph\\u00f2ng\",\"ngh\\u1ec9\",\"t\\u1ea1i\",\"v\\u00e0\"],\"type\":\"bar\"}],                        {\"legend\":{\"bgcolor\":\"#151516\",\"font\":{\"color\":\"#D9D9D9\"}},\"paper_bgcolor\":\"#151516\",\"plot_bgcolor\":\"#151516\",\"template\":{\"data\":{\"barpolar\":[{\"marker\":{\"line\":{\"color\":\"#E5ECF6\",\"width\":0.5},\"pattern\":{\"fillmode\":\"overlay\",\"size\":10,\"solidity\":0.2}},\"type\":\"barpolar\"}],\"bar\":[{\"error_x\":{\"color\":\"#2a3f5f\"},\"error_y\":{\"color\":\"#2a3f5f\"},\"marker\":{\"line\":{\"color\":\"#E5ECF6\",\"width\":0.5},\"pattern\":{\"fillmode\":\"overlay\",\"size\":10,\"solidity\":0.2}},\"type\":\"bar\"}],\"carpet\":[{\"aaxis\":{\"endlinecolor\":\"#2a3f5f\",\"gridcolor\":\"white\",\"linecolor\":\"white\",\"minorgridcolor\":\"white\",\"startlinecolor\":\"#2a3f5f\"},\"baxis\":{\"endlinecolor\":\"#2a3f5f\",\"gridcolor\":\"white\",\"linecolor\":\"white\",\"minorgridcolor\":\"white\",\"startlinecolor\":\"#2a3f5f\"},\"type\":\"carpet\"}],\"choropleth\":[{\"colorbar\":{\"outlinewidth\":0,\"ticks\":\"\"},\"type\":\"choropleth\"}],\"contourcarpet\":[{\"colorbar\":{\"outlinewidth\":0,\"ticks\":\"\"},\"type\":\"contourcarpet\"}],\"contour\":[{\"colorbar\":{\"outlinewidth\":0,\"ticks\":\"\"},\"colorscale\":[[0.0,\"#0d0887\"],[0.1111111111111111,\"#46039f\"],[0.2222222222222222,\"#7201a8\"],[0.3333333333333333,\"#9c179e\"],[0.4444444444444444,\"#bd3786\"],[0.5555555555555556,\"#d8576b\"],[0.6666666666666666,\"#ed7953\"],[0.7777777777777778,\"#fb9f3a\"],[0.8888888888888888,\"#fdca26\"],[1.0,\"#f0f921\"]],\"type\":\"contour\"}],\"heatmapgl\":[{\"colorbar\":{\"outlinewidth\":0,\"ticks\":\"\"},\"colorscale\":[[0.0,\"#0d0887\"],[0.1111111111111111,\"#46039f\"],[0.2222222222222222,\"#7201a8\"],[0.3333333333333333,\"#9c179e\"],[0.4444444444444444,\"#bd3786\"],[0.5555555555555556,\"#d8576b\"],[0.6666666666666666,\"#ed7953\"],[0.7777777777777778,\"#fb9f3a\"],[0.8888888888888888,\"#fdca26\"],[1.0,\"#f0f921\"]],\"type\":\"heatmapgl\"}],\"heatmap\":[{\"colorbar\":{\"outlinewidth\":0,\"ticks\":\"\"},\"colorscale\":[[0.0,\"#0d0887\"],[0.1111111111111111,\"#46039f\"],[0.2222222222222222,\"#7201a8\"],[0.3333333333333333,\"#9c179e\"],[0.4444444444444444,\"#bd3786\"],[0.5555555555555556,\"#d8576b\"],[0.6666666666666666,\"#ed7953\"],[0.7777777777777778,\"#fb9f3a\"],[0.8888888888888888,\"#fdca26\"],[1.0,\"#f0f921\"]],\"type\":\"heatmap\"}],\"histogram2dcontour\":[{\"colorbar\":{\"outlinewidth\":0,\"ticks\":\"\"},\"colorscale\":[[0.0,\"#0d0887\"],[0.1111111111111111,\"#46039f\"],[0.2222222222222222,\"#7201a8\"],[0.3333333333333333,\"#9c179e\"],[0.4444444444444444,\"#bd3786\"],[0.5555555555555556,\"#d8576b\"],[0.6666666666666666,\"#ed7953\"],[0.7777777777777778,\"#fb9f3a\"],[0.8888888888888888,\"#fdca26\"],[1.0,\"#f0f921\"]],\"type\":\"histogram2dcontour\"}],\"histogram2d\":[{\"colorbar\":{\"outlinewidth\":0,\"ticks\":\"\"},\"colorscale\":[[0.0,\"#0d0887\"],[0.1111111111111111,\"#46039f\"],[0.2222222222222222,\"#7201a8\"],[0.3333333333333333,\"#9c179e\"],[0.4444444444444444,\"#bd3786\"],[0.5555555555555556,\"#d8576b\"],[0.6666666666666666,\"#ed7953\"],[0.7777777777777778,\"#fb9f3a\"],[0.8888888888888888,\"#fdca26\"],[1.0,\"#f0f921\"]],\"type\":\"histogram2d\"}],\"histogram\":[{\"marker\":{\"pattern\":{\"fillmode\":\"overlay\",\"size\":10,\"solidity\":0.2}},\"type\":\"histogram\"}],\"mesh3d\":[{\"colorbar\":{\"outlinewidth\":0,\"ticks\":\"\"},\"type\":\"mesh3d\"}],\"parcoords\":[{\"line\":{\"colorbar\":{\"outlinewidth\":0,\"ticks\":\"\"}},\"type\":\"parcoords\"}],\"pie\":[{\"automargin\":true,\"type\":\"pie\"}],\"scatter3d\":[{\"line\":{\"colorbar\":{\"outlinewidth\":0,\"ticks\":\"\"}},\"marker\":{\"colorbar\":{\"outlinewidth\":0,\"ticks\":\"\"}},\"type\":\"scatter3d\"}],\"scattercarpet\":[{\"marker\":{\"colorbar\":{\"outlinewidth\":0,\"ticks\":\"\"}},\"type\":\"scattercarpet\"}],\"scattergeo\":[{\"marker\":{\"colorbar\":{\"outlinewidth\":0,\"ticks\":\"\"}},\"type\":\"scattergeo\"}],\"scattergl\":[{\"marker\":{\"colorbar\":{\"outlinewidth\":0,\"ticks\":\"\"}},\"type\":\"scattergl\"}],\"scattermapbox\":[{\"marker\":{\"colorbar\":{\"outlinewidth\":0,\"ticks\":\"\"}},\"type\":\"scattermapbox\"}],\"scatterpolargl\":[{\"marker\":{\"colorbar\":{\"outlinewidth\":0,\"ticks\":\"\"}},\"type\":\"scatterpolargl\"}],\"scatterpolar\":[{\"marker\":{\"colorbar\":{\"outlinewidth\":0,\"ticks\":\"\"}},\"type\":\"scatterpolar\"}],\"scatter\":[{\"fillpattern\":{\"fillmode\":\"overlay\",\"size\":10,\"solidity\":0.2},\"type\":\"scatter\"}],\"scatterternary\":[{\"marker\":{\"colorbar\":{\"outlinewidth\":0,\"ticks\":\"\"}},\"type\":\"scatterternary\"}],\"surface\":[{\"colorbar\":{\"outlinewidth\":0,\"ticks\":\"\"},\"colorscale\":[[0.0,\"#0d0887\"],[0.1111111111111111,\"#46039f\"],[0.2222222222222222,\"#7201a8\"],[0.3333333333333333,\"#9c179e\"],[0.4444444444444444,\"#bd3786\"],[0.5555555555555556,\"#d8576b\"],[0.6666666666666666,\"#ed7953\"],[0.7777777777777778,\"#fb9f3a\"],[0.8888888888888888,\"#fdca26\"],[1.0,\"#f0f921\"]],\"type\":\"surface\"}],\"table\":[{\"cells\":{\"fill\":{\"color\":\"#EBF0F8\"},\"line\":{\"color\":\"white\"}},\"header\":{\"fill\":{\"color\":\"#C8D4E3\"},\"line\":{\"color\":\"white\"}},\"type\":\"table\"}]},\"layout\":{\"annotationdefaults\":{\"arrowcolor\":\"#2a3f5f\",\"arrowhead\":0,\"arrowwidth\":1},\"autotypenumbers\":\"strict\",\"coloraxis\":{\"colorbar\":{\"outlinewidth\":0,\"ticks\":\"\"}},\"colorscale\":{\"diverging\":[[0,\"#8e0152\"],[0.1,\"#c51b7d\"],[0.2,\"#de77ae\"],[0.3,\"#f1b6da\"],[0.4,\"#fde0ef\"],[0.5,\"#f7f7f7\"],[0.6,\"#e6f5d0\"],[0.7,\"#b8e186\"],[0.8,\"#7fbc41\"],[0.9,\"#4d9221\"],[1,\"#276419\"]],\"sequential\":[[0.0,\"#0d0887\"],[0.1111111111111111,\"#46039f\"],[0.2222222222222222,\"#7201a8\"],[0.3333333333333333,\"#9c179e\"],[0.4444444444444444,\"#bd3786\"],[0.5555555555555556,\"#d8576b\"],[0.6666666666666666,\"#ed7953\"],[0.7777777777777778,\"#fb9f3a\"],[0.8888888888888888,\"#fdca26\"],[1.0,\"#f0f921\"]],\"sequentialminus\":[[0.0,\"#0d0887\"],[0.1111111111111111,\"#46039f\"],[0.2222222222222222,\"#7201a8\"],[0.3333333333333333,\"#9c179e\"],[0.4444444444444444,\"#bd3786\"],[0.5555555555555556,\"#d8576b\"],[0.6666666666666666,\"#ed7953\"],[0.7777777777777778,\"#fb9f3a\"],[0.8888888888888888,\"#fdca26\"],[1.0,\"#f0f921\"]]},\"colorway\":[\"#636efa\",\"#EF553B\",\"#00cc96\",\"#ab63fa\",\"#FFA15A\",\"#19d3f3\",\"#FF6692\",\"#B6E880\",\"#FF97FF\",\"#FECB52\"],\"font\":{\"color\":\"#2a3f5f\"},\"geo\":{\"bgcolor\":\"white\",\"lakecolor\":\"white\",\"landcolor\":\"#E5ECF6\",\"showlakes\":true,\"showland\":true,\"subunitcolor\":\"white\"},\"hoverlabel\":{\"align\":\"left\"},\"hovermode\":\"closest\",\"mapbox\":{\"style\":\"light\"},\"paper_bgcolor\":\"white\",\"plot_bgcolor\":\"#E5ECF6\",\"polar\":{\"angularaxis\":{\"gridcolor\":\"white\",\"linecolor\":\"white\",\"ticks\":\"\"},\"bgcolor\":\"#E5ECF6\",\"radialaxis\":{\"gridcolor\":\"white\",\"linecolor\":\"white\",\"ticks\":\"\"}},\"scene\":{\"xaxis\":{\"backgroundcolor\":\"#E5ECF6\",\"gridcolor\":\"white\",\"gridwidth\":2,\"linecolor\":\"white\",\"showbackground\":true,\"ticks\":\"\",\"zerolinecolor\":\"white\"},\"yaxis\":{\"backgroundcolor\":\"#E5ECF6\",\"gridcolor\":\"white\",\"gridwidth\":2,\"linecolor\":\"white\",\"showbackground\":true,\"ticks\":\"\",\"zerolinecolor\":\"white\"},\"zaxis\":{\"backgroundcolor\":\"#E5ECF6\",\"gridcolor\":\"white\",\"gridwidth\":2,\"linecolor\":\"white\",\"showbackground\":true,\"ticks\":\"\",\"zerolinecolor\":\"white\"}},\"shapedefaults\":{\"line\":{\"color\":\"#2a3f5f\"}},\"ternary\":{\"aaxis\":{\"gridcolor\":\"white\",\"linecolor\":\"white\",\"ticks\":\"\"},\"baxis\":{\"gridcolor\":\"white\",\"linecolor\":\"white\",\"ticks\":\"\"},\"bgcolor\":\"#E5ECF6\",\"caxis\":{\"gridcolor\":\"white\",\"linecolor\":\"white\",\"ticks\":\"\"}},\"title\":{\"x\":0.05},\"xaxis\":{\"automargin\":true,\"gridcolor\":\"white\",\"linecolor\":\"white\",\"ticks\":\"\",\"title\":{\"standoff\":15},\"zerolinecolor\":\"white\",\"zerolinewidth\":2},\"yaxis\":{\"automargin\":true,\"gridcolor\":\"white\",\"linecolor\":\"white\",\"ticks\":\"\",\"title\":{\"standoff\":15},\"zerolinecolor\":\"white\",\"zerolinewidth\":2}}},\"title\":{\"font\":{\"color\":\"#D9D9D9\"},\"text\":\"Top 20 words in hotel description before removing stop words\"},\"xaxis\":{\"gridcolor\":\"#434343\",\"linecolor\":\"black\",\"showgrid\":true,\"tickfont\":{\"color\":\"#C2C2C2\"},\"title\":{\"font\":{\"color\":\"#D9D9D9\"},\"text\":\"\"},\"zerolinecolor\":\"#666570\"},\"yaxis\":{\"gridcolor\":\"#434343\",\"linecolor\":\"black\",\"showgrid\":true,\"tickfont\":{\"color\":\"#C2C2C2\"},\"title\":{\"font\":{\"color\":\"#D9D9D9\"},\"text\":\"Count\"},\"zerolinecolor\":\"#666570\"}},                        {\"showLink\": true, \"linkText\": \"Export to plot.ly\", \"plotlyServerURL\": \"https://plot.ly\", \"responsive\": true}                    ).then(function(){\n",
       "                            \n",
       "var gd = document.getElementById('44202b09-32d3-4986-8581-daa81690f24f');\n",
       "var x = new MutationObserver(function (mutations, observer) {{\n",
       "        var display = window.getComputedStyle(gd).display;\n",
       "        if (!display || display === 'none') {{\n",
       "            console.log([gd, 'removed!']);\n",
       "            Plotly.purge(gd);\n",
       "            observer.disconnect();\n",
       "        }}\n",
       "}});\n",
       "\n",
       "// Listen for the removal of the full notebook cells\n",
       "var notebookContainer = gd.closest('#notebook-container');\n",
       "if (notebookContainer) {{\n",
       "    x.observe(notebookContainer, {childList: true});\n",
       "}}\n",
       "\n",
       "// Listen for the clearing of the current output cell\n",
       "var outputEl = gd.closest('.output');\n",
       "if (outputEl) {{\n",
       "    x.observe(outputEl, {childList: true});\n",
       "}}\n",
       "\n",
       "                        })                };                });            </script>        </div>"
      ]
     },
     "metadata": {},
     "output_type": "display_data"
    }
   ],
   "source": [
    "def get_top_n_words(corpus, n=None):\n",
    "    vec = CountVectorizer().fit(corpus)\n",
    "    bag_of_words = vec.transform(corpus)\n",
    "    sum_words = bag_of_words.sum(axis=0) \n",
    "    words_freq = [(word, sum_words[0, idx]) for word, idx in vec.vocabulary_.items()]\n",
    "    words_freq =sorted(words_freq, key = lambda x: x[1], reverse=True)\n",
    "    return words_freq[:n]\n",
    "common_words = get_top_n_words(df['descriptions'], 20)\n",
    "df1 = pd.DataFrame(common_words, columns = ['descriptions' , 'count'])\n",
    "df1.groupby('descriptions').sum()['count'].sort_values().iplot(kind='barh', yTitle='Count', linecolor='black', title='Top 20 words in hotel description before removing stop words')"
   ]
  },
  {
   "cell_type": "code",
   "execution_count": 85,
   "id": "0305ce56",
   "metadata": {},
   "outputs": [
    {
     "data": {
      "application/vnd.plotly.v1+json": {
       "config": {
        "linkText": "Export to plot.ly",
        "plotlyServerURL": "https://plot.ly",
        "showLink": true
       },
       "data": [
        {
         "marker": {
          "color": "rgba(255, 153, 51, 0.6)",
          "line": {
           "color": "rgba(255, 153, 51, 1.0)",
           "width": 1
          }
         },
         "name": "count",
         "orientation": "v",
         "text": "",
         "type": "bar",
         "x": [
          "chỗ nghỉ",
          "dịch vụ",
          "sân bay",
          "miễn phí",
          "cung cấp",
          "thành phố",
          "nghỉ này",
          "khách sạn",
          "tại chỗ",
          "chỉ cần",
          "đủ điều",
          "kiện nhận",
          "nhận giảm",
          "giảm giá",
          "giá genius",
          "tiết kiệm",
          "genius tại",
          "điều kiện",
          "để tiết",
          "bạn đủ"
         ],
         "y": [
          1156,
          785,
          715,
          683,
          661,
          498,
          482,
          467,
          387,
          350,
          346,
          345,
          345,
          345,
          345,
          345,
          345,
          345,
          345,
          345
         ]
        }
       ],
       "layout": {
        "legend": {
         "bgcolor": "#151516",
         "font": {
          "color": "#D9D9D9"
         }
        },
        "paper_bgcolor": "#151516",
        "plot_bgcolor": "#151516",
        "template": {
         "data": {
          "bar": [
           {
            "error_x": {
             "color": "#2a3f5f"
            },
            "error_y": {
             "color": "#2a3f5f"
            },
            "marker": {
             "line": {
              "color": "#E5ECF6",
              "width": 0.5
             },
             "pattern": {
              "fillmode": "overlay",
              "size": 10,
              "solidity": 0.2
             }
            },
            "type": "bar"
           }
          ],
          "barpolar": [
           {
            "marker": {
             "line": {
              "color": "#E5ECF6",
              "width": 0.5
             },
             "pattern": {
              "fillmode": "overlay",
              "size": 10,
              "solidity": 0.2
             }
            },
            "type": "barpolar"
           }
          ],
          "carpet": [
           {
            "aaxis": {
             "endlinecolor": "#2a3f5f",
             "gridcolor": "white",
             "linecolor": "white",
             "minorgridcolor": "white",
             "startlinecolor": "#2a3f5f"
            },
            "baxis": {
             "endlinecolor": "#2a3f5f",
             "gridcolor": "white",
             "linecolor": "white",
             "minorgridcolor": "white",
             "startlinecolor": "#2a3f5f"
            },
            "type": "carpet"
           }
          ],
          "choropleth": [
           {
            "colorbar": {
             "outlinewidth": 0,
             "ticks": ""
            },
            "type": "choropleth"
           }
          ],
          "contour": [
           {
            "colorbar": {
             "outlinewidth": 0,
             "ticks": ""
            },
            "colorscale": [
             [
              0,
              "#0d0887"
             ],
             [
              0.1111111111111111,
              "#46039f"
             ],
             [
              0.2222222222222222,
              "#7201a8"
             ],
             [
              0.3333333333333333,
              "#9c179e"
             ],
             [
              0.4444444444444444,
              "#bd3786"
             ],
             [
              0.5555555555555556,
              "#d8576b"
             ],
             [
              0.6666666666666666,
              "#ed7953"
             ],
             [
              0.7777777777777778,
              "#fb9f3a"
             ],
             [
              0.8888888888888888,
              "#fdca26"
             ],
             [
              1,
              "#f0f921"
             ]
            ],
            "type": "contour"
           }
          ],
          "contourcarpet": [
           {
            "colorbar": {
             "outlinewidth": 0,
             "ticks": ""
            },
            "type": "contourcarpet"
           }
          ],
          "heatmap": [
           {
            "colorbar": {
             "outlinewidth": 0,
             "ticks": ""
            },
            "colorscale": [
             [
              0,
              "#0d0887"
             ],
             [
              0.1111111111111111,
              "#46039f"
             ],
             [
              0.2222222222222222,
              "#7201a8"
             ],
             [
              0.3333333333333333,
              "#9c179e"
             ],
             [
              0.4444444444444444,
              "#bd3786"
             ],
             [
              0.5555555555555556,
              "#d8576b"
             ],
             [
              0.6666666666666666,
              "#ed7953"
             ],
             [
              0.7777777777777778,
              "#fb9f3a"
             ],
             [
              0.8888888888888888,
              "#fdca26"
             ],
             [
              1,
              "#f0f921"
             ]
            ],
            "type": "heatmap"
           }
          ],
          "heatmapgl": [
           {
            "colorbar": {
             "outlinewidth": 0,
             "ticks": ""
            },
            "colorscale": [
             [
              0,
              "#0d0887"
             ],
             [
              0.1111111111111111,
              "#46039f"
             ],
             [
              0.2222222222222222,
              "#7201a8"
             ],
             [
              0.3333333333333333,
              "#9c179e"
             ],
             [
              0.4444444444444444,
              "#bd3786"
             ],
             [
              0.5555555555555556,
              "#d8576b"
             ],
             [
              0.6666666666666666,
              "#ed7953"
             ],
             [
              0.7777777777777778,
              "#fb9f3a"
             ],
             [
              0.8888888888888888,
              "#fdca26"
             ],
             [
              1,
              "#f0f921"
             ]
            ],
            "type": "heatmapgl"
           }
          ],
          "histogram": [
           {
            "marker": {
             "pattern": {
              "fillmode": "overlay",
              "size": 10,
              "solidity": 0.2
             }
            },
            "type": "histogram"
           }
          ],
          "histogram2d": [
           {
            "colorbar": {
             "outlinewidth": 0,
             "ticks": ""
            },
            "colorscale": [
             [
              0,
              "#0d0887"
             ],
             [
              0.1111111111111111,
              "#46039f"
             ],
             [
              0.2222222222222222,
              "#7201a8"
             ],
             [
              0.3333333333333333,
              "#9c179e"
             ],
             [
              0.4444444444444444,
              "#bd3786"
             ],
             [
              0.5555555555555556,
              "#d8576b"
             ],
             [
              0.6666666666666666,
              "#ed7953"
             ],
             [
              0.7777777777777778,
              "#fb9f3a"
             ],
             [
              0.8888888888888888,
              "#fdca26"
             ],
             [
              1,
              "#f0f921"
             ]
            ],
            "type": "histogram2d"
           }
          ],
          "histogram2dcontour": [
           {
            "colorbar": {
             "outlinewidth": 0,
             "ticks": ""
            },
            "colorscale": [
             [
              0,
              "#0d0887"
             ],
             [
              0.1111111111111111,
              "#46039f"
             ],
             [
              0.2222222222222222,
              "#7201a8"
             ],
             [
              0.3333333333333333,
              "#9c179e"
             ],
             [
              0.4444444444444444,
              "#bd3786"
             ],
             [
              0.5555555555555556,
              "#d8576b"
             ],
             [
              0.6666666666666666,
              "#ed7953"
             ],
             [
              0.7777777777777778,
              "#fb9f3a"
             ],
             [
              0.8888888888888888,
              "#fdca26"
             ],
             [
              1,
              "#f0f921"
             ]
            ],
            "type": "histogram2dcontour"
           }
          ],
          "mesh3d": [
           {
            "colorbar": {
             "outlinewidth": 0,
             "ticks": ""
            },
            "type": "mesh3d"
           }
          ],
          "parcoords": [
           {
            "line": {
             "colorbar": {
              "outlinewidth": 0,
              "ticks": ""
             }
            },
            "type": "parcoords"
           }
          ],
          "pie": [
           {
            "automargin": true,
            "type": "pie"
           }
          ],
          "scatter": [
           {
            "fillpattern": {
             "fillmode": "overlay",
             "size": 10,
             "solidity": 0.2
            },
            "type": "scatter"
           }
          ],
          "scatter3d": [
           {
            "line": {
             "colorbar": {
              "outlinewidth": 0,
              "ticks": ""
             }
            },
            "marker": {
             "colorbar": {
              "outlinewidth": 0,
              "ticks": ""
             }
            },
            "type": "scatter3d"
           }
          ],
          "scattercarpet": [
           {
            "marker": {
             "colorbar": {
              "outlinewidth": 0,
              "ticks": ""
             }
            },
            "type": "scattercarpet"
           }
          ],
          "scattergeo": [
           {
            "marker": {
             "colorbar": {
              "outlinewidth": 0,
              "ticks": ""
             }
            },
            "type": "scattergeo"
           }
          ],
          "scattergl": [
           {
            "marker": {
             "colorbar": {
              "outlinewidth": 0,
              "ticks": ""
             }
            },
            "type": "scattergl"
           }
          ],
          "scattermapbox": [
           {
            "marker": {
             "colorbar": {
              "outlinewidth": 0,
              "ticks": ""
             }
            },
            "type": "scattermapbox"
           }
          ],
          "scatterpolar": [
           {
            "marker": {
             "colorbar": {
              "outlinewidth": 0,
              "ticks": ""
             }
            },
            "type": "scatterpolar"
           }
          ],
          "scatterpolargl": [
           {
            "marker": {
             "colorbar": {
              "outlinewidth": 0,
              "ticks": ""
             }
            },
            "type": "scatterpolargl"
           }
          ],
          "scatterternary": [
           {
            "marker": {
             "colorbar": {
              "outlinewidth": 0,
              "ticks": ""
             }
            },
            "type": "scatterternary"
           }
          ],
          "surface": [
           {
            "colorbar": {
             "outlinewidth": 0,
             "ticks": ""
            },
            "colorscale": [
             [
              0,
              "#0d0887"
             ],
             [
              0.1111111111111111,
              "#46039f"
             ],
             [
              0.2222222222222222,
              "#7201a8"
             ],
             [
              0.3333333333333333,
              "#9c179e"
             ],
             [
              0.4444444444444444,
              "#bd3786"
             ],
             [
              0.5555555555555556,
              "#d8576b"
             ],
             [
              0.6666666666666666,
              "#ed7953"
             ],
             [
              0.7777777777777778,
              "#fb9f3a"
             ],
             [
              0.8888888888888888,
              "#fdca26"
             ],
             [
              1,
              "#f0f921"
             ]
            ],
            "type": "surface"
           }
          ],
          "table": [
           {
            "cells": {
             "fill": {
              "color": "#EBF0F8"
             },
             "line": {
              "color": "white"
             }
            },
            "header": {
             "fill": {
              "color": "#C8D4E3"
             },
             "line": {
              "color": "white"
             }
            },
            "type": "table"
           }
          ]
         },
         "layout": {
          "annotationdefaults": {
           "arrowcolor": "#2a3f5f",
           "arrowhead": 0,
           "arrowwidth": 1
          },
          "autotypenumbers": "strict",
          "coloraxis": {
           "colorbar": {
            "outlinewidth": 0,
            "ticks": ""
           }
          },
          "colorscale": {
           "diverging": [
            [
             0,
             "#8e0152"
            ],
            [
             0.1,
             "#c51b7d"
            ],
            [
             0.2,
             "#de77ae"
            ],
            [
             0.3,
             "#f1b6da"
            ],
            [
             0.4,
             "#fde0ef"
            ],
            [
             0.5,
             "#f7f7f7"
            ],
            [
             0.6,
             "#e6f5d0"
            ],
            [
             0.7,
             "#b8e186"
            ],
            [
             0.8,
             "#7fbc41"
            ],
            [
             0.9,
             "#4d9221"
            ],
            [
             1,
             "#276419"
            ]
           ],
           "sequential": [
            [
             0,
             "#0d0887"
            ],
            [
             0.1111111111111111,
             "#46039f"
            ],
            [
             0.2222222222222222,
             "#7201a8"
            ],
            [
             0.3333333333333333,
             "#9c179e"
            ],
            [
             0.4444444444444444,
             "#bd3786"
            ],
            [
             0.5555555555555556,
             "#d8576b"
            ],
            [
             0.6666666666666666,
             "#ed7953"
            ],
            [
             0.7777777777777778,
             "#fb9f3a"
            ],
            [
             0.8888888888888888,
             "#fdca26"
            ],
            [
             1,
             "#f0f921"
            ]
           ],
           "sequentialminus": [
            [
             0,
             "#0d0887"
            ],
            [
             0.1111111111111111,
             "#46039f"
            ],
            [
             0.2222222222222222,
             "#7201a8"
            ],
            [
             0.3333333333333333,
             "#9c179e"
            ],
            [
             0.4444444444444444,
             "#bd3786"
            ],
            [
             0.5555555555555556,
             "#d8576b"
            ],
            [
             0.6666666666666666,
             "#ed7953"
            ],
            [
             0.7777777777777778,
             "#fb9f3a"
            ],
            [
             0.8888888888888888,
             "#fdca26"
            ],
            [
             1,
             "#f0f921"
            ]
           ]
          },
          "colorway": [
           "#636efa",
           "#EF553B",
           "#00cc96",
           "#ab63fa",
           "#FFA15A",
           "#19d3f3",
           "#FF6692",
           "#B6E880",
           "#FF97FF",
           "#FECB52"
          ],
          "font": {
           "color": "#2a3f5f"
          },
          "geo": {
           "bgcolor": "white",
           "lakecolor": "white",
           "landcolor": "#E5ECF6",
           "showlakes": true,
           "showland": true,
           "subunitcolor": "white"
          },
          "hoverlabel": {
           "align": "left"
          },
          "hovermode": "closest",
          "mapbox": {
           "style": "light"
          },
          "paper_bgcolor": "white",
          "plot_bgcolor": "#E5ECF6",
          "polar": {
           "angularaxis": {
            "gridcolor": "white",
            "linecolor": "white",
            "ticks": ""
           },
           "bgcolor": "#E5ECF6",
           "radialaxis": {
            "gridcolor": "white",
            "linecolor": "white",
            "ticks": ""
           }
          },
          "scene": {
           "xaxis": {
            "backgroundcolor": "#E5ECF6",
            "gridcolor": "white",
            "gridwidth": 2,
            "linecolor": "white",
            "showbackground": true,
            "ticks": "",
            "zerolinecolor": "white"
           },
           "yaxis": {
            "backgroundcolor": "#E5ECF6",
            "gridcolor": "white",
            "gridwidth": 2,
            "linecolor": "white",
            "showbackground": true,
            "ticks": "",
            "zerolinecolor": "white"
           },
           "zaxis": {
            "backgroundcolor": "#E5ECF6",
            "gridcolor": "white",
            "gridwidth": 2,
            "linecolor": "white",
            "showbackground": true,
            "ticks": "",
            "zerolinecolor": "white"
           }
          },
          "shapedefaults": {
           "line": {
            "color": "#2a3f5f"
           }
          },
          "ternary": {
           "aaxis": {
            "gridcolor": "white",
            "linecolor": "white",
            "ticks": ""
           },
           "baxis": {
            "gridcolor": "white",
            "linecolor": "white",
            "ticks": ""
           },
           "bgcolor": "#E5ECF6",
           "caxis": {
            "gridcolor": "white",
            "linecolor": "white",
            "ticks": ""
           }
          },
          "title": {
           "x": 0.05
          },
          "xaxis": {
           "automargin": true,
           "gridcolor": "white",
           "linecolor": "white",
           "ticks": "",
           "title": {
            "standoff": 15
           },
           "zerolinecolor": "white",
           "zerolinewidth": 2
          },
          "yaxis": {
           "automargin": true,
           "gridcolor": "white",
           "linecolor": "white",
           "ticks": "",
           "title": {
            "standoff": 15
           },
           "zerolinecolor": "white",
           "zerolinewidth": 2
          }
         }
        },
        "title": {
         "font": {
          "color": "#D9D9D9"
         },
         "text": "Top 20 bigrams in hotel description before removing stop words"
        },
        "xaxis": {
         "gridcolor": "#434343",
         "linecolor": "black",
         "showgrid": true,
         "tickfont": {
          "color": "#C2C2C2"
         },
         "title": {
          "font": {
           "color": "#D9D9D9"
          },
          "text": ""
         },
         "zerolinecolor": "#666570"
        },
        "yaxis": {
         "gridcolor": "#434343",
         "linecolor": "black",
         "showgrid": true,
         "tickfont": {
          "color": "#C2C2C2"
         },
         "title": {
          "font": {
           "color": "#D9D9D9"
          },
          "text": "Count"
         },
         "zerolinecolor": "#666570"
        }
       }
      },
      "text/html": [
       "<div>                            <div id=\"0b4c0c65-2abf-42c5-a7e8-0180d72d2a7f\" class=\"plotly-graph-div\" style=\"height:525px; width:100%;\"></div>            <script type=\"text/javascript\">                require([\"plotly\"], function(Plotly) {                    window.PLOTLYENV=window.PLOTLYENV || {};\n",
       "                    window.PLOTLYENV.BASE_URL='https://plot.ly';                                    if (document.getElementById(\"0b4c0c65-2abf-42c5-a7e8-0180d72d2a7f\")) {                    Plotly.newPlot(                        \"0b4c0c65-2abf-42c5-a7e8-0180d72d2a7f\",                        [{\"marker\":{\"color\":\"rgba(255, 153, 51, 0.6)\",\"line\":{\"color\":\"rgba(255, 153, 51, 1.0)\",\"width\":1}},\"name\":\"count\",\"orientation\":\"v\",\"text\":\"\",\"x\":[\"ch\\u1ed7 ngh\\u1ec9\",\"d\\u1ecbch v\\u1ee5\",\"s\\u00e2n bay\",\"mi\\u1ec5n ph\\u00ed\",\"cung c\\u1ea5p\",\"th\\u00e0nh ph\\u1ed1\",\"ngh\\u1ec9 n\\u00e0y\",\"kh\\u00e1ch s\\u1ea1n\",\"t\\u1ea1i ch\\u1ed7\",\"ch\\u1ec9 c\\u1ea7n\",\"\\u0111\\u1ee7 \\u0111i\\u1ec1u\",\"ki\\u1ec7n nh\\u1eadn\",\"nh\\u1eadn gi\\u1ea3m\",\"gi\\u1ea3m gi\\u00e1\",\"gi\\u00e1 genius\",\"ti\\u1ebft ki\\u1ec7m\",\"genius t\\u1ea1i\",\"\\u0111i\\u1ec1u ki\\u1ec7n\",\"\\u0111\\u1ec3 ti\\u1ebft\",\"b\\u1ea1n \\u0111\\u1ee7\"],\"y\":[1156,785,715,683,661,498,482,467,387,350,346,345,345,345,345,345,345,345,345,345],\"type\":\"bar\"}],                        {\"legend\":{\"bgcolor\":\"#151516\",\"font\":{\"color\":\"#D9D9D9\"}},\"paper_bgcolor\":\"#151516\",\"plot_bgcolor\":\"#151516\",\"template\":{\"data\":{\"barpolar\":[{\"marker\":{\"line\":{\"color\":\"#E5ECF6\",\"width\":0.5},\"pattern\":{\"fillmode\":\"overlay\",\"size\":10,\"solidity\":0.2}},\"type\":\"barpolar\"}],\"bar\":[{\"error_x\":{\"color\":\"#2a3f5f\"},\"error_y\":{\"color\":\"#2a3f5f\"},\"marker\":{\"line\":{\"color\":\"#E5ECF6\",\"width\":0.5},\"pattern\":{\"fillmode\":\"overlay\",\"size\":10,\"solidity\":0.2}},\"type\":\"bar\"}],\"carpet\":[{\"aaxis\":{\"endlinecolor\":\"#2a3f5f\",\"gridcolor\":\"white\",\"linecolor\":\"white\",\"minorgridcolor\":\"white\",\"startlinecolor\":\"#2a3f5f\"},\"baxis\":{\"endlinecolor\":\"#2a3f5f\",\"gridcolor\":\"white\",\"linecolor\":\"white\",\"minorgridcolor\":\"white\",\"startlinecolor\":\"#2a3f5f\"},\"type\":\"carpet\"}],\"choropleth\":[{\"colorbar\":{\"outlinewidth\":0,\"ticks\":\"\"},\"type\":\"choropleth\"}],\"contourcarpet\":[{\"colorbar\":{\"outlinewidth\":0,\"ticks\":\"\"},\"type\":\"contourcarpet\"}],\"contour\":[{\"colorbar\":{\"outlinewidth\":0,\"ticks\":\"\"},\"colorscale\":[[0.0,\"#0d0887\"],[0.1111111111111111,\"#46039f\"],[0.2222222222222222,\"#7201a8\"],[0.3333333333333333,\"#9c179e\"],[0.4444444444444444,\"#bd3786\"],[0.5555555555555556,\"#d8576b\"],[0.6666666666666666,\"#ed7953\"],[0.7777777777777778,\"#fb9f3a\"],[0.8888888888888888,\"#fdca26\"],[1.0,\"#f0f921\"]],\"type\":\"contour\"}],\"heatmapgl\":[{\"colorbar\":{\"outlinewidth\":0,\"ticks\":\"\"},\"colorscale\":[[0.0,\"#0d0887\"],[0.1111111111111111,\"#46039f\"],[0.2222222222222222,\"#7201a8\"],[0.3333333333333333,\"#9c179e\"],[0.4444444444444444,\"#bd3786\"],[0.5555555555555556,\"#d8576b\"],[0.6666666666666666,\"#ed7953\"],[0.7777777777777778,\"#fb9f3a\"],[0.8888888888888888,\"#fdca26\"],[1.0,\"#f0f921\"]],\"type\":\"heatmapgl\"}],\"heatmap\":[{\"colorbar\":{\"outlinewidth\":0,\"ticks\":\"\"},\"colorscale\":[[0.0,\"#0d0887\"],[0.1111111111111111,\"#46039f\"],[0.2222222222222222,\"#7201a8\"],[0.3333333333333333,\"#9c179e\"],[0.4444444444444444,\"#bd3786\"],[0.5555555555555556,\"#d8576b\"],[0.6666666666666666,\"#ed7953\"],[0.7777777777777778,\"#fb9f3a\"],[0.8888888888888888,\"#fdca26\"],[1.0,\"#f0f921\"]],\"type\":\"heatmap\"}],\"histogram2dcontour\":[{\"colorbar\":{\"outlinewidth\":0,\"ticks\":\"\"},\"colorscale\":[[0.0,\"#0d0887\"],[0.1111111111111111,\"#46039f\"],[0.2222222222222222,\"#7201a8\"],[0.3333333333333333,\"#9c179e\"],[0.4444444444444444,\"#bd3786\"],[0.5555555555555556,\"#d8576b\"],[0.6666666666666666,\"#ed7953\"],[0.7777777777777778,\"#fb9f3a\"],[0.8888888888888888,\"#fdca26\"],[1.0,\"#f0f921\"]],\"type\":\"histogram2dcontour\"}],\"histogram2d\":[{\"colorbar\":{\"outlinewidth\":0,\"ticks\":\"\"},\"colorscale\":[[0.0,\"#0d0887\"],[0.1111111111111111,\"#46039f\"],[0.2222222222222222,\"#7201a8\"],[0.3333333333333333,\"#9c179e\"],[0.4444444444444444,\"#bd3786\"],[0.5555555555555556,\"#d8576b\"],[0.6666666666666666,\"#ed7953\"],[0.7777777777777778,\"#fb9f3a\"],[0.8888888888888888,\"#fdca26\"],[1.0,\"#f0f921\"]],\"type\":\"histogram2d\"}],\"histogram\":[{\"marker\":{\"pattern\":{\"fillmode\":\"overlay\",\"size\":10,\"solidity\":0.2}},\"type\":\"histogram\"}],\"mesh3d\":[{\"colorbar\":{\"outlinewidth\":0,\"ticks\":\"\"},\"type\":\"mesh3d\"}],\"parcoords\":[{\"line\":{\"colorbar\":{\"outlinewidth\":0,\"ticks\":\"\"}},\"type\":\"parcoords\"}],\"pie\":[{\"automargin\":true,\"type\":\"pie\"}],\"scatter3d\":[{\"line\":{\"colorbar\":{\"outlinewidth\":0,\"ticks\":\"\"}},\"marker\":{\"colorbar\":{\"outlinewidth\":0,\"ticks\":\"\"}},\"type\":\"scatter3d\"}],\"scattercarpet\":[{\"marker\":{\"colorbar\":{\"outlinewidth\":0,\"ticks\":\"\"}},\"type\":\"scattercarpet\"}],\"scattergeo\":[{\"marker\":{\"colorbar\":{\"outlinewidth\":0,\"ticks\":\"\"}},\"type\":\"scattergeo\"}],\"scattergl\":[{\"marker\":{\"colorbar\":{\"outlinewidth\":0,\"ticks\":\"\"}},\"type\":\"scattergl\"}],\"scattermapbox\":[{\"marker\":{\"colorbar\":{\"outlinewidth\":0,\"ticks\":\"\"}},\"type\":\"scattermapbox\"}],\"scatterpolargl\":[{\"marker\":{\"colorbar\":{\"outlinewidth\":0,\"ticks\":\"\"}},\"type\":\"scatterpolargl\"}],\"scatterpolar\":[{\"marker\":{\"colorbar\":{\"outlinewidth\":0,\"ticks\":\"\"}},\"type\":\"scatterpolar\"}],\"scatter\":[{\"fillpattern\":{\"fillmode\":\"overlay\",\"size\":10,\"solidity\":0.2},\"type\":\"scatter\"}],\"scatterternary\":[{\"marker\":{\"colorbar\":{\"outlinewidth\":0,\"ticks\":\"\"}},\"type\":\"scatterternary\"}],\"surface\":[{\"colorbar\":{\"outlinewidth\":0,\"ticks\":\"\"},\"colorscale\":[[0.0,\"#0d0887\"],[0.1111111111111111,\"#46039f\"],[0.2222222222222222,\"#7201a8\"],[0.3333333333333333,\"#9c179e\"],[0.4444444444444444,\"#bd3786\"],[0.5555555555555556,\"#d8576b\"],[0.6666666666666666,\"#ed7953\"],[0.7777777777777778,\"#fb9f3a\"],[0.8888888888888888,\"#fdca26\"],[1.0,\"#f0f921\"]],\"type\":\"surface\"}],\"table\":[{\"cells\":{\"fill\":{\"color\":\"#EBF0F8\"},\"line\":{\"color\":\"white\"}},\"header\":{\"fill\":{\"color\":\"#C8D4E3\"},\"line\":{\"color\":\"white\"}},\"type\":\"table\"}]},\"layout\":{\"annotationdefaults\":{\"arrowcolor\":\"#2a3f5f\",\"arrowhead\":0,\"arrowwidth\":1},\"autotypenumbers\":\"strict\",\"coloraxis\":{\"colorbar\":{\"outlinewidth\":0,\"ticks\":\"\"}},\"colorscale\":{\"diverging\":[[0,\"#8e0152\"],[0.1,\"#c51b7d\"],[0.2,\"#de77ae\"],[0.3,\"#f1b6da\"],[0.4,\"#fde0ef\"],[0.5,\"#f7f7f7\"],[0.6,\"#e6f5d0\"],[0.7,\"#b8e186\"],[0.8,\"#7fbc41\"],[0.9,\"#4d9221\"],[1,\"#276419\"]],\"sequential\":[[0.0,\"#0d0887\"],[0.1111111111111111,\"#46039f\"],[0.2222222222222222,\"#7201a8\"],[0.3333333333333333,\"#9c179e\"],[0.4444444444444444,\"#bd3786\"],[0.5555555555555556,\"#d8576b\"],[0.6666666666666666,\"#ed7953\"],[0.7777777777777778,\"#fb9f3a\"],[0.8888888888888888,\"#fdca26\"],[1.0,\"#f0f921\"]],\"sequentialminus\":[[0.0,\"#0d0887\"],[0.1111111111111111,\"#46039f\"],[0.2222222222222222,\"#7201a8\"],[0.3333333333333333,\"#9c179e\"],[0.4444444444444444,\"#bd3786\"],[0.5555555555555556,\"#d8576b\"],[0.6666666666666666,\"#ed7953\"],[0.7777777777777778,\"#fb9f3a\"],[0.8888888888888888,\"#fdca26\"],[1.0,\"#f0f921\"]]},\"colorway\":[\"#636efa\",\"#EF553B\",\"#00cc96\",\"#ab63fa\",\"#FFA15A\",\"#19d3f3\",\"#FF6692\",\"#B6E880\",\"#FF97FF\",\"#FECB52\"],\"font\":{\"color\":\"#2a3f5f\"},\"geo\":{\"bgcolor\":\"white\",\"lakecolor\":\"white\",\"landcolor\":\"#E5ECF6\",\"showlakes\":true,\"showland\":true,\"subunitcolor\":\"white\"},\"hoverlabel\":{\"align\":\"left\"},\"hovermode\":\"closest\",\"mapbox\":{\"style\":\"light\"},\"paper_bgcolor\":\"white\",\"plot_bgcolor\":\"#E5ECF6\",\"polar\":{\"angularaxis\":{\"gridcolor\":\"white\",\"linecolor\":\"white\",\"ticks\":\"\"},\"bgcolor\":\"#E5ECF6\",\"radialaxis\":{\"gridcolor\":\"white\",\"linecolor\":\"white\",\"ticks\":\"\"}},\"scene\":{\"xaxis\":{\"backgroundcolor\":\"#E5ECF6\",\"gridcolor\":\"white\",\"gridwidth\":2,\"linecolor\":\"white\",\"showbackground\":true,\"ticks\":\"\",\"zerolinecolor\":\"white\"},\"yaxis\":{\"backgroundcolor\":\"#E5ECF6\",\"gridcolor\":\"white\",\"gridwidth\":2,\"linecolor\":\"white\",\"showbackground\":true,\"ticks\":\"\",\"zerolinecolor\":\"white\"},\"zaxis\":{\"backgroundcolor\":\"#E5ECF6\",\"gridcolor\":\"white\",\"gridwidth\":2,\"linecolor\":\"white\",\"showbackground\":true,\"ticks\":\"\",\"zerolinecolor\":\"white\"}},\"shapedefaults\":{\"line\":{\"color\":\"#2a3f5f\"}},\"ternary\":{\"aaxis\":{\"gridcolor\":\"white\",\"linecolor\":\"white\",\"ticks\":\"\"},\"baxis\":{\"gridcolor\":\"white\",\"linecolor\":\"white\",\"ticks\":\"\"},\"bgcolor\":\"#E5ECF6\",\"caxis\":{\"gridcolor\":\"white\",\"linecolor\":\"white\",\"ticks\":\"\"}},\"title\":{\"x\":0.05},\"xaxis\":{\"automargin\":true,\"gridcolor\":\"white\",\"linecolor\":\"white\",\"ticks\":\"\",\"title\":{\"standoff\":15},\"zerolinecolor\":\"white\",\"zerolinewidth\":2},\"yaxis\":{\"automargin\":true,\"gridcolor\":\"white\",\"linecolor\":\"white\",\"ticks\":\"\",\"title\":{\"standoff\":15},\"zerolinecolor\":\"white\",\"zerolinewidth\":2}}},\"title\":{\"font\":{\"color\":\"#D9D9D9\"},\"text\":\"Top 20 bigrams in hotel description before removing stop words\"},\"xaxis\":{\"gridcolor\":\"#434343\",\"linecolor\":\"black\",\"showgrid\":true,\"tickfont\":{\"color\":\"#C2C2C2\"},\"title\":{\"font\":{\"color\":\"#D9D9D9\"},\"text\":\"\"},\"zerolinecolor\":\"#666570\"},\"yaxis\":{\"gridcolor\":\"#434343\",\"linecolor\":\"black\",\"showgrid\":true,\"tickfont\":{\"color\":\"#C2C2C2\"},\"title\":{\"font\":{\"color\":\"#D9D9D9\"},\"text\":\"Count\"},\"zerolinecolor\":\"#666570\"}},                        {\"showLink\": true, \"linkText\": \"Export to plot.ly\", \"plotlyServerURL\": \"https://plot.ly\", \"responsive\": true}                    ).then(function(){\n",
       "                            \n",
       "var gd = document.getElementById('0b4c0c65-2abf-42c5-a7e8-0180d72d2a7f');\n",
       "var x = new MutationObserver(function (mutations, observer) {{\n",
       "        var display = window.getComputedStyle(gd).display;\n",
       "        if (!display || display === 'none') {{\n",
       "            console.log([gd, 'removed!']);\n",
       "            Plotly.purge(gd);\n",
       "            observer.disconnect();\n",
       "        }}\n",
       "}});\n",
       "\n",
       "// Listen for the removal of the full notebook cells\n",
       "var notebookContainer = gd.closest('#notebook-container');\n",
       "if (notebookContainer) {{\n",
       "    x.observe(notebookContainer, {childList: true});\n",
       "}}\n",
       "\n",
       "// Listen for the clearing of the current output cell\n",
       "var outputEl = gd.closest('.output');\n",
       "if (outputEl) {{\n",
       "    x.observe(outputEl, {childList: true});\n",
       "}}\n",
       "\n",
       "                        })                };                });            </script>        </div>"
      ]
     },
     "metadata": {},
     "output_type": "display_data"
    }
   ],
   "source": [
    "def get_top_n_bigram(corpus, n=None):\n",
    "    vec = CountVectorizer(ngram_range=(2, 2)).fit(corpus)\n",
    "    bag_of_words = vec.transform(corpus)\n",
    "    sum_words = bag_of_words.sum(axis=0) \n",
    "    words_freq = [(word, sum_words[0, idx]) for word, idx in vec.vocabulary_.items()]\n",
    "    words_freq =sorted(words_freq, key = lambda x: x[1], reverse=True)\n",
    "    return words_freq[:n]\n",
    "common_words = get_top_n_bigram(df['descriptions'], 20)\n",
    "df3 = pd.DataFrame(common_words, columns = ['descriptions' , 'count'])\n",
    "df3.groupby('descriptions').sum()['count'].sort_values(ascending=False).iplot(kind='bar', yTitle='Count', linecolor='black', title='Top 20 bigrams in hotel description before removing stop words')"
   ]
  },
  {
   "cell_type": "code",
   "execution_count": 86,
   "id": "08f4508e",
   "metadata": {},
   "outputs": [
    {
     "data": {
      "application/vnd.plotly.v1+json": {
       "config": {
        "linkText": "Export to plot.ly",
        "plotlyServerURL": "https://plot.ly",
        "showLink": true
       },
       "data": [
        {
         "marker": {
          "color": "rgba(255, 153, 51, 0.6)",
          "line": {
           "color": "rgba(255, 153, 51, 1.0)",
           "width": 1
          }
         },
         "name": "count",
         "orientation": "v",
         "text": "",
         "type": "bar",
         "x": [
          "chỗ nghỉ này",
          "tại chỗ nghỉ",
          "bạn chỉ cần",
          "bạn đủ điều",
          "để tiết kiệm",
          "điều kiện nhận",
          "tiết kiệm tại",
          "này bạn chỉ",
          "nhận giảm giá",
          "nghỉ này bạn",
          "kiện nhận giảm",
          "kiệm tại chỗ",
          "giảm giá genius",
          "giá genius tại",
          "cần đăng nhập",
          "chỉ cần đăng",
          "đủ điều kiện",
          "phòng tắm riêng",
          "được trang bị",
          "màn hình phẳng"
         ],
         "y": [
          466,
          386,
          345,
          345,
          345,
          345,
          345,
          345,
          345,
          345,
          345,
          345,
          345,
          345,
          345,
          345,
          345,
          315,
          284,
          281
         ]
        }
       ],
       "layout": {
        "legend": {
         "bgcolor": "#151516",
         "font": {
          "color": "#D9D9D9"
         }
        },
        "paper_bgcolor": "#151516",
        "plot_bgcolor": "#151516",
        "template": {
         "data": {
          "bar": [
           {
            "error_x": {
             "color": "#2a3f5f"
            },
            "error_y": {
             "color": "#2a3f5f"
            },
            "marker": {
             "line": {
              "color": "#E5ECF6",
              "width": 0.5
             },
             "pattern": {
              "fillmode": "overlay",
              "size": 10,
              "solidity": 0.2
             }
            },
            "type": "bar"
           }
          ],
          "barpolar": [
           {
            "marker": {
             "line": {
              "color": "#E5ECF6",
              "width": 0.5
             },
             "pattern": {
              "fillmode": "overlay",
              "size": 10,
              "solidity": 0.2
             }
            },
            "type": "barpolar"
           }
          ],
          "carpet": [
           {
            "aaxis": {
             "endlinecolor": "#2a3f5f",
             "gridcolor": "white",
             "linecolor": "white",
             "minorgridcolor": "white",
             "startlinecolor": "#2a3f5f"
            },
            "baxis": {
             "endlinecolor": "#2a3f5f",
             "gridcolor": "white",
             "linecolor": "white",
             "minorgridcolor": "white",
             "startlinecolor": "#2a3f5f"
            },
            "type": "carpet"
           }
          ],
          "choropleth": [
           {
            "colorbar": {
             "outlinewidth": 0,
             "ticks": ""
            },
            "type": "choropleth"
           }
          ],
          "contour": [
           {
            "colorbar": {
             "outlinewidth": 0,
             "ticks": ""
            },
            "colorscale": [
             [
              0,
              "#0d0887"
             ],
             [
              0.1111111111111111,
              "#46039f"
             ],
             [
              0.2222222222222222,
              "#7201a8"
             ],
             [
              0.3333333333333333,
              "#9c179e"
             ],
             [
              0.4444444444444444,
              "#bd3786"
             ],
             [
              0.5555555555555556,
              "#d8576b"
             ],
             [
              0.6666666666666666,
              "#ed7953"
             ],
             [
              0.7777777777777778,
              "#fb9f3a"
             ],
             [
              0.8888888888888888,
              "#fdca26"
             ],
             [
              1,
              "#f0f921"
             ]
            ],
            "type": "contour"
           }
          ],
          "contourcarpet": [
           {
            "colorbar": {
             "outlinewidth": 0,
             "ticks": ""
            },
            "type": "contourcarpet"
           }
          ],
          "heatmap": [
           {
            "colorbar": {
             "outlinewidth": 0,
             "ticks": ""
            },
            "colorscale": [
             [
              0,
              "#0d0887"
             ],
             [
              0.1111111111111111,
              "#46039f"
             ],
             [
              0.2222222222222222,
              "#7201a8"
             ],
             [
              0.3333333333333333,
              "#9c179e"
             ],
             [
              0.4444444444444444,
              "#bd3786"
             ],
             [
              0.5555555555555556,
              "#d8576b"
             ],
             [
              0.6666666666666666,
              "#ed7953"
             ],
             [
              0.7777777777777778,
              "#fb9f3a"
             ],
             [
              0.8888888888888888,
              "#fdca26"
             ],
             [
              1,
              "#f0f921"
             ]
            ],
            "type": "heatmap"
           }
          ],
          "heatmapgl": [
           {
            "colorbar": {
             "outlinewidth": 0,
             "ticks": ""
            },
            "colorscale": [
             [
              0,
              "#0d0887"
             ],
             [
              0.1111111111111111,
              "#46039f"
             ],
             [
              0.2222222222222222,
              "#7201a8"
             ],
             [
              0.3333333333333333,
              "#9c179e"
             ],
             [
              0.4444444444444444,
              "#bd3786"
             ],
             [
              0.5555555555555556,
              "#d8576b"
             ],
             [
              0.6666666666666666,
              "#ed7953"
             ],
             [
              0.7777777777777778,
              "#fb9f3a"
             ],
             [
              0.8888888888888888,
              "#fdca26"
             ],
             [
              1,
              "#f0f921"
             ]
            ],
            "type": "heatmapgl"
           }
          ],
          "histogram": [
           {
            "marker": {
             "pattern": {
              "fillmode": "overlay",
              "size": 10,
              "solidity": 0.2
             }
            },
            "type": "histogram"
           }
          ],
          "histogram2d": [
           {
            "colorbar": {
             "outlinewidth": 0,
             "ticks": ""
            },
            "colorscale": [
             [
              0,
              "#0d0887"
             ],
             [
              0.1111111111111111,
              "#46039f"
             ],
             [
              0.2222222222222222,
              "#7201a8"
             ],
             [
              0.3333333333333333,
              "#9c179e"
             ],
             [
              0.4444444444444444,
              "#bd3786"
             ],
             [
              0.5555555555555556,
              "#d8576b"
             ],
             [
              0.6666666666666666,
              "#ed7953"
             ],
             [
              0.7777777777777778,
              "#fb9f3a"
             ],
             [
              0.8888888888888888,
              "#fdca26"
             ],
             [
              1,
              "#f0f921"
             ]
            ],
            "type": "histogram2d"
           }
          ],
          "histogram2dcontour": [
           {
            "colorbar": {
             "outlinewidth": 0,
             "ticks": ""
            },
            "colorscale": [
             [
              0,
              "#0d0887"
             ],
             [
              0.1111111111111111,
              "#46039f"
             ],
             [
              0.2222222222222222,
              "#7201a8"
             ],
             [
              0.3333333333333333,
              "#9c179e"
             ],
             [
              0.4444444444444444,
              "#bd3786"
             ],
             [
              0.5555555555555556,
              "#d8576b"
             ],
             [
              0.6666666666666666,
              "#ed7953"
             ],
             [
              0.7777777777777778,
              "#fb9f3a"
             ],
             [
              0.8888888888888888,
              "#fdca26"
             ],
             [
              1,
              "#f0f921"
             ]
            ],
            "type": "histogram2dcontour"
           }
          ],
          "mesh3d": [
           {
            "colorbar": {
             "outlinewidth": 0,
             "ticks": ""
            },
            "type": "mesh3d"
           }
          ],
          "parcoords": [
           {
            "line": {
             "colorbar": {
              "outlinewidth": 0,
              "ticks": ""
             }
            },
            "type": "parcoords"
           }
          ],
          "pie": [
           {
            "automargin": true,
            "type": "pie"
           }
          ],
          "scatter": [
           {
            "fillpattern": {
             "fillmode": "overlay",
             "size": 10,
             "solidity": 0.2
            },
            "type": "scatter"
           }
          ],
          "scatter3d": [
           {
            "line": {
             "colorbar": {
              "outlinewidth": 0,
              "ticks": ""
             }
            },
            "marker": {
             "colorbar": {
              "outlinewidth": 0,
              "ticks": ""
             }
            },
            "type": "scatter3d"
           }
          ],
          "scattercarpet": [
           {
            "marker": {
             "colorbar": {
              "outlinewidth": 0,
              "ticks": ""
             }
            },
            "type": "scattercarpet"
           }
          ],
          "scattergeo": [
           {
            "marker": {
             "colorbar": {
              "outlinewidth": 0,
              "ticks": ""
             }
            },
            "type": "scattergeo"
           }
          ],
          "scattergl": [
           {
            "marker": {
             "colorbar": {
              "outlinewidth": 0,
              "ticks": ""
             }
            },
            "type": "scattergl"
           }
          ],
          "scattermapbox": [
           {
            "marker": {
             "colorbar": {
              "outlinewidth": 0,
              "ticks": ""
             }
            },
            "type": "scattermapbox"
           }
          ],
          "scatterpolar": [
           {
            "marker": {
             "colorbar": {
              "outlinewidth": 0,
              "ticks": ""
             }
            },
            "type": "scatterpolar"
           }
          ],
          "scatterpolargl": [
           {
            "marker": {
             "colorbar": {
              "outlinewidth": 0,
              "ticks": ""
             }
            },
            "type": "scatterpolargl"
           }
          ],
          "scatterternary": [
           {
            "marker": {
             "colorbar": {
              "outlinewidth": 0,
              "ticks": ""
             }
            },
            "type": "scatterternary"
           }
          ],
          "surface": [
           {
            "colorbar": {
             "outlinewidth": 0,
             "ticks": ""
            },
            "colorscale": [
             [
              0,
              "#0d0887"
             ],
             [
              0.1111111111111111,
              "#46039f"
             ],
             [
              0.2222222222222222,
              "#7201a8"
             ],
             [
              0.3333333333333333,
              "#9c179e"
             ],
             [
              0.4444444444444444,
              "#bd3786"
             ],
             [
              0.5555555555555556,
              "#d8576b"
             ],
             [
              0.6666666666666666,
              "#ed7953"
             ],
             [
              0.7777777777777778,
              "#fb9f3a"
             ],
             [
              0.8888888888888888,
              "#fdca26"
             ],
             [
              1,
              "#f0f921"
             ]
            ],
            "type": "surface"
           }
          ],
          "table": [
           {
            "cells": {
             "fill": {
              "color": "#EBF0F8"
             },
             "line": {
              "color": "white"
             }
            },
            "header": {
             "fill": {
              "color": "#C8D4E3"
             },
             "line": {
              "color": "white"
             }
            },
            "type": "table"
           }
          ]
         },
         "layout": {
          "annotationdefaults": {
           "arrowcolor": "#2a3f5f",
           "arrowhead": 0,
           "arrowwidth": 1
          },
          "autotypenumbers": "strict",
          "coloraxis": {
           "colorbar": {
            "outlinewidth": 0,
            "ticks": ""
           }
          },
          "colorscale": {
           "diverging": [
            [
             0,
             "#8e0152"
            ],
            [
             0.1,
             "#c51b7d"
            ],
            [
             0.2,
             "#de77ae"
            ],
            [
             0.3,
             "#f1b6da"
            ],
            [
             0.4,
             "#fde0ef"
            ],
            [
             0.5,
             "#f7f7f7"
            ],
            [
             0.6,
             "#e6f5d0"
            ],
            [
             0.7,
             "#b8e186"
            ],
            [
             0.8,
             "#7fbc41"
            ],
            [
             0.9,
             "#4d9221"
            ],
            [
             1,
             "#276419"
            ]
           ],
           "sequential": [
            [
             0,
             "#0d0887"
            ],
            [
             0.1111111111111111,
             "#46039f"
            ],
            [
             0.2222222222222222,
             "#7201a8"
            ],
            [
             0.3333333333333333,
             "#9c179e"
            ],
            [
             0.4444444444444444,
             "#bd3786"
            ],
            [
             0.5555555555555556,
             "#d8576b"
            ],
            [
             0.6666666666666666,
             "#ed7953"
            ],
            [
             0.7777777777777778,
             "#fb9f3a"
            ],
            [
             0.8888888888888888,
             "#fdca26"
            ],
            [
             1,
             "#f0f921"
            ]
           ],
           "sequentialminus": [
            [
             0,
             "#0d0887"
            ],
            [
             0.1111111111111111,
             "#46039f"
            ],
            [
             0.2222222222222222,
             "#7201a8"
            ],
            [
             0.3333333333333333,
             "#9c179e"
            ],
            [
             0.4444444444444444,
             "#bd3786"
            ],
            [
             0.5555555555555556,
             "#d8576b"
            ],
            [
             0.6666666666666666,
             "#ed7953"
            ],
            [
             0.7777777777777778,
             "#fb9f3a"
            ],
            [
             0.8888888888888888,
             "#fdca26"
            ],
            [
             1,
             "#f0f921"
            ]
           ]
          },
          "colorway": [
           "#636efa",
           "#EF553B",
           "#00cc96",
           "#ab63fa",
           "#FFA15A",
           "#19d3f3",
           "#FF6692",
           "#B6E880",
           "#FF97FF",
           "#FECB52"
          ],
          "font": {
           "color": "#2a3f5f"
          },
          "geo": {
           "bgcolor": "white",
           "lakecolor": "white",
           "landcolor": "#E5ECF6",
           "showlakes": true,
           "showland": true,
           "subunitcolor": "white"
          },
          "hoverlabel": {
           "align": "left"
          },
          "hovermode": "closest",
          "mapbox": {
           "style": "light"
          },
          "paper_bgcolor": "white",
          "plot_bgcolor": "#E5ECF6",
          "polar": {
           "angularaxis": {
            "gridcolor": "white",
            "linecolor": "white",
            "ticks": ""
           },
           "bgcolor": "#E5ECF6",
           "radialaxis": {
            "gridcolor": "white",
            "linecolor": "white",
            "ticks": ""
           }
          },
          "scene": {
           "xaxis": {
            "backgroundcolor": "#E5ECF6",
            "gridcolor": "white",
            "gridwidth": 2,
            "linecolor": "white",
            "showbackground": true,
            "ticks": "",
            "zerolinecolor": "white"
           },
           "yaxis": {
            "backgroundcolor": "#E5ECF6",
            "gridcolor": "white",
            "gridwidth": 2,
            "linecolor": "white",
            "showbackground": true,
            "ticks": "",
            "zerolinecolor": "white"
           },
           "zaxis": {
            "backgroundcolor": "#E5ECF6",
            "gridcolor": "white",
            "gridwidth": 2,
            "linecolor": "white",
            "showbackground": true,
            "ticks": "",
            "zerolinecolor": "white"
           }
          },
          "shapedefaults": {
           "line": {
            "color": "#2a3f5f"
           }
          },
          "ternary": {
           "aaxis": {
            "gridcolor": "white",
            "linecolor": "white",
            "ticks": ""
           },
           "baxis": {
            "gridcolor": "white",
            "linecolor": "white",
            "ticks": ""
           },
           "bgcolor": "#E5ECF6",
           "caxis": {
            "gridcolor": "white",
            "linecolor": "white",
            "ticks": ""
           }
          },
          "title": {
           "x": 0.05
          },
          "xaxis": {
           "automargin": true,
           "gridcolor": "white",
           "linecolor": "white",
           "ticks": "",
           "title": {
            "standoff": 15
           },
           "zerolinecolor": "white",
           "zerolinewidth": 2
          },
          "yaxis": {
           "automargin": true,
           "gridcolor": "white",
           "linecolor": "white",
           "ticks": "",
           "title": {
            "standoff": 15
           },
           "zerolinecolor": "white",
           "zerolinewidth": 2
          }
         }
        },
        "title": {
         "font": {
          "color": "#D9D9D9"
         },
         "text": "Top 20 trigrams in hotel description before removing stop words"
        },
        "xaxis": {
         "gridcolor": "#434343",
         "linecolor": "black",
         "showgrid": true,
         "tickfont": {
          "color": "#C2C2C2"
         },
         "title": {
          "font": {
           "color": "#D9D9D9"
          },
          "text": ""
         },
         "zerolinecolor": "#666570"
        },
        "yaxis": {
         "gridcolor": "#434343",
         "linecolor": "black",
         "showgrid": true,
         "tickfont": {
          "color": "#C2C2C2"
         },
         "title": {
          "font": {
           "color": "#D9D9D9"
          },
          "text": "Count"
         },
         "zerolinecolor": "#666570"
        }
       }
      },
      "text/html": [
       "<div>                            <div id=\"7e604e1b-03c6-4923-aa83-9fd65f54484e\" class=\"plotly-graph-div\" style=\"height:525px; width:100%;\"></div>            <script type=\"text/javascript\">                require([\"plotly\"], function(Plotly) {                    window.PLOTLYENV=window.PLOTLYENV || {};\n",
       "                    window.PLOTLYENV.BASE_URL='https://plot.ly';                                    if (document.getElementById(\"7e604e1b-03c6-4923-aa83-9fd65f54484e\")) {                    Plotly.newPlot(                        \"7e604e1b-03c6-4923-aa83-9fd65f54484e\",                        [{\"marker\":{\"color\":\"rgba(255, 153, 51, 0.6)\",\"line\":{\"color\":\"rgba(255, 153, 51, 1.0)\",\"width\":1}},\"name\":\"count\",\"orientation\":\"v\",\"text\":\"\",\"x\":[\"ch\\u1ed7 ngh\\u1ec9 n\\u00e0y\",\"t\\u1ea1i ch\\u1ed7 ngh\\u1ec9\",\"b\\u1ea1n ch\\u1ec9 c\\u1ea7n\",\"b\\u1ea1n \\u0111\\u1ee7 \\u0111i\\u1ec1u\",\"\\u0111\\u1ec3 ti\\u1ebft ki\\u1ec7m\",\"\\u0111i\\u1ec1u ki\\u1ec7n nh\\u1eadn\",\"ti\\u1ebft ki\\u1ec7m t\\u1ea1i\",\"n\\u00e0y b\\u1ea1n ch\\u1ec9\",\"nh\\u1eadn gi\\u1ea3m gi\\u00e1\",\"ngh\\u1ec9 n\\u00e0y b\\u1ea1n\",\"ki\\u1ec7n nh\\u1eadn gi\\u1ea3m\",\"ki\\u1ec7m t\\u1ea1i ch\\u1ed7\",\"gi\\u1ea3m gi\\u00e1 genius\",\"gi\\u00e1 genius t\\u1ea1i\",\"c\\u1ea7n \\u0111\\u0103ng nh\\u1eadp\",\"ch\\u1ec9 c\\u1ea7n \\u0111\\u0103ng\",\"\\u0111\\u1ee7 \\u0111i\\u1ec1u ki\\u1ec7n\",\"ph\\u00f2ng t\\u1eafm ri\\u00eang\",\"\\u0111\\u01b0\\u1ee3c trang b\\u1ecb\",\"m\\u00e0n h\\u00ecnh ph\\u1eb3ng\"],\"y\":[466,386,345,345,345,345,345,345,345,345,345,345,345,345,345,345,345,315,284,281],\"type\":\"bar\"}],                        {\"legend\":{\"bgcolor\":\"#151516\",\"font\":{\"color\":\"#D9D9D9\"}},\"paper_bgcolor\":\"#151516\",\"plot_bgcolor\":\"#151516\",\"template\":{\"data\":{\"barpolar\":[{\"marker\":{\"line\":{\"color\":\"#E5ECF6\",\"width\":0.5},\"pattern\":{\"fillmode\":\"overlay\",\"size\":10,\"solidity\":0.2}},\"type\":\"barpolar\"}],\"bar\":[{\"error_x\":{\"color\":\"#2a3f5f\"},\"error_y\":{\"color\":\"#2a3f5f\"},\"marker\":{\"line\":{\"color\":\"#E5ECF6\",\"width\":0.5},\"pattern\":{\"fillmode\":\"overlay\",\"size\":10,\"solidity\":0.2}},\"type\":\"bar\"}],\"carpet\":[{\"aaxis\":{\"endlinecolor\":\"#2a3f5f\",\"gridcolor\":\"white\",\"linecolor\":\"white\",\"minorgridcolor\":\"white\",\"startlinecolor\":\"#2a3f5f\"},\"baxis\":{\"endlinecolor\":\"#2a3f5f\",\"gridcolor\":\"white\",\"linecolor\":\"white\",\"minorgridcolor\":\"white\",\"startlinecolor\":\"#2a3f5f\"},\"type\":\"carpet\"}],\"choropleth\":[{\"colorbar\":{\"outlinewidth\":0,\"ticks\":\"\"},\"type\":\"choropleth\"}],\"contourcarpet\":[{\"colorbar\":{\"outlinewidth\":0,\"ticks\":\"\"},\"type\":\"contourcarpet\"}],\"contour\":[{\"colorbar\":{\"outlinewidth\":0,\"ticks\":\"\"},\"colorscale\":[[0.0,\"#0d0887\"],[0.1111111111111111,\"#46039f\"],[0.2222222222222222,\"#7201a8\"],[0.3333333333333333,\"#9c179e\"],[0.4444444444444444,\"#bd3786\"],[0.5555555555555556,\"#d8576b\"],[0.6666666666666666,\"#ed7953\"],[0.7777777777777778,\"#fb9f3a\"],[0.8888888888888888,\"#fdca26\"],[1.0,\"#f0f921\"]],\"type\":\"contour\"}],\"heatmapgl\":[{\"colorbar\":{\"outlinewidth\":0,\"ticks\":\"\"},\"colorscale\":[[0.0,\"#0d0887\"],[0.1111111111111111,\"#46039f\"],[0.2222222222222222,\"#7201a8\"],[0.3333333333333333,\"#9c179e\"],[0.4444444444444444,\"#bd3786\"],[0.5555555555555556,\"#d8576b\"],[0.6666666666666666,\"#ed7953\"],[0.7777777777777778,\"#fb9f3a\"],[0.8888888888888888,\"#fdca26\"],[1.0,\"#f0f921\"]],\"type\":\"heatmapgl\"}],\"heatmap\":[{\"colorbar\":{\"outlinewidth\":0,\"ticks\":\"\"},\"colorscale\":[[0.0,\"#0d0887\"],[0.1111111111111111,\"#46039f\"],[0.2222222222222222,\"#7201a8\"],[0.3333333333333333,\"#9c179e\"],[0.4444444444444444,\"#bd3786\"],[0.5555555555555556,\"#d8576b\"],[0.6666666666666666,\"#ed7953\"],[0.7777777777777778,\"#fb9f3a\"],[0.8888888888888888,\"#fdca26\"],[1.0,\"#f0f921\"]],\"type\":\"heatmap\"}],\"histogram2dcontour\":[{\"colorbar\":{\"outlinewidth\":0,\"ticks\":\"\"},\"colorscale\":[[0.0,\"#0d0887\"],[0.1111111111111111,\"#46039f\"],[0.2222222222222222,\"#7201a8\"],[0.3333333333333333,\"#9c179e\"],[0.4444444444444444,\"#bd3786\"],[0.5555555555555556,\"#d8576b\"],[0.6666666666666666,\"#ed7953\"],[0.7777777777777778,\"#fb9f3a\"],[0.8888888888888888,\"#fdca26\"],[1.0,\"#f0f921\"]],\"type\":\"histogram2dcontour\"}],\"histogram2d\":[{\"colorbar\":{\"outlinewidth\":0,\"ticks\":\"\"},\"colorscale\":[[0.0,\"#0d0887\"],[0.1111111111111111,\"#46039f\"],[0.2222222222222222,\"#7201a8\"],[0.3333333333333333,\"#9c179e\"],[0.4444444444444444,\"#bd3786\"],[0.5555555555555556,\"#d8576b\"],[0.6666666666666666,\"#ed7953\"],[0.7777777777777778,\"#fb9f3a\"],[0.8888888888888888,\"#fdca26\"],[1.0,\"#f0f921\"]],\"type\":\"histogram2d\"}],\"histogram\":[{\"marker\":{\"pattern\":{\"fillmode\":\"overlay\",\"size\":10,\"solidity\":0.2}},\"type\":\"histogram\"}],\"mesh3d\":[{\"colorbar\":{\"outlinewidth\":0,\"ticks\":\"\"},\"type\":\"mesh3d\"}],\"parcoords\":[{\"line\":{\"colorbar\":{\"outlinewidth\":0,\"ticks\":\"\"}},\"type\":\"parcoords\"}],\"pie\":[{\"automargin\":true,\"type\":\"pie\"}],\"scatter3d\":[{\"line\":{\"colorbar\":{\"outlinewidth\":0,\"ticks\":\"\"}},\"marker\":{\"colorbar\":{\"outlinewidth\":0,\"ticks\":\"\"}},\"type\":\"scatter3d\"}],\"scattercarpet\":[{\"marker\":{\"colorbar\":{\"outlinewidth\":0,\"ticks\":\"\"}},\"type\":\"scattercarpet\"}],\"scattergeo\":[{\"marker\":{\"colorbar\":{\"outlinewidth\":0,\"ticks\":\"\"}},\"type\":\"scattergeo\"}],\"scattergl\":[{\"marker\":{\"colorbar\":{\"outlinewidth\":0,\"ticks\":\"\"}},\"type\":\"scattergl\"}],\"scattermapbox\":[{\"marker\":{\"colorbar\":{\"outlinewidth\":0,\"ticks\":\"\"}},\"type\":\"scattermapbox\"}],\"scatterpolargl\":[{\"marker\":{\"colorbar\":{\"outlinewidth\":0,\"ticks\":\"\"}},\"type\":\"scatterpolargl\"}],\"scatterpolar\":[{\"marker\":{\"colorbar\":{\"outlinewidth\":0,\"ticks\":\"\"}},\"type\":\"scatterpolar\"}],\"scatter\":[{\"fillpattern\":{\"fillmode\":\"overlay\",\"size\":10,\"solidity\":0.2},\"type\":\"scatter\"}],\"scatterternary\":[{\"marker\":{\"colorbar\":{\"outlinewidth\":0,\"ticks\":\"\"}},\"type\":\"scatterternary\"}],\"surface\":[{\"colorbar\":{\"outlinewidth\":0,\"ticks\":\"\"},\"colorscale\":[[0.0,\"#0d0887\"],[0.1111111111111111,\"#46039f\"],[0.2222222222222222,\"#7201a8\"],[0.3333333333333333,\"#9c179e\"],[0.4444444444444444,\"#bd3786\"],[0.5555555555555556,\"#d8576b\"],[0.6666666666666666,\"#ed7953\"],[0.7777777777777778,\"#fb9f3a\"],[0.8888888888888888,\"#fdca26\"],[1.0,\"#f0f921\"]],\"type\":\"surface\"}],\"table\":[{\"cells\":{\"fill\":{\"color\":\"#EBF0F8\"},\"line\":{\"color\":\"white\"}},\"header\":{\"fill\":{\"color\":\"#C8D4E3\"},\"line\":{\"color\":\"white\"}},\"type\":\"table\"}]},\"layout\":{\"annotationdefaults\":{\"arrowcolor\":\"#2a3f5f\",\"arrowhead\":0,\"arrowwidth\":1},\"autotypenumbers\":\"strict\",\"coloraxis\":{\"colorbar\":{\"outlinewidth\":0,\"ticks\":\"\"}},\"colorscale\":{\"diverging\":[[0,\"#8e0152\"],[0.1,\"#c51b7d\"],[0.2,\"#de77ae\"],[0.3,\"#f1b6da\"],[0.4,\"#fde0ef\"],[0.5,\"#f7f7f7\"],[0.6,\"#e6f5d0\"],[0.7,\"#b8e186\"],[0.8,\"#7fbc41\"],[0.9,\"#4d9221\"],[1,\"#276419\"]],\"sequential\":[[0.0,\"#0d0887\"],[0.1111111111111111,\"#46039f\"],[0.2222222222222222,\"#7201a8\"],[0.3333333333333333,\"#9c179e\"],[0.4444444444444444,\"#bd3786\"],[0.5555555555555556,\"#d8576b\"],[0.6666666666666666,\"#ed7953\"],[0.7777777777777778,\"#fb9f3a\"],[0.8888888888888888,\"#fdca26\"],[1.0,\"#f0f921\"]],\"sequentialminus\":[[0.0,\"#0d0887\"],[0.1111111111111111,\"#46039f\"],[0.2222222222222222,\"#7201a8\"],[0.3333333333333333,\"#9c179e\"],[0.4444444444444444,\"#bd3786\"],[0.5555555555555556,\"#d8576b\"],[0.6666666666666666,\"#ed7953\"],[0.7777777777777778,\"#fb9f3a\"],[0.8888888888888888,\"#fdca26\"],[1.0,\"#f0f921\"]]},\"colorway\":[\"#636efa\",\"#EF553B\",\"#00cc96\",\"#ab63fa\",\"#FFA15A\",\"#19d3f3\",\"#FF6692\",\"#B6E880\",\"#FF97FF\",\"#FECB52\"],\"font\":{\"color\":\"#2a3f5f\"},\"geo\":{\"bgcolor\":\"white\",\"lakecolor\":\"white\",\"landcolor\":\"#E5ECF6\",\"showlakes\":true,\"showland\":true,\"subunitcolor\":\"white\"},\"hoverlabel\":{\"align\":\"left\"},\"hovermode\":\"closest\",\"mapbox\":{\"style\":\"light\"},\"paper_bgcolor\":\"white\",\"plot_bgcolor\":\"#E5ECF6\",\"polar\":{\"angularaxis\":{\"gridcolor\":\"white\",\"linecolor\":\"white\",\"ticks\":\"\"},\"bgcolor\":\"#E5ECF6\",\"radialaxis\":{\"gridcolor\":\"white\",\"linecolor\":\"white\",\"ticks\":\"\"}},\"scene\":{\"xaxis\":{\"backgroundcolor\":\"#E5ECF6\",\"gridcolor\":\"white\",\"gridwidth\":2,\"linecolor\":\"white\",\"showbackground\":true,\"ticks\":\"\",\"zerolinecolor\":\"white\"},\"yaxis\":{\"backgroundcolor\":\"#E5ECF6\",\"gridcolor\":\"white\",\"gridwidth\":2,\"linecolor\":\"white\",\"showbackground\":true,\"ticks\":\"\",\"zerolinecolor\":\"white\"},\"zaxis\":{\"backgroundcolor\":\"#E5ECF6\",\"gridcolor\":\"white\",\"gridwidth\":2,\"linecolor\":\"white\",\"showbackground\":true,\"ticks\":\"\",\"zerolinecolor\":\"white\"}},\"shapedefaults\":{\"line\":{\"color\":\"#2a3f5f\"}},\"ternary\":{\"aaxis\":{\"gridcolor\":\"white\",\"linecolor\":\"white\",\"ticks\":\"\"},\"baxis\":{\"gridcolor\":\"white\",\"linecolor\":\"white\",\"ticks\":\"\"},\"bgcolor\":\"#E5ECF6\",\"caxis\":{\"gridcolor\":\"white\",\"linecolor\":\"white\",\"ticks\":\"\"}},\"title\":{\"x\":0.05},\"xaxis\":{\"automargin\":true,\"gridcolor\":\"white\",\"linecolor\":\"white\",\"ticks\":\"\",\"title\":{\"standoff\":15},\"zerolinecolor\":\"white\",\"zerolinewidth\":2},\"yaxis\":{\"automargin\":true,\"gridcolor\":\"white\",\"linecolor\":\"white\",\"ticks\":\"\",\"title\":{\"standoff\":15},\"zerolinecolor\":\"white\",\"zerolinewidth\":2}}},\"title\":{\"font\":{\"color\":\"#D9D9D9\"},\"text\":\"Top 20 trigrams in hotel description before removing stop words\"},\"xaxis\":{\"gridcolor\":\"#434343\",\"linecolor\":\"black\",\"showgrid\":true,\"tickfont\":{\"color\":\"#C2C2C2\"},\"title\":{\"font\":{\"color\":\"#D9D9D9\"},\"text\":\"\"},\"zerolinecolor\":\"#666570\"},\"yaxis\":{\"gridcolor\":\"#434343\",\"linecolor\":\"black\",\"showgrid\":true,\"tickfont\":{\"color\":\"#C2C2C2\"},\"title\":{\"font\":{\"color\":\"#D9D9D9\"},\"text\":\"Count\"},\"zerolinecolor\":\"#666570\"}},                        {\"showLink\": true, \"linkText\": \"Export to plot.ly\", \"plotlyServerURL\": \"https://plot.ly\", \"responsive\": true}                    ).then(function(){\n",
       "                            \n",
       "var gd = document.getElementById('7e604e1b-03c6-4923-aa83-9fd65f54484e');\n",
       "var x = new MutationObserver(function (mutations, observer) {{\n",
       "        var display = window.getComputedStyle(gd).display;\n",
       "        if (!display || display === 'none') {{\n",
       "            console.log([gd, 'removed!']);\n",
       "            Plotly.purge(gd);\n",
       "            observer.disconnect();\n",
       "        }}\n",
       "}});\n",
       "\n",
       "// Listen for the removal of the full notebook cells\n",
       "var notebookContainer = gd.closest('#notebook-container');\n",
       "if (notebookContainer) {{\n",
       "    x.observe(notebookContainer, {childList: true});\n",
       "}}\n",
       "\n",
       "// Listen for the clearing of the current output cell\n",
       "var outputEl = gd.closest('.output');\n",
       "if (outputEl) {{\n",
       "    x.observe(outputEl, {childList: true});\n",
       "}}\n",
       "\n",
       "                        })                };                });            </script>        </div>"
      ]
     },
     "metadata": {},
     "output_type": "display_data"
    }
   ],
   "source": [
    "def get_top_n_trigram(corpus, n=None):\n",
    "    vec = CountVectorizer(ngram_range=(3, 3)).fit(corpus)\n",
    "    bag_of_words = vec.transform(corpus)\n",
    "    sum_words = bag_of_words.sum(axis=0) \n",
    "    words_freq = [(word, sum_words[0, idx]) for word, idx in vec.vocabulary_.items()]\n",
    "    words_freq =sorted(words_freq, key = lambda x: x[1], reverse=True)\n",
    "    return words_freq[:n]\n",
    "common_words = get_top_n_trigram(df['descriptions'], 20)\n",
    "df5 = pd.DataFrame(common_words, columns = ['descriptions' , 'count'])\n",
    "df5.groupby('descriptions').sum()['count'].sort_values(ascending=False).iplot(kind='bar', yTitle='Count', linecolor='black', title='Top 20 trigrams in hotel description before removing stop words')"
   ]
  },
  {
   "cell_type": "code",
   "execution_count": 87,
   "id": "a1ba84e1",
   "metadata": {},
   "outputs": [
    {
     "data": {
      "application/vnd.plotly.v1+json": {
       "config": {
        "linkText": "Export to plot.ly",
        "plotlyServerURL": "https://plot.ly",
        "showLink": true
       },
       "data": [
        {
         "marker": {
          "color": "rgba(255, 153, 51, 0.6)",
          "line": {
           "color": "rgba(255, 153, 51, 1.0)",
           "width": 1
          }
         },
         "name": "count",
         "orientation": "v",
         "text": "",
         "type": "bar",
         "x": [
          "tại chỗ nghỉ này",
          "nghỉ này bạn chỉ",
          "bạn chỉ cần đăng",
          "để tiết kiệm tại",
          "điều kiện nhận giảm",
          "tiết kiệm tại chỗ",
          "này bạn chỉ cần",
          "nhận giảm giá genius",
          "đủ điều kiện nhận",
          "kiện nhận giảm giá",
          "kiệm tại chỗ nghỉ",
          "giảm giá genius tại",
          "chỗ nghỉ này bạn",
          "chỉ cần đăng nhập",
          "bạn đủ điều kiện",
          "lễ tân 24 giờ",
          "cung cấp dịch vụ",
          "nằm trong bán kính",
          "sân bay gần nhất",
          "bay gần nhất là"
         ],
         "y": [
          350,
          345,
          345,
          345,
          345,
          345,
          345,
          345,
          345,
          345,
          345,
          345,
          345,
          345,
          345,
          245,
          230,
          229,
          225,
          225
         ]
        }
       ],
       "layout": {
        "legend": {
         "bgcolor": "#151516",
         "font": {
          "color": "#D9D9D9"
         }
        },
        "paper_bgcolor": "#151516",
        "plot_bgcolor": "#151516",
        "template": {
         "data": {
          "bar": [
           {
            "error_x": {
             "color": "#2a3f5f"
            },
            "error_y": {
             "color": "#2a3f5f"
            },
            "marker": {
             "line": {
              "color": "#E5ECF6",
              "width": 0.5
             },
             "pattern": {
              "fillmode": "overlay",
              "size": 10,
              "solidity": 0.2
             }
            },
            "type": "bar"
           }
          ],
          "barpolar": [
           {
            "marker": {
             "line": {
              "color": "#E5ECF6",
              "width": 0.5
             },
             "pattern": {
              "fillmode": "overlay",
              "size": 10,
              "solidity": 0.2
             }
            },
            "type": "barpolar"
           }
          ],
          "carpet": [
           {
            "aaxis": {
             "endlinecolor": "#2a3f5f",
             "gridcolor": "white",
             "linecolor": "white",
             "minorgridcolor": "white",
             "startlinecolor": "#2a3f5f"
            },
            "baxis": {
             "endlinecolor": "#2a3f5f",
             "gridcolor": "white",
             "linecolor": "white",
             "minorgridcolor": "white",
             "startlinecolor": "#2a3f5f"
            },
            "type": "carpet"
           }
          ],
          "choropleth": [
           {
            "colorbar": {
             "outlinewidth": 0,
             "ticks": ""
            },
            "type": "choropleth"
           }
          ],
          "contour": [
           {
            "colorbar": {
             "outlinewidth": 0,
             "ticks": ""
            },
            "colorscale": [
             [
              0,
              "#0d0887"
             ],
             [
              0.1111111111111111,
              "#46039f"
             ],
             [
              0.2222222222222222,
              "#7201a8"
             ],
             [
              0.3333333333333333,
              "#9c179e"
             ],
             [
              0.4444444444444444,
              "#bd3786"
             ],
             [
              0.5555555555555556,
              "#d8576b"
             ],
             [
              0.6666666666666666,
              "#ed7953"
             ],
             [
              0.7777777777777778,
              "#fb9f3a"
             ],
             [
              0.8888888888888888,
              "#fdca26"
             ],
             [
              1,
              "#f0f921"
             ]
            ],
            "type": "contour"
           }
          ],
          "contourcarpet": [
           {
            "colorbar": {
             "outlinewidth": 0,
             "ticks": ""
            },
            "type": "contourcarpet"
           }
          ],
          "heatmap": [
           {
            "colorbar": {
             "outlinewidth": 0,
             "ticks": ""
            },
            "colorscale": [
             [
              0,
              "#0d0887"
             ],
             [
              0.1111111111111111,
              "#46039f"
             ],
             [
              0.2222222222222222,
              "#7201a8"
             ],
             [
              0.3333333333333333,
              "#9c179e"
             ],
             [
              0.4444444444444444,
              "#bd3786"
             ],
             [
              0.5555555555555556,
              "#d8576b"
             ],
             [
              0.6666666666666666,
              "#ed7953"
             ],
             [
              0.7777777777777778,
              "#fb9f3a"
             ],
             [
              0.8888888888888888,
              "#fdca26"
             ],
             [
              1,
              "#f0f921"
             ]
            ],
            "type": "heatmap"
           }
          ],
          "heatmapgl": [
           {
            "colorbar": {
             "outlinewidth": 0,
             "ticks": ""
            },
            "colorscale": [
             [
              0,
              "#0d0887"
             ],
             [
              0.1111111111111111,
              "#46039f"
             ],
             [
              0.2222222222222222,
              "#7201a8"
             ],
             [
              0.3333333333333333,
              "#9c179e"
             ],
             [
              0.4444444444444444,
              "#bd3786"
             ],
             [
              0.5555555555555556,
              "#d8576b"
             ],
             [
              0.6666666666666666,
              "#ed7953"
             ],
             [
              0.7777777777777778,
              "#fb9f3a"
             ],
             [
              0.8888888888888888,
              "#fdca26"
             ],
             [
              1,
              "#f0f921"
             ]
            ],
            "type": "heatmapgl"
           }
          ],
          "histogram": [
           {
            "marker": {
             "pattern": {
              "fillmode": "overlay",
              "size": 10,
              "solidity": 0.2
             }
            },
            "type": "histogram"
           }
          ],
          "histogram2d": [
           {
            "colorbar": {
             "outlinewidth": 0,
             "ticks": ""
            },
            "colorscale": [
             [
              0,
              "#0d0887"
             ],
             [
              0.1111111111111111,
              "#46039f"
             ],
             [
              0.2222222222222222,
              "#7201a8"
             ],
             [
              0.3333333333333333,
              "#9c179e"
             ],
             [
              0.4444444444444444,
              "#bd3786"
             ],
             [
              0.5555555555555556,
              "#d8576b"
             ],
             [
              0.6666666666666666,
              "#ed7953"
             ],
             [
              0.7777777777777778,
              "#fb9f3a"
             ],
             [
              0.8888888888888888,
              "#fdca26"
             ],
             [
              1,
              "#f0f921"
             ]
            ],
            "type": "histogram2d"
           }
          ],
          "histogram2dcontour": [
           {
            "colorbar": {
             "outlinewidth": 0,
             "ticks": ""
            },
            "colorscale": [
             [
              0,
              "#0d0887"
             ],
             [
              0.1111111111111111,
              "#46039f"
             ],
             [
              0.2222222222222222,
              "#7201a8"
             ],
             [
              0.3333333333333333,
              "#9c179e"
             ],
             [
              0.4444444444444444,
              "#bd3786"
             ],
             [
              0.5555555555555556,
              "#d8576b"
             ],
             [
              0.6666666666666666,
              "#ed7953"
             ],
             [
              0.7777777777777778,
              "#fb9f3a"
             ],
             [
              0.8888888888888888,
              "#fdca26"
             ],
             [
              1,
              "#f0f921"
             ]
            ],
            "type": "histogram2dcontour"
           }
          ],
          "mesh3d": [
           {
            "colorbar": {
             "outlinewidth": 0,
             "ticks": ""
            },
            "type": "mesh3d"
           }
          ],
          "parcoords": [
           {
            "line": {
             "colorbar": {
              "outlinewidth": 0,
              "ticks": ""
             }
            },
            "type": "parcoords"
           }
          ],
          "pie": [
           {
            "automargin": true,
            "type": "pie"
           }
          ],
          "scatter": [
           {
            "fillpattern": {
             "fillmode": "overlay",
             "size": 10,
             "solidity": 0.2
            },
            "type": "scatter"
           }
          ],
          "scatter3d": [
           {
            "line": {
             "colorbar": {
              "outlinewidth": 0,
              "ticks": ""
             }
            },
            "marker": {
             "colorbar": {
              "outlinewidth": 0,
              "ticks": ""
             }
            },
            "type": "scatter3d"
           }
          ],
          "scattercarpet": [
           {
            "marker": {
             "colorbar": {
              "outlinewidth": 0,
              "ticks": ""
             }
            },
            "type": "scattercarpet"
           }
          ],
          "scattergeo": [
           {
            "marker": {
             "colorbar": {
              "outlinewidth": 0,
              "ticks": ""
             }
            },
            "type": "scattergeo"
           }
          ],
          "scattergl": [
           {
            "marker": {
             "colorbar": {
              "outlinewidth": 0,
              "ticks": ""
             }
            },
            "type": "scattergl"
           }
          ],
          "scattermapbox": [
           {
            "marker": {
             "colorbar": {
              "outlinewidth": 0,
              "ticks": ""
             }
            },
            "type": "scattermapbox"
           }
          ],
          "scatterpolar": [
           {
            "marker": {
             "colorbar": {
              "outlinewidth": 0,
              "ticks": ""
             }
            },
            "type": "scatterpolar"
           }
          ],
          "scatterpolargl": [
           {
            "marker": {
             "colorbar": {
              "outlinewidth": 0,
              "ticks": ""
             }
            },
            "type": "scatterpolargl"
           }
          ],
          "scatterternary": [
           {
            "marker": {
             "colorbar": {
              "outlinewidth": 0,
              "ticks": ""
             }
            },
            "type": "scatterternary"
           }
          ],
          "surface": [
           {
            "colorbar": {
             "outlinewidth": 0,
             "ticks": ""
            },
            "colorscale": [
             [
              0,
              "#0d0887"
             ],
             [
              0.1111111111111111,
              "#46039f"
             ],
             [
              0.2222222222222222,
              "#7201a8"
             ],
             [
              0.3333333333333333,
              "#9c179e"
             ],
             [
              0.4444444444444444,
              "#bd3786"
             ],
             [
              0.5555555555555556,
              "#d8576b"
             ],
             [
              0.6666666666666666,
              "#ed7953"
             ],
             [
              0.7777777777777778,
              "#fb9f3a"
             ],
             [
              0.8888888888888888,
              "#fdca26"
             ],
             [
              1,
              "#f0f921"
             ]
            ],
            "type": "surface"
           }
          ],
          "table": [
           {
            "cells": {
             "fill": {
              "color": "#EBF0F8"
             },
             "line": {
              "color": "white"
             }
            },
            "header": {
             "fill": {
              "color": "#C8D4E3"
             },
             "line": {
              "color": "white"
             }
            },
            "type": "table"
           }
          ]
         },
         "layout": {
          "annotationdefaults": {
           "arrowcolor": "#2a3f5f",
           "arrowhead": 0,
           "arrowwidth": 1
          },
          "autotypenumbers": "strict",
          "coloraxis": {
           "colorbar": {
            "outlinewidth": 0,
            "ticks": ""
           }
          },
          "colorscale": {
           "diverging": [
            [
             0,
             "#8e0152"
            ],
            [
             0.1,
             "#c51b7d"
            ],
            [
             0.2,
             "#de77ae"
            ],
            [
             0.3,
             "#f1b6da"
            ],
            [
             0.4,
             "#fde0ef"
            ],
            [
             0.5,
             "#f7f7f7"
            ],
            [
             0.6,
             "#e6f5d0"
            ],
            [
             0.7,
             "#b8e186"
            ],
            [
             0.8,
             "#7fbc41"
            ],
            [
             0.9,
             "#4d9221"
            ],
            [
             1,
             "#276419"
            ]
           ],
           "sequential": [
            [
             0,
             "#0d0887"
            ],
            [
             0.1111111111111111,
             "#46039f"
            ],
            [
             0.2222222222222222,
             "#7201a8"
            ],
            [
             0.3333333333333333,
             "#9c179e"
            ],
            [
             0.4444444444444444,
             "#bd3786"
            ],
            [
             0.5555555555555556,
             "#d8576b"
            ],
            [
             0.6666666666666666,
             "#ed7953"
            ],
            [
             0.7777777777777778,
             "#fb9f3a"
            ],
            [
             0.8888888888888888,
             "#fdca26"
            ],
            [
             1,
             "#f0f921"
            ]
           ],
           "sequentialminus": [
            [
             0,
             "#0d0887"
            ],
            [
             0.1111111111111111,
             "#46039f"
            ],
            [
             0.2222222222222222,
             "#7201a8"
            ],
            [
             0.3333333333333333,
             "#9c179e"
            ],
            [
             0.4444444444444444,
             "#bd3786"
            ],
            [
             0.5555555555555556,
             "#d8576b"
            ],
            [
             0.6666666666666666,
             "#ed7953"
            ],
            [
             0.7777777777777778,
             "#fb9f3a"
            ],
            [
             0.8888888888888888,
             "#fdca26"
            ],
            [
             1,
             "#f0f921"
            ]
           ]
          },
          "colorway": [
           "#636efa",
           "#EF553B",
           "#00cc96",
           "#ab63fa",
           "#FFA15A",
           "#19d3f3",
           "#FF6692",
           "#B6E880",
           "#FF97FF",
           "#FECB52"
          ],
          "font": {
           "color": "#2a3f5f"
          },
          "geo": {
           "bgcolor": "white",
           "lakecolor": "white",
           "landcolor": "#E5ECF6",
           "showlakes": true,
           "showland": true,
           "subunitcolor": "white"
          },
          "hoverlabel": {
           "align": "left"
          },
          "hovermode": "closest",
          "mapbox": {
           "style": "light"
          },
          "paper_bgcolor": "white",
          "plot_bgcolor": "#E5ECF6",
          "polar": {
           "angularaxis": {
            "gridcolor": "white",
            "linecolor": "white",
            "ticks": ""
           },
           "bgcolor": "#E5ECF6",
           "radialaxis": {
            "gridcolor": "white",
            "linecolor": "white",
            "ticks": ""
           }
          },
          "scene": {
           "xaxis": {
            "backgroundcolor": "#E5ECF6",
            "gridcolor": "white",
            "gridwidth": 2,
            "linecolor": "white",
            "showbackground": true,
            "ticks": "",
            "zerolinecolor": "white"
           },
           "yaxis": {
            "backgroundcolor": "#E5ECF6",
            "gridcolor": "white",
            "gridwidth": 2,
            "linecolor": "white",
            "showbackground": true,
            "ticks": "",
            "zerolinecolor": "white"
           },
           "zaxis": {
            "backgroundcolor": "#E5ECF6",
            "gridcolor": "white",
            "gridwidth": 2,
            "linecolor": "white",
            "showbackground": true,
            "ticks": "",
            "zerolinecolor": "white"
           }
          },
          "shapedefaults": {
           "line": {
            "color": "#2a3f5f"
           }
          },
          "ternary": {
           "aaxis": {
            "gridcolor": "white",
            "linecolor": "white",
            "ticks": ""
           },
           "baxis": {
            "gridcolor": "white",
            "linecolor": "white",
            "ticks": ""
           },
           "bgcolor": "#E5ECF6",
           "caxis": {
            "gridcolor": "white",
            "linecolor": "white",
            "ticks": ""
           }
          },
          "title": {
           "x": 0.05
          },
          "xaxis": {
           "automargin": true,
           "gridcolor": "white",
           "linecolor": "white",
           "ticks": "",
           "title": {
            "standoff": 15
           },
           "zerolinecolor": "white",
           "zerolinewidth": 2
          },
          "yaxis": {
           "automargin": true,
           "gridcolor": "white",
           "linecolor": "white",
           "ticks": "",
           "title": {
            "standoff": 15
           },
           "zerolinecolor": "white",
           "zerolinewidth": 2
          }
         }
        },
        "title": {
         "font": {
          "color": "#D9D9D9"
         },
         "text": "Top 20 trigrams in hotel description before removing stop words"
        },
        "xaxis": {
         "gridcolor": "#434343",
         "linecolor": "black",
         "showgrid": true,
         "tickfont": {
          "color": "#C2C2C2"
         },
         "title": {
          "font": {
           "color": "#D9D9D9"
          },
          "text": ""
         },
         "zerolinecolor": "#666570"
        },
        "yaxis": {
         "gridcolor": "#434343",
         "linecolor": "black",
         "showgrid": true,
         "tickfont": {
          "color": "#C2C2C2"
         },
         "title": {
          "font": {
           "color": "#D9D9D9"
          },
          "text": "Count"
         },
         "zerolinecolor": "#666570"
        }
       }
      },
      "text/html": [
       "<div>                            <div id=\"bb25e122-3868-4274-a9b7-f4e450ba9f85\" class=\"plotly-graph-div\" style=\"height:525px; width:100%;\"></div>            <script type=\"text/javascript\">                require([\"plotly\"], function(Plotly) {                    window.PLOTLYENV=window.PLOTLYENV || {};\n",
       "                    window.PLOTLYENV.BASE_URL='https://plot.ly';                                    if (document.getElementById(\"bb25e122-3868-4274-a9b7-f4e450ba9f85\")) {                    Plotly.newPlot(                        \"bb25e122-3868-4274-a9b7-f4e450ba9f85\",                        [{\"marker\":{\"color\":\"rgba(255, 153, 51, 0.6)\",\"line\":{\"color\":\"rgba(255, 153, 51, 1.0)\",\"width\":1}},\"name\":\"count\",\"orientation\":\"v\",\"text\":\"\",\"x\":[\"t\\u1ea1i ch\\u1ed7 ngh\\u1ec9 n\\u00e0y\",\"ngh\\u1ec9 n\\u00e0y b\\u1ea1n ch\\u1ec9\",\"b\\u1ea1n ch\\u1ec9 c\\u1ea7n \\u0111\\u0103ng\",\"\\u0111\\u1ec3 ti\\u1ebft ki\\u1ec7m t\\u1ea1i\",\"\\u0111i\\u1ec1u ki\\u1ec7n nh\\u1eadn gi\\u1ea3m\",\"ti\\u1ebft ki\\u1ec7m t\\u1ea1i ch\\u1ed7\",\"n\\u00e0y b\\u1ea1n ch\\u1ec9 c\\u1ea7n\",\"nh\\u1eadn gi\\u1ea3m gi\\u00e1 genius\",\"\\u0111\\u1ee7 \\u0111i\\u1ec1u ki\\u1ec7n nh\\u1eadn\",\"ki\\u1ec7n nh\\u1eadn gi\\u1ea3m gi\\u00e1\",\"ki\\u1ec7m t\\u1ea1i ch\\u1ed7 ngh\\u1ec9\",\"gi\\u1ea3m gi\\u00e1 genius t\\u1ea1i\",\"ch\\u1ed7 ngh\\u1ec9 n\\u00e0y b\\u1ea1n\",\"ch\\u1ec9 c\\u1ea7n \\u0111\\u0103ng nh\\u1eadp\",\"b\\u1ea1n \\u0111\\u1ee7 \\u0111i\\u1ec1u ki\\u1ec7n\",\"l\\u1ec5 t\\u00e2n 24 gi\\u1edd\",\"cung c\\u1ea5p d\\u1ecbch v\\u1ee5\",\"n\\u1eb1m trong b\\u00e1n k\\u00ednh\",\"s\\u00e2n bay g\\u1ea7n nh\\u1ea5t\",\"bay g\\u1ea7n nh\\u1ea5t l\\u00e0\"],\"y\":[350,345,345,345,345,345,345,345,345,345,345,345,345,345,345,245,230,229,225,225],\"type\":\"bar\"}],                        {\"legend\":{\"bgcolor\":\"#151516\",\"font\":{\"color\":\"#D9D9D9\"}},\"paper_bgcolor\":\"#151516\",\"plot_bgcolor\":\"#151516\",\"template\":{\"data\":{\"barpolar\":[{\"marker\":{\"line\":{\"color\":\"#E5ECF6\",\"width\":0.5},\"pattern\":{\"fillmode\":\"overlay\",\"size\":10,\"solidity\":0.2}},\"type\":\"barpolar\"}],\"bar\":[{\"error_x\":{\"color\":\"#2a3f5f\"},\"error_y\":{\"color\":\"#2a3f5f\"},\"marker\":{\"line\":{\"color\":\"#E5ECF6\",\"width\":0.5},\"pattern\":{\"fillmode\":\"overlay\",\"size\":10,\"solidity\":0.2}},\"type\":\"bar\"}],\"carpet\":[{\"aaxis\":{\"endlinecolor\":\"#2a3f5f\",\"gridcolor\":\"white\",\"linecolor\":\"white\",\"minorgridcolor\":\"white\",\"startlinecolor\":\"#2a3f5f\"},\"baxis\":{\"endlinecolor\":\"#2a3f5f\",\"gridcolor\":\"white\",\"linecolor\":\"white\",\"minorgridcolor\":\"white\",\"startlinecolor\":\"#2a3f5f\"},\"type\":\"carpet\"}],\"choropleth\":[{\"colorbar\":{\"outlinewidth\":0,\"ticks\":\"\"},\"type\":\"choropleth\"}],\"contourcarpet\":[{\"colorbar\":{\"outlinewidth\":0,\"ticks\":\"\"},\"type\":\"contourcarpet\"}],\"contour\":[{\"colorbar\":{\"outlinewidth\":0,\"ticks\":\"\"},\"colorscale\":[[0.0,\"#0d0887\"],[0.1111111111111111,\"#46039f\"],[0.2222222222222222,\"#7201a8\"],[0.3333333333333333,\"#9c179e\"],[0.4444444444444444,\"#bd3786\"],[0.5555555555555556,\"#d8576b\"],[0.6666666666666666,\"#ed7953\"],[0.7777777777777778,\"#fb9f3a\"],[0.8888888888888888,\"#fdca26\"],[1.0,\"#f0f921\"]],\"type\":\"contour\"}],\"heatmapgl\":[{\"colorbar\":{\"outlinewidth\":0,\"ticks\":\"\"},\"colorscale\":[[0.0,\"#0d0887\"],[0.1111111111111111,\"#46039f\"],[0.2222222222222222,\"#7201a8\"],[0.3333333333333333,\"#9c179e\"],[0.4444444444444444,\"#bd3786\"],[0.5555555555555556,\"#d8576b\"],[0.6666666666666666,\"#ed7953\"],[0.7777777777777778,\"#fb9f3a\"],[0.8888888888888888,\"#fdca26\"],[1.0,\"#f0f921\"]],\"type\":\"heatmapgl\"}],\"heatmap\":[{\"colorbar\":{\"outlinewidth\":0,\"ticks\":\"\"},\"colorscale\":[[0.0,\"#0d0887\"],[0.1111111111111111,\"#46039f\"],[0.2222222222222222,\"#7201a8\"],[0.3333333333333333,\"#9c179e\"],[0.4444444444444444,\"#bd3786\"],[0.5555555555555556,\"#d8576b\"],[0.6666666666666666,\"#ed7953\"],[0.7777777777777778,\"#fb9f3a\"],[0.8888888888888888,\"#fdca26\"],[1.0,\"#f0f921\"]],\"type\":\"heatmap\"}],\"histogram2dcontour\":[{\"colorbar\":{\"outlinewidth\":0,\"ticks\":\"\"},\"colorscale\":[[0.0,\"#0d0887\"],[0.1111111111111111,\"#46039f\"],[0.2222222222222222,\"#7201a8\"],[0.3333333333333333,\"#9c179e\"],[0.4444444444444444,\"#bd3786\"],[0.5555555555555556,\"#d8576b\"],[0.6666666666666666,\"#ed7953\"],[0.7777777777777778,\"#fb9f3a\"],[0.8888888888888888,\"#fdca26\"],[1.0,\"#f0f921\"]],\"type\":\"histogram2dcontour\"}],\"histogram2d\":[{\"colorbar\":{\"outlinewidth\":0,\"ticks\":\"\"},\"colorscale\":[[0.0,\"#0d0887\"],[0.1111111111111111,\"#46039f\"],[0.2222222222222222,\"#7201a8\"],[0.3333333333333333,\"#9c179e\"],[0.4444444444444444,\"#bd3786\"],[0.5555555555555556,\"#d8576b\"],[0.6666666666666666,\"#ed7953\"],[0.7777777777777778,\"#fb9f3a\"],[0.8888888888888888,\"#fdca26\"],[1.0,\"#f0f921\"]],\"type\":\"histogram2d\"}],\"histogram\":[{\"marker\":{\"pattern\":{\"fillmode\":\"overlay\",\"size\":10,\"solidity\":0.2}},\"type\":\"histogram\"}],\"mesh3d\":[{\"colorbar\":{\"outlinewidth\":0,\"ticks\":\"\"},\"type\":\"mesh3d\"}],\"parcoords\":[{\"line\":{\"colorbar\":{\"outlinewidth\":0,\"ticks\":\"\"}},\"type\":\"parcoords\"}],\"pie\":[{\"automargin\":true,\"type\":\"pie\"}],\"scatter3d\":[{\"line\":{\"colorbar\":{\"outlinewidth\":0,\"ticks\":\"\"}},\"marker\":{\"colorbar\":{\"outlinewidth\":0,\"ticks\":\"\"}},\"type\":\"scatter3d\"}],\"scattercarpet\":[{\"marker\":{\"colorbar\":{\"outlinewidth\":0,\"ticks\":\"\"}},\"type\":\"scattercarpet\"}],\"scattergeo\":[{\"marker\":{\"colorbar\":{\"outlinewidth\":0,\"ticks\":\"\"}},\"type\":\"scattergeo\"}],\"scattergl\":[{\"marker\":{\"colorbar\":{\"outlinewidth\":0,\"ticks\":\"\"}},\"type\":\"scattergl\"}],\"scattermapbox\":[{\"marker\":{\"colorbar\":{\"outlinewidth\":0,\"ticks\":\"\"}},\"type\":\"scattermapbox\"}],\"scatterpolargl\":[{\"marker\":{\"colorbar\":{\"outlinewidth\":0,\"ticks\":\"\"}},\"type\":\"scatterpolargl\"}],\"scatterpolar\":[{\"marker\":{\"colorbar\":{\"outlinewidth\":0,\"ticks\":\"\"}},\"type\":\"scatterpolar\"}],\"scatter\":[{\"fillpattern\":{\"fillmode\":\"overlay\",\"size\":10,\"solidity\":0.2},\"type\":\"scatter\"}],\"scatterternary\":[{\"marker\":{\"colorbar\":{\"outlinewidth\":0,\"ticks\":\"\"}},\"type\":\"scatterternary\"}],\"surface\":[{\"colorbar\":{\"outlinewidth\":0,\"ticks\":\"\"},\"colorscale\":[[0.0,\"#0d0887\"],[0.1111111111111111,\"#46039f\"],[0.2222222222222222,\"#7201a8\"],[0.3333333333333333,\"#9c179e\"],[0.4444444444444444,\"#bd3786\"],[0.5555555555555556,\"#d8576b\"],[0.6666666666666666,\"#ed7953\"],[0.7777777777777778,\"#fb9f3a\"],[0.8888888888888888,\"#fdca26\"],[1.0,\"#f0f921\"]],\"type\":\"surface\"}],\"table\":[{\"cells\":{\"fill\":{\"color\":\"#EBF0F8\"},\"line\":{\"color\":\"white\"}},\"header\":{\"fill\":{\"color\":\"#C8D4E3\"},\"line\":{\"color\":\"white\"}},\"type\":\"table\"}]},\"layout\":{\"annotationdefaults\":{\"arrowcolor\":\"#2a3f5f\",\"arrowhead\":0,\"arrowwidth\":1},\"autotypenumbers\":\"strict\",\"coloraxis\":{\"colorbar\":{\"outlinewidth\":0,\"ticks\":\"\"}},\"colorscale\":{\"diverging\":[[0,\"#8e0152\"],[0.1,\"#c51b7d\"],[0.2,\"#de77ae\"],[0.3,\"#f1b6da\"],[0.4,\"#fde0ef\"],[0.5,\"#f7f7f7\"],[0.6,\"#e6f5d0\"],[0.7,\"#b8e186\"],[0.8,\"#7fbc41\"],[0.9,\"#4d9221\"],[1,\"#276419\"]],\"sequential\":[[0.0,\"#0d0887\"],[0.1111111111111111,\"#46039f\"],[0.2222222222222222,\"#7201a8\"],[0.3333333333333333,\"#9c179e\"],[0.4444444444444444,\"#bd3786\"],[0.5555555555555556,\"#d8576b\"],[0.6666666666666666,\"#ed7953\"],[0.7777777777777778,\"#fb9f3a\"],[0.8888888888888888,\"#fdca26\"],[1.0,\"#f0f921\"]],\"sequentialminus\":[[0.0,\"#0d0887\"],[0.1111111111111111,\"#46039f\"],[0.2222222222222222,\"#7201a8\"],[0.3333333333333333,\"#9c179e\"],[0.4444444444444444,\"#bd3786\"],[0.5555555555555556,\"#d8576b\"],[0.6666666666666666,\"#ed7953\"],[0.7777777777777778,\"#fb9f3a\"],[0.8888888888888888,\"#fdca26\"],[1.0,\"#f0f921\"]]},\"colorway\":[\"#636efa\",\"#EF553B\",\"#00cc96\",\"#ab63fa\",\"#FFA15A\",\"#19d3f3\",\"#FF6692\",\"#B6E880\",\"#FF97FF\",\"#FECB52\"],\"font\":{\"color\":\"#2a3f5f\"},\"geo\":{\"bgcolor\":\"white\",\"lakecolor\":\"white\",\"landcolor\":\"#E5ECF6\",\"showlakes\":true,\"showland\":true,\"subunitcolor\":\"white\"},\"hoverlabel\":{\"align\":\"left\"},\"hovermode\":\"closest\",\"mapbox\":{\"style\":\"light\"},\"paper_bgcolor\":\"white\",\"plot_bgcolor\":\"#E5ECF6\",\"polar\":{\"angularaxis\":{\"gridcolor\":\"white\",\"linecolor\":\"white\",\"ticks\":\"\"},\"bgcolor\":\"#E5ECF6\",\"radialaxis\":{\"gridcolor\":\"white\",\"linecolor\":\"white\",\"ticks\":\"\"}},\"scene\":{\"xaxis\":{\"backgroundcolor\":\"#E5ECF6\",\"gridcolor\":\"white\",\"gridwidth\":2,\"linecolor\":\"white\",\"showbackground\":true,\"ticks\":\"\",\"zerolinecolor\":\"white\"},\"yaxis\":{\"backgroundcolor\":\"#E5ECF6\",\"gridcolor\":\"white\",\"gridwidth\":2,\"linecolor\":\"white\",\"showbackground\":true,\"ticks\":\"\",\"zerolinecolor\":\"white\"},\"zaxis\":{\"backgroundcolor\":\"#E5ECF6\",\"gridcolor\":\"white\",\"gridwidth\":2,\"linecolor\":\"white\",\"showbackground\":true,\"ticks\":\"\",\"zerolinecolor\":\"white\"}},\"shapedefaults\":{\"line\":{\"color\":\"#2a3f5f\"}},\"ternary\":{\"aaxis\":{\"gridcolor\":\"white\",\"linecolor\":\"white\",\"ticks\":\"\"},\"baxis\":{\"gridcolor\":\"white\",\"linecolor\":\"white\",\"ticks\":\"\"},\"bgcolor\":\"#E5ECF6\",\"caxis\":{\"gridcolor\":\"white\",\"linecolor\":\"white\",\"ticks\":\"\"}},\"title\":{\"x\":0.05},\"xaxis\":{\"automargin\":true,\"gridcolor\":\"white\",\"linecolor\":\"white\",\"ticks\":\"\",\"title\":{\"standoff\":15},\"zerolinecolor\":\"white\",\"zerolinewidth\":2},\"yaxis\":{\"automargin\":true,\"gridcolor\":\"white\",\"linecolor\":\"white\",\"ticks\":\"\",\"title\":{\"standoff\":15},\"zerolinecolor\":\"white\",\"zerolinewidth\":2}}},\"title\":{\"font\":{\"color\":\"#D9D9D9\"},\"text\":\"Top 20 trigrams in hotel description before removing stop words\"},\"xaxis\":{\"gridcolor\":\"#434343\",\"linecolor\":\"black\",\"showgrid\":true,\"tickfont\":{\"color\":\"#C2C2C2\"},\"title\":{\"font\":{\"color\":\"#D9D9D9\"},\"text\":\"\"},\"zerolinecolor\":\"#666570\"},\"yaxis\":{\"gridcolor\":\"#434343\",\"linecolor\":\"black\",\"showgrid\":true,\"tickfont\":{\"color\":\"#C2C2C2\"},\"title\":{\"font\":{\"color\":\"#D9D9D9\"},\"text\":\"Count\"},\"zerolinecolor\":\"#666570\"}},                        {\"showLink\": true, \"linkText\": \"Export to plot.ly\", \"plotlyServerURL\": \"https://plot.ly\", \"responsive\": true}                    ).then(function(){\n",
       "                            \n",
       "var gd = document.getElementById('bb25e122-3868-4274-a9b7-f4e450ba9f85');\n",
       "var x = new MutationObserver(function (mutations, observer) {{\n",
       "        var display = window.getComputedStyle(gd).display;\n",
       "        if (!display || display === 'none') {{\n",
       "            console.log([gd, 'removed!']);\n",
       "            Plotly.purge(gd);\n",
       "            observer.disconnect();\n",
       "        }}\n",
       "}});\n",
       "\n",
       "// Listen for the removal of the full notebook cells\n",
       "var notebookContainer = gd.closest('#notebook-container');\n",
       "if (notebookContainer) {{\n",
       "    x.observe(notebookContainer, {childList: true});\n",
       "}}\n",
       "\n",
       "// Listen for the clearing of the current output cell\n",
       "var outputEl = gd.closest('.output');\n",
       "if (outputEl) {{\n",
       "    x.observe(outputEl, {childList: true});\n",
       "}}\n",
       "\n",
       "                        })                };                });            </script>        </div>"
      ]
     },
     "metadata": {},
     "output_type": "display_data"
    }
   ],
   "source": [
    "def get_top_n_trigram(corpus, n=None):\n",
    "    vec = CountVectorizer(ngram_range=(4, 4)).fit(corpus)\n",
    "    bag_of_words = vec.transform(corpus)\n",
    "    sum_words = bag_of_words.sum(axis=0) \n",
    "    words_freq = [(word, sum_words[0, idx]) for word, idx in vec.vocabulary_.items()]\n",
    "    words_freq =sorted(words_freq, key = lambda x: x[1], reverse=True)\n",
    "    return words_freq[:n]\n",
    "common_words = get_top_n_trigram(df['descriptions'], 20)\n",
    "df6 = pd.DataFrame(common_words, columns = ['descriptions' , 'count'])\n",
    "df6.groupby('descriptions').sum()['count'].sort_values(ascending=False).iplot(kind='bar', yTitle='Count', linecolor='black', title='Top 20 trigrams in hotel description before removing stop words')"
   ]
  },
  {
   "cell_type": "code",
   "execution_count": 120,
   "id": "e974998c",
   "metadata": {},
   "outputs": [],
   "source": [
    "df['descriptions']=df['descriptions'].apply(lambda x: re.sub('.+đăng nhập.','',x))\n",
    "df['descriptions_clean']=df['descriptions'].apply(lambda x: re.sub('.+đăng nhập.','',x))"
   ]
  },
  {
   "cell_type": "code",
   "execution_count": 121,
   "id": "27c96da5",
   "metadata": {},
   "outputs": [],
   "source": [
    "df['descriptions']=df['descriptions'].str.replace('\\n','')\n",
    "df['descriptions_clean']=df['descriptions'].str.replace('\\n','')\n",
    "df['descriptions_clean']=df['descriptions'].str.replace('Tọa lạc tại','')"
   ]
  },
  {
   "cell_type": "code",
   "execution_count": 122,
   "id": "5595f3ff",
   "metadata": {},
   "outputs": [],
   "source": [
    "df['lat']=df['latitude_longitude'].apply(lambda x: x.split(',', 1)[0])\n",
    "df['lon']=df['latitude_longitude'].apply(lambda x: x.split(',', 1)[1])"
   ]
  },
  {
   "cell_type": "code",
   "execution_count": 123,
   "id": "bc6251f1",
   "metadata": {
    "scrolled": true
   },
   "outputs": [
    {
     "data": {
      "text/html": [
       "<div>\n",
       "<style scoped>\n",
       "    .dataframe tbody tr th:only-of-type {\n",
       "        vertical-align: middle;\n",
       "    }\n",
       "\n",
       "    .dataframe tbody tr th {\n",
       "        vertical-align: top;\n",
       "    }\n",
       "\n",
       "    .dataframe thead th {\n",
       "        text-align: right;\n",
       "    }\n",
       "</style>\n",
       "<table border=\"1\" class=\"dataframe\">\n",
       "  <thead>\n",
       "    <tr style=\"text-align: right;\">\n",
       "      <th></th>\n",
       "      <th>links</th>\n",
       "      <th>names</th>\n",
       "      <th>reviews</th>\n",
       "      <th>scores</th>\n",
       "      <th>addresses</th>\n",
       "      <th>descriptions</th>\n",
       "      <th>latitude_longitude</th>\n",
       "      <th>DEST</th>\n",
       "      <th>descriptions_clean</th>\n",
       "      <th>lat</th>\n",
       "      <th>lon</th>\n",
       "    </tr>\n",
       "  </thead>\n",
       "  <tbody>\n",
       "    <tr>\n",
       "      <th>60</th>\n",
       "      <td>https://www.booking.com/hotel/vn/hanoi-prime-c...</td>\n",
       "      <td>Hanoi Prime Center Hotel</td>\n",
       "      <td>NaN</td>\n",
       "      <td>8,9</td>\n",
       "      <td>36 Hang Huong, Quận Hoàn Kiếm, Hà Nội, Việt...</td>\n",
       "      <td>Tọa lạc tại một vị trí thuận tiện ở thành phố ...</td>\n",
       "      <td>21.03531900,105.84550500</td>\n",
       "      <td>-3714993</td>\n",
       "      <td>một vị trí thuận tiện ở thành phố Hà Nội, Han...</td>\n",
       "      <td>21.03531900</td>\n",
       "      <td>105.84550500</td>\n",
       "    </tr>\n",
       "    <tr>\n",
       "      <th>130</th>\n",
       "      <td>https://www.booking.com/hotel/vn/cozrum-homes-...</td>\n",
       "      <td>Cozrum Homes - Sonata Residence</td>\n",
       "      <td>NaN</td>\n",
       "      <td>7,6</td>\n",
       "      <td>41 Nguyễn Thị Thập, Phường Tân Phú, Quận 7, TP...</td>\n",
       "      <td>Set in Ho Chi Minh City, 1.7 km from Saigon Ex...</td>\n",
       "      <td>10.73694600,106.72871900</td>\n",
       "      <td>-3730078</td>\n",
       "      <td>Set in Ho Chi Minh City, 1.7 km from Saigon Ex...</td>\n",
       "      <td>10.73694600</td>\n",
       "      <td>106.72871900</td>\n",
       "    </tr>\n",
       "    <tr>\n",
       "      <th>272</th>\n",
       "      <td>https://www.booking.com/hotel/vn/la-vague.vi.h...</td>\n",
       "      <td>La Vague Hotel</td>\n",
       "      <td>NaN</td>\n",
       "      <td>8,6</td>\n",
       "      <td>08 Trần Phú 08 Trần Phú, Nha Trang, Việt Nam</td>\n",
       "      <td>Quay mặt ra biển ở thành phố Nha Trang, cách B...</td>\n",
       "      <td>12.22021812,109.20365352</td>\n",
       "      <td>-3723998</td>\n",
       "      <td>Quay mặt ra biển ở thành phố Nha Trang, cách B...</td>\n",
       "      <td>12.22021812</td>\n",
       "      <td>109.20365352</td>\n",
       "    </tr>\n",
       "    <tr>\n",
       "      <th>422</th>\n",
       "      <td>https://www.booking.com/hotel/vn/homestay-ha-l...</td>\n",
       "      <td>Homestay Hạ long</td>\n",
       "      <td>NaN</td>\n",
       "      <td>NaN</td>\n",
       "      <td>Đường Hoàng Quốc Việt, Hạ Long, Việt Nam</td>\n",
       "      <td>Set in Ha Long, 1.4 km from Marina Bay Beach a...</td>\n",
       "      <td>20.95917022,107.00860572</td>\n",
       "      <td>-3715715</td>\n",
       "      <td>Set in Ha Long, 1.4 km from Marina Bay Beach a...</td>\n",
       "      <td>20.95917022</td>\n",
       "      <td>107.00860572</td>\n",
       "    </tr>\n",
       "    <tr>\n",
       "      <th>129</th>\n",
       "      <td>https://www.booking.com/hotel/vn/la-bonita.vi....</td>\n",
       "      <td>La Bonita Hotel and Apartments</td>\n",
       "      <td>NaN</td>\n",
       "      <td>8,5</td>\n",
       "      <td>42 Hưng Phước 4, Tân Phong, District 7, Ho Chi...</td>\n",
       "      <td>Tọa lạc tại Thành phố Hồ Chí Minh, cách Trung ...</td>\n",
       "      <td>10.72969700,106.70713000</td>\n",
       "      <td>-3730078</td>\n",
       "      <td>Thành phố Hồ Chí Minh, cách Trung tâm Hội chợ...</td>\n",
       "      <td>10.72969700</td>\n",
       "      <td>106.70713000</td>\n",
       "    </tr>\n",
       "  </tbody>\n",
       "</table>\n",
       "</div>"
      ],
      "text/plain": [
       "                                                 links  \\\n",
       "60   https://www.booking.com/hotel/vn/hanoi-prime-c...   \n",
       "130  https://www.booking.com/hotel/vn/cozrum-homes-...   \n",
       "272  https://www.booking.com/hotel/vn/la-vague.vi.h...   \n",
       "422  https://www.booking.com/hotel/vn/homestay-ha-l...   \n",
       "129  https://www.booking.com/hotel/vn/la-bonita.vi....   \n",
       "\n",
       "                               names  reviews scores  \\\n",
       "60          Hanoi Prime Center Hotel      NaN    8,9   \n",
       "130  Cozrum Homes - Sonata Residence      NaN    7,6   \n",
       "272                   La Vague Hotel      NaN    8,6   \n",
       "422                 Homestay Hạ long      NaN    NaN   \n",
       "129   La Bonita Hotel and Apartments      NaN    8,5   \n",
       "\n",
       "                                             addresses  \\\n",
       "60   36 Hang Huong, Quận Hoàn Kiếm, Hà Nội, Việt...   \n",
       "130  41 Nguyễn Thị Thập, Phường Tân Phú, Quận 7, TP...   \n",
       "272      08 Trần Phú 08 Trần Phú, Nha Trang, Việt Nam   \n",
       "422         Đường Hoàng Quốc Việt, Hạ Long, Việt Nam   \n",
       "129  42 Hưng Phước 4, Tân Phong, District 7, Ho Chi...   \n",
       "\n",
       "                                          descriptions  \\\n",
       "60   Tọa lạc tại một vị trí thuận tiện ở thành phố ...   \n",
       "130  Set in Ho Chi Minh City, 1.7 km from Saigon Ex...   \n",
       "272  Quay mặt ra biển ở thành phố Nha Trang, cách B...   \n",
       "422  Set in Ha Long, 1.4 km from Marina Bay Beach a...   \n",
       "129  Tọa lạc tại Thành phố Hồ Chí Minh, cách Trung ...   \n",
       "\n",
       "           latitude_longitude     DEST  \\\n",
       "60   21.03531900,105.84550500 -3714993   \n",
       "130  10.73694600,106.72871900 -3730078   \n",
       "272  12.22021812,109.20365352 -3723998   \n",
       "422  20.95917022,107.00860572 -3715715   \n",
       "129  10.72969700,106.70713000 -3730078   \n",
       "\n",
       "                                    descriptions_clean          lat  \\\n",
       "60    một vị trí thuận tiện ở thành phố Hà Nội, Han...  21.03531900   \n",
       "130  Set in Ho Chi Minh City, 1.7 km from Saigon Ex...  10.73694600   \n",
       "272  Quay mặt ra biển ở thành phố Nha Trang, cách B...  12.22021812   \n",
       "422  Set in Ha Long, 1.4 km from Marina Bay Beach a...  20.95917022   \n",
       "129   Thành phố Hồ Chí Minh, cách Trung tâm Hội chợ...  10.72969700   \n",
       "\n",
       "              lon  \n",
       "60   105.84550500  \n",
       "130  106.72871900  \n",
       "272  109.20365352  \n",
       "422  107.00860572  \n",
       "129  106.70713000  "
      ]
     },
     "execution_count": 123,
     "metadata": {},
     "output_type": "execute_result"
    }
   ],
   "source": [
    "df.sample(5)"
   ]
  },
  {
   "cell_type": "markdown",
   "id": "e365f772",
   "metadata": {},
   "source": [
    "# XỬ LÝ STOP WORD"
   ]
  },
  {
   "cell_type": "code",
   "execution_count": 124,
   "id": "5b7e7962",
   "metadata": {},
   "outputs": [],
   "source": [
    "def get_stopwords_list(stop_file_path):\n",
    "    \"\"\"load stop words \"\"\"\n",
    "    with open(stop_file_path, 'r', encoding=\"utf-8\") as f:\n",
    "        stopwords = f.readlines()\n",
    "        stop_set = set(m.strip() for m in stopwords)\n",
    "        return list(frozenset(stop_set))"
   ]
  },
  {
   "cell_type": "code",
   "execution_count": 125,
   "id": "ce4265d5",
   "metadata": {},
   "outputs": [],
   "source": [
    "PATH = 'C:/Users/TechCare/Documents/'"
   ]
  },
  {
   "cell_type": "code",
   "execution_count": 126,
   "id": "278eca16",
   "metadata": {},
   "outputs": [],
   "source": [
    "stopwords_path = PATH+\"vietnamese-stopwords.txt\"\n",
    "stopwords = get_stopwords_list(stopwords_path)"
   ]
  },
  {
   "cell_type": "code",
   "execution_count": 127,
   "id": "13733dd7",
   "metadata": {},
   "outputs": [],
   "source": [
    "# viết hàm tiền xử lý dữ liệu trên cột overview\n",
    "def proccessing_data(data):\n",
    "  #- chuyển về từ thường\n",
    "    data = data.lower()\n",
    "  #- Xóa dấu câu, ký tự đặc biệt\n",
    "    data = re.sub('\\W+',' ', data)\n",
    "  #- xóa stopword\n",
    "    data =  ' '.join([word for word in data.split() if word not in stopwords])\n",
    "  #- tách từ\n",
    "    data = word_tokenize(data,format = 'text')\n",
    "  #- nối câu\n",
    "  #data =  ' '.join([word for word in data])\n",
    "    return data"
   ]
  },
  {
   "cell_type": "code",
   "execution_count": 128,
   "id": "199f94a7",
   "metadata": {},
   "outputs": [],
   "source": [
    "from tqdm import tqdm"
   ]
  },
  {
   "cell_type": "code",
   "execution_count": 129,
   "id": "4a7b5df5",
   "metadata": {},
   "outputs": [
    {
     "name": "stderr",
     "output_type": "stream",
     "text": [
      "100%|████████████████████████████████████████████████████████████████████████████████| 450/450 [00:05<00:00, 80.79it/s]\n"
     ]
    }
   ],
   "source": [
    "for i in tqdm(range(0,len(df))):\n",
    "  try:\n",
    "    df['descriptions_clean'][i] = proccessing_data(df['descriptions_clean'][i])\n",
    "  except Exception as ex:\n",
    "    print(df['descriptions'][i])"
   ]
  },
  {
   "cell_type": "code",
   "execution_count": 130,
   "id": "04b697c6",
   "metadata": {},
   "outputs": [
    {
     "data": {
      "text/html": [
       "<div>\n",
       "<style scoped>\n",
       "    .dataframe tbody tr th:only-of-type {\n",
       "        vertical-align: middle;\n",
       "    }\n",
       "\n",
       "    .dataframe tbody tr th {\n",
       "        vertical-align: top;\n",
       "    }\n",
       "\n",
       "    .dataframe thead th {\n",
       "        text-align: right;\n",
       "    }\n",
       "</style>\n",
       "<table border=\"1\" class=\"dataframe\">\n",
       "  <thead>\n",
       "    <tr style=\"text-align: right;\">\n",
       "      <th></th>\n",
       "      <th>links</th>\n",
       "      <th>names</th>\n",
       "      <th>reviews</th>\n",
       "      <th>scores</th>\n",
       "      <th>addresses</th>\n",
       "      <th>descriptions</th>\n",
       "      <th>latitude_longitude</th>\n",
       "      <th>DEST</th>\n",
       "      <th>descriptions_clean</th>\n",
       "      <th>lat</th>\n",
       "      <th>lon</th>\n",
       "    </tr>\n",
       "  </thead>\n",
       "  <tbody>\n",
       "    <tr>\n",
       "      <th>281</th>\n",
       "      <td>https://www.booking.com/hotel/vn/vinpearl-empi...</td>\n",
       "      <td>Meliá Vinpearl Nha Trang Empire</td>\n",
       "      <td>NaN</td>\n",
       "      <td>9,1</td>\n",
       "      <td>44 Le Thanh Ton, Nha Trang, Việt Nam</td>\n",
       "      <td>Meliá Vinpearl Nha Trang Empire nằm ở thành ph...</td>\n",
       "      <td>12.24342120,109.19349690</td>\n",
       "      <td>-3723998</td>\n",
       "      <td>meliá vinpearl nha trang empire nằm thành_phố ...</td>\n",
       "      <td>12.24342120</td>\n",
       "      <td>109.19349690</td>\n",
       "    </tr>\n",
       "    <tr>\n",
       "      <th>310</th>\n",
       "      <td>https://www.booking.com/hotel/vn/pilgrimage-vi...</td>\n",
       "      <td>Pilgrimage Village Boutique Resort &amp; Spa</td>\n",
       "      <td>NaN</td>\n",
       "      <td>9,2</td>\n",
       "      <td>130 Minh Mang Road, Huế, Việt Nam</td>\n",
       "      <td>Pilgrimage Village Boutique Resort &amp; Spa là re...</td>\n",
       "      <td>16.43540086,107.58060336</td>\n",
       "      <td>-3715887</td>\n",
       "      <td>pilgrimage village boutique resort spa resort ...</td>\n",
       "      <td>16.43540086</td>\n",
       "      <td>107.58060336</td>\n",
       "    </tr>\n",
       "    <tr>\n",
       "      <th>446</th>\n",
       "      <td>https://www.booking.com/hotel/vn/the-secret-ha...</td>\n",
       "      <td>The Secret HaLong</td>\n",
       "      <td>NaN</td>\n",
       "      <td>8,4</td>\n",
       "      <td>E6.64 Sun Premier Village,Bai Chay, Hạ Long, ...</td>\n",
       "      <td>Tọa lạc tại thành phố Hạ Long, cách Bãi biển B...</td>\n",
       "      <td>20.94697400,107.03257200</td>\n",
       "      <td>-3715715</td>\n",
       "      <td>thành_phố hạ long bãi biển bãi cháy 500 m the ...</td>\n",
       "      <td>20.94697400</td>\n",
       "      <td>107.03257200</td>\n",
       "    </tr>\n",
       "    <tr>\n",
       "      <th>404</th>\n",
       "      <td>https://www.booking.com/hotel/vn/victory-star-...</td>\n",
       "      <td>Victory Star Cruise</td>\n",
       "      <td>NaN</td>\n",
       "      <td>8,4</td>\n",
       "      <td>Hon Gai, Hạ Long, Việt Nam</td>\n",
       "      <td>Đi dọc theo Vịnh Hạ Long, Victory Star Cruise ...</td>\n",
       "      <td>20.95298725,107.05607995</td>\n",
       "      <td>-3715715</td>\n",
       "      <td>đi dọc vịnh hạ long victory star cruise cung p...</td>\n",
       "      <td>20.95298725</td>\n",
       "      <td>107.05607995</td>\n",
       "    </tr>\n",
       "    <tr>\n",
       "      <th>444</th>\n",
       "      <td>https://www.booking.com/hotel/vn/hallo-thanh-p...</td>\n",
       "      <td>Hallo Hotel</td>\n",
       "      <td>NaN</td>\n",
       "      <td>8,4</td>\n",
       "      <td>Đại lộ Hạ Long Marine, Hạ Long, Việt Nam</td>\n",
       "      <td>Tọa lạc tại thành phố Hạ Long, nằm trong bán k...</td>\n",
       "      <td>20.95589600,107.01690000</td>\n",
       "      <td>-3715715</td>\n",
       "      <td>thành_phố hạ long nằm kính 3 4 km cáp_treo nữ_...</td>\n",
       "      <td>20.95589600</td>\n",
       "      <td>107.01690000</td>\n",
       "    </tr>\n",
       "  </tbody>\n",
       "</table>\n",
       "</div>"
      ],
      "text/plain": [
       "                                                 links  \\\n",
       "281  https://www.booking.com/hotel/vn/vinpearl-empi...   \n",
       "310  https://www.booking.com/hotel/vn/pilgrimage-vi...   \n",
       "446  https://www.booking.com/hotel/vn/the-secret-ha...   \n",
       "404  https://www.booking.com/hotel/vn/victory-star-...   \n",
       "444  https://www.booking.com/hotel/vn/hallo-thanh-p...   \n",
       "\n",
       "                                        names  reviews scores  \\\n",
       "281           Meliá Vinpearl Nha Trang Empire      NaN    9,1   \n",
       "310  Pilgrimage Village Boutique Resort & Spa      NaN    9,2   \n",
       "446                         The Secret HaLong      NaN    8,4   \n",
       "404                       Victory Star Cruise      NaN    8,4   \n",
       "444                               Hallo Hotel      NaN    8,4   \n",
       "\n",
       "                                             addresses  \\\n",
       "281              44 Le Thanh Ton, Nha Trang, Việt Nam   \n",
       "310                 130 Minh Mang Road, Huế, Việt Nam   \n",
       "446  E6.64 Sun Premier Village,Bai Chay, Hạ Long, ...   \n",
       "404                       Hon Gai, Hạ Long, Việt Nam   \n",
       "444         Đại lộ Hạ Long Marine, Hạ Long, Việt Nam   \n",
       "\n",
       "                                          descriptions  \\\n",
       "281  Meliá Vinpearl Nha Trang Empire nằm ở thành ph...   \n",
       "310  Pilgrimage Village Boutique Resort & Spa là re...   \n",
       "446  Tọa lạc tại thành phố Hạ Long, cách Bãi biển B...   \n",
       "404  Đi dọc theo Vịnh Hạ Long, Victory Star Cruise ...   \n",
       "444  Tọa lạc tại thành phố Hạ Long, nằm trong bán k...   \n",
       "\n",
       "           latitude_longitude     DEST  \\\n",
       "281  12.24342120,109.19349690 -3723998   \n",
       "310  16.43540086,107.58060336 -3715887   \n",
       "446  20.94697400,107.03257200 -3715715   \n",
       "404  20.95298725,107.05607995 -3715715   \n",
       "444  20.95589600,107.01690000 -3715715   \n",
       "\n",
       "                                    descriptions_clean          lat  \\\n",
       "281  meliá vinpearl nha trang empire nằm thành_phố ...  12.24342120   \n",
       "310  pilgrimage village boutique resort spa resort ...  16.43540086   \n",
       "446  thành_phố hạ long bãi biển bãi cháy 500 m the ...  20.94697400   \n",
       "404  đi dọc vịnh hạ long victory star cruise cung p...  20.95298725   \n",
       "444  thành_phố hạ long nằm kính 3 4 km cáp_treo nữ_...  20.95589600   \n",
       "\n",
       "              lon  \n",
       "281  109.19349690  \n",
       "310  107.58060336  \n",
       "446  107.03257200  \n",
       "404  107.05607995  \n",
       "444  107.01690000  "
      ]
     },
     "execution_count": 130,
     "metadata": {},
     "output_type": "execute_result"
    }
   ],
   "source": [
    "df.sample(5)"
   ]
  },
  {
   "cell_type": "markdown",
   "id": "9afb9e68",
   "metadata": {},
   "source": [
    "# TẠO MODEL"
   ]
  },
  {
   "cell_type": "code",
   "execution_count": 47,
   "id": "97e23d2d",
   "metadata": {},
   "outputs": [],
   "source": [
    "def recommendations(names, DEST):\n",
    "\n",
    "    recommended_hotels = []\n",
    "    links=[]\n",
    "    addresses =[]\n",
    "    scores =[]\n",
    "    descriptions=[]\n",
    "    lat=[]\n",
    "    lon=[]\n",
    "\n",
    "    \n",
    "    ks = df[df.names == names]\n",
    "    \n",
    "    hotel = df[df.DEST == DEST]\n",
    "    hotel = pd.concat([ks, hotel], ignore_index = True)\n",
    "    \n",
    "    \n",
    "    #tính tf-idf + cosine_similarities\n",
    "    tf = TfidfVectorizer(analyzer='word', ngram_range=(1, 4), min_df=0)\n",
    "    tfidf_matrix = tf.fit_transform(hotel['descriptions_clean'])\n",
    "    cosine_similarities = linear_kernel(tfidf_matrix, tfidf_matrix)\n",
    "    #chuyển names thành index\n",
    "    hotel.set_index('names', inplace = True)\n",
    "    indices = pd.Series(hotel.index)\n",
    "    # gettin the index of the hotel that matches the name\n",
    "    idx = indices[indices == names].index[0]\n",
    "    # creating a Series with the similarity scores in descending order\n",
    "    score_series = pd.Series(cosine_similarities[idx]).sort_values(ascending = False)\n",
    "\n",
    "    # getting the indexes of the 10 most similar hotels except itself\n",
    "    top_10_indexes = list(score_series.iloc[0:11].index)\n",
    "    \n",
    "    # populating the list with the names of the top 10 matching hotels\n",
    "    for i in top_10_indexes:\n",
    "        recommended_hotels.append(list(hotel.index)[i])\n",
    "        links.append(list(hotel['links'])[i])\n",
    "        addresses.append(list(hotel['addresses'])[i])\n",
    "        scores.append(list(hotel['scores'])[i])\n",
    "        descriptions.append(list(hotel['descriptions'])[i])\n",
    "        lat.append(list(hotel['lat'])[i])\n",
    "        lon.append(list(hotel['lon'])[i])\n",
    "  \n",
    "    return pd.DataFrame({'links':links,'names':recommended_hotels,'addresses': addresses,'scores':scores,'Description':descriptions,'Lat':lat,'Lon':lon})\n",
    "    #return score_series"
   ]
  },
  {
   "cell_type": "code",
   "execution_count": 48,
   "id": "9c8ecc75",
   "metadata": {},
   "outputs": [
    {
     "data": {
      "text/plain": [
       "0     1.000000\n",
       "37    0.097992\n",
       "6     0.095445\n",
       "13    0.090976\n",
       "20    0.087530\n",
       "38    0.084490\n",
       "19    0.081015\n",
       "10    0.073597\n",
       "46    0.068458\n",
       "14    0.068050\n",
       "49    0.067448\n",
       "27    0.066399\n",
       "7     0.066203\n",
       "18    0.065308\n",
       "26    0.064058\n",
       "16    0.062169\n",
       "11    0.060548\n",
       "23    0.059425\n",
       "17    0.058853\n",
       "47    0.058380\n",
       "43    0.057504\n",
       "4     0.055902\n",
       "8     0.055637\n",
       "1     0.054314\n",
       "36    0.053439\n",
       "15    0.050554\n",
       "12    0.050438\n",
       "39    0.046939\n",
       "29    0.046685\n",
       "42    0.046509\n",
       "50    0.045807\n",
       "9     0.043845\n",
       "2     0.042897\n",
       "41    0.041528\n",
       "21    0.037997\n",
       "25    0.033459\n",
       "5     0.033326\n",
       "40    0.033176\n",
       "44    0.031950\n",
       "33    0.030489\n",
       "34    0.030066\n",
       "35    0.028544\n",
       "3     0.027013\n",
       "24    0.026863\n",
       "48    0.026257\n",
       "45    0.025289\n",
       "22    0.023453\n",
       "31    0.021756\n",
       "32    0.016718\n",
       "30    0.011055\n",
       "28    0.010020\n",
       "dtype: float64"
      ]
     },
     "execution_count": 48,
     "metadata": {},
     "output_type": "execute_result"
    }
   ],
   "source": [
    "recommendations('Menora Grand Da Nang',-3712045)"
   ]
  },
  {
   "cell_type": "code",
   "execution_count": 134,
   "id": "6f28b013",
   "metadata": {},
   "outputs": [],
   "source": [
    "import pickle\n",
    "\n",
    "pickle.dump(df,open('df.pkl','wb'))\n"
   ]
  },
  {
   "cell_type": "markdown",
   "id": "3f682b46",
   "metadata": {},
   "source": [
    "# RECOMMEND BASE ON  INPUT DESCRIPTION"
   ]
  },
  {
   "cell_type": "code",
   "execution_count": 131,
   "id": "b59956b8",
   "metadata": {},
   "outputs": [],
   "source": [
    "def recommendations(des, DEST):\n",
    "\n",
    "    recommended_hotels = []\n",
    "    links=[]\n",
    "    addresses =[]\n",
    "    scores =[]\n",
    "    descriptions=[]\n",
    "    lat = []\n",
    "    lon = []\n",
    "\n",
    "    \n",
    "    ks = pd.DataFrame({'links':['1'],'names':['ABC'],'reviews':['1'],'scores':['1'],\n",
    "                      'addresses': ['1'],'Description':['1'],'latitude_longitude': ['1'],'DEST': ['1'],'descriptions_clean':[des],'lat':['1'],'lon':['1']})\n",
    "    \n",
    "    \n",
    "    hotel = df[df.DEST == DEST]\n",
    "    hotel = pd.concat([ks, hotel], ignore_index = True)\n",
    "    \n",
    "    \n",
    "    #tính tf-idf + cosine_similarities\n",
    "    tf = TfidfVectorizer(analyzer='word', ngram_range=(1, 4), min_df=0)\n",
    "    tfidf_matrix = tf.fit_transform(hotel['descriptions_clean'])\n",
    "    cosine_similarities = linear_kernel(tfidf_matrix, tfidf_matrix)\n",
    "    #chuyển names thành index\n",
    "    hotel.set_index('names', inplace = True)\n",
    "    indices = pd.Series(hotel.index)\n",
    "    # gettin the index of the hotel that matches the name\n",
    "    idx = indices[indices == 'ABC'].index[0]\n",
    "    # creating a Series with the similarity scores in descending order\n",
    "    score_series = pd.Series(cosine_similarities[idx]).sort_values(ascending = False)\n",
    "\n",
    "    # getting the indexes of the 10 most similar hotels except itself\n",
    "    top_10_indexes = list(score_series[score_series>0].index[1:11])\n",
    "    \n",
    "    # populating the list with the names of the top 10 matching hotels\n",
    "    for i in top_10_indexes:\n",
    "        recommended_hotels.append(list(hotel.index)[i])\n",
    "        links.append(list(hotel['links'])[i])\n",
    "        addresses.append(list(hotel['addresses'])[i])\n",
    "        scores.append(list(hotel['scores'])[i])\n",
    "        descriptions.append(list(hotel['descriptions'])[i])\n",
    "        lat.append(list(hotel['lat'])[i])\n",
    "        lon.append(list(hotel['lon'])[i])\n",
    "  \n",
    "    return pd.DataFrame({'links':links,'names':recommended_hotels,'addresses': addresses,'scores':scores,'Description':descriptions,'lat': lat,'lon': lon})"
   ]
  },
  {
   "cell_type": "code",
   "execution_count": 133,
   "id": "7be648b1",
   "metadata": {},
   "outputs": [
    {
     "data": {
      "text/html": [
       "<div>\n",
       "<style scoped>\n",
       "    .dataframe tbody tr th:only-of-type {\n",
       "        vertical-align: middle;\n",
       "    }\n",
       "\n",
       "    .dataframe tbody tr th {\n",
       "        vertical-align: top;\n",
       "    }\n",
       "\n",
       "    .dataframe thead th {\n",
       "        text-align: right;\n",
       "    }\n",
       "</style>\n",
       "<table border=\"1\" class=\"dataframe\">\n",
       "  <thead>\n",
       "    <tr style=\"text-align: right;\">\n",
       "      <th></th>\n",
       "      <th>links</th>\n",
       "      <th>names</th>\n",
       "      <th>addresses</th>\n",
       "      <th>scores</th>\n",
       "      <th>Description</th>\n",
       "      <th>lat</th>\n",
       "      <th>lon</th>\n",
       "    </tr>\n",
       "  </thead>\n",
       "  <tbody>\n",
       "  </tbody>\n",
       "</table>\n",
       "</div>"
      ],
      "text/plain": [
       "Empty DataFrame\n",
       "Columns: [links, names, addresses, scores, Description, lat, lon]\n",
       "Index: []"
      ]
     },
     "execution_count": 133,
     "metadata": {},
     "output_type": "execute_result"
    }
   ],
   "source": [
    "recommendations('biển',-3712045)\n"
   ]
  },
  {
   "cell_type": "code",
   "execution_count": 135,
   "id": "81a18ae7",
   "metadata": {},
   "outputs": [],
   "source": [
    "df.to_csv('data.csv',header = True, index = False)"
   ]
  },
  {
   "cell_type": "markdown",
   "id": "5f55d4aa",
   "metadata": {},
   "source": [
    "# TEST"
   ]
  },
  {
   "cell_type": "code",
   "execution_count": 67,
   "id": "3b1ec16a",
   "metadata": {},
   "outputs": [
    {
     "data": {
      "text/plain": [
       "Int64Index([38, 28, 29, 30, 31, 32, 33, 34, 35, 36], dtype='int64')"
      ]
     },
     "execution_count": 67,
     "metadata": {},
     "output_type": "execute_result"
    }
   ],
   "source": [
    "a[a==0].index[1:11]"
   ]
  },
  {
   "cell_type": "code",
   "execution_count": 26,
   "id": "93b40080",
   "metadata": {},
   "outputs": [],
   "source": [
    "ks = df[df.names == 'Menora Grand Da Nang']\n",
    "    \n",
    "hotel = df[df.DEST == -3712045]\n",
    "hotelx = pd.concat([ks, hotel], ignore_index = True)"
   ]
  },
  {
   "cell_type": "code",
   "execution_count": 27,
   "id": "aecdd009",
   "metadata": {},
   "outputs": [
    {
     "data": {
      "text/html": [
       "<div>\n",
       "<style scoped>\n",
       "    .dataframe tbody tr th:only-of-type {\n",
       "        vertical-align: middle;\n",
       "    }\n",
       "\n",
       "    .dataframe tbody tr th {\n",
       "        vertical-align: top;\n",
       "    }\n",
       "\n",
       "    .dataframe thead th {\n",
       "        text-align: right;\n",
       "    }\n",
       "</style>\n",
       "<table border=\"1\" class=\"dataframe\">\n",
       "  <thead>\n",
       "    <tr style=\"text-align: right;\">\n",
       "      <th></th>\n",
       "      <th>links</th>\n",
       "      <th>names</th>\n",
       "      <th>reviews</th>\n",
       "      <th>scores</th>\n",
       "      <th>addresses</th>\n",
       "      <th>descriptions</th>\n",
       "      <th>latitude_longitude</th>\n",
       "      <th>DEST</th>\n",
       "      <th>descriptions_clean</th>\n",
       "      <th>lat</th>\n",
       "      <th>lon</th>\n",
       "    </tr>\n",
       "  </thead>\n",
       "  <tbody>\n",
       "    <tr>\n",
       "      <th>0</th>\n",
       "      <td>https://www.booking.com/hotel/vn/bazan-hotel-d...</td>\n",
       "      <td>Bazan Hotel Dalat</td>\n",
       "      <td>NaN</td>\n",
       "      <td>9,1</td>\n",
       "      <td>36 To Hien Thanh , Đà Lạt, Việt Nam</td>\n",
       "      <td>Tọa lạc tại thành phố Đà Lạt, cách Công viên Y...</td>\n",
       "      <td>11.92824835,108.44512304</td>\n",
       "      <td>-3712045</td>\n",
       "      <td>thành phố đà lạt công viên yersin 1 6 km bazan...</td>\n",
       "      <td>11.92824835</td>\n",
       "      <td>108.44512304</td>\n",
       "    </tr>\n",
       "    <tr>\n",
       "      <th>1</th>\n",
       "      <td>https://www.booking.com/hotel/vn/dalat-wind.vi...</td>\n",
       "      <td>Dalat Wind Hotel</td>\n",
       "      <td>NaN</td>\n",
       "      <td>8,4</td>\n",
       "      <td>Lot R2 03-04. Golf Valley, Ward 2, Đà Lạt, Viê...</td>\n",
       "      <td>Tọa lạc tại thành phố Đà Lạt, cách Hồ Xuân Hươ...</td>\n",
       "      <td>11.94775486,108.44124913</td>\n",
       "      <td>-3712045</td>\n",
       "      <td>thành phố đà lạt hồ xuân hương 500 m dalat win...</td>\n",
       "      <td>11.94775486</td>\n",
       "      <td>108.44124913</td>\n",
       "    </tr>\n",
       "    <tr>\n",
       "      <th>2</th>\n",
       "      <td>https://www.booking.com/hotel/vn/ttr-central-h...</td>\n",
       "      <td>TTR Central Apart Hotel</td>\n",
       "      <td>NaN</td>\n",
       "      <td>9,0</td>\n",
       "      <td>4b Hải Thượng, Đà Lạt, Việt Nam</td>\n",
       "      <td>Nằm cách Quảng trường Lâm Viên 1,8 km, TTR Cen...</td>\n",
       "      <td>11.94222460,108.43152510</td>\n",
       "      <td>-3712045</td>\n",
       "      <td>nằm quảng trường lâm viên 1 8 km ttr central a...</td>\n",
       "      <td>11.94222460</td>\n",
       "      <td>108.43152510</td>\n",
       "    </tr>\n",
       "    <tr>\n",
       "      <th>3</th>\n",
       "      <td>https://www.booking.com/hotel/vn/raon-valley-v...</td>\n",
       "      <td>Raon Villa</td>\n",
       "      <td>NaN</td>\n",
       "      <td>9,3</td>\n",
       "      <td>44D Trần Khánh Dư, Phường 8, Đà Lạt, Việt Nam</td>\n",
       "      <td>Tọa lạc tại thành phố Đà Lạt, cách sân golf Da...</td>\n",
       "      <td>11.96255100,108.44276300</td>\n",
       "      <td>-3712045</td>\n",
       "      <td>thành phố đà lạt sân golf dalat palace golf cl...</td>\n",
       "      <td>11.96255100</td>\n",
       "      <td>108.44276300</td>\n",
       "    </tr>\n",
       "    <tr>\n",
       "      <th>4</th>\n",
       "      <td>https://www.booking.com/hotel/vn/dalat-feliz-h...</td>\n",
       "      <td>Feliz Dalat Homestay</td>\n",
       "      <td>NaN</td>\n",
       "      <td>9,5</td>\n",
       "      <td>54/13 Phan Đình Phùng (08 Nguyễn Biểu) (Dốc Nh...</td>\n",
       "      <td>Feliz Dalat Homestay cung cấp chỗ nghỉ ở vị tr...</td>\n",
       "      <td>11.94363759,108.43447213</td>\n",
       "      <td>-3712045</td>\n",
       "      <td>feliz dalat homestay cung chỗ nghỉ vị trí lý t...</td>\n",
       "      <td>11.94363759</td>\n",
       "      <td>108.43447213</td>\n",
       "    </tr>\n",
       "    <tr>\n",
       "      <th>5</th>\n",
       "      <td>https://www.booking.com/hotel/vn/khach-san-hoa...</td>\n",
       "      <td>Khách sạn Hoa Sen</td>\n",
       "      <td>NaN</td>\n",
       "      <td>8,0</td>\n",
       "      <td>103 105 phan đình phùng tp Đà Lạt, tỉnh Lâm Đồ...</td>\n",
       "      <td>Tọa lạc tại thành phố Đà Lạt, cách Quảng trườn...</td>\n",
       "      <td>11.94467500,108.43400800</td>\n",
       "      <td>-3712045</td>\n",
       "      <td>thành phố đà lạt quảng trường lâm viên 1 7 km ...</td>\n",
       "      <td>11.94467500</td>\n",
       "      <td>108.43400800</td>\n",
       "    </tr>\n",
       "    <tr>\n",
       "      <th>6</th>\n",
       "      <td>https://www.booking.com/hotel/vn/reddoorz-near...</td>\n",
       "      <td>Raon Dalat</td>\n",
       "      <td>NaN</td>\n",
       "      <td>9,2</td>\n",
       "      <td>46 Tran Khanh Du, Ward 8, Đà Lạt, Việt Nam</td>\n",
       "      <td>Tọa lạc tại thành phố Đà Lạt, cách sân golf Da...</td>\n",
       "      <td>11.96217116,108.44034794</td>\n",
       "      <td>-3712045</td>\n",
       "      <td>thành phố đà lạt sân golf dalat palace golf cl...</td>\n",
       "      <td>11.96217116</td>\n",
       "      <td>108.44034794</td>\n",
       "    </tr>\n",
       "    <tr>\n",
       "      <th>7</th>\n",
       "      <td>https://www.booking.com/hotel/vn/raon-villa-da...</td>\n",
       "      <td>AN Boutique Hotel</td>\n",
       "      <td>NaN</td>\n",
       "      <td>9,2</td>\n",
       "      <td>138 Bùi Thị Xuân, phường 2, thành phố Đà Lạt, ...</td>\n",
       "      <td>Tọa lạc tại thành phố Đà Lạt, cách sân golf Da...</td>\n",
       "      <td>11.94833781,108.43961489</td>\n",
       "      <td>-3712045</td>\n",
       "      <td>thành phố đà lạt sân golf dalat palace golf cl...</td>\n",
       "      <td>11.94833781</td>\n",
       "      <td>108.43961489</td>\n",
       "    </tr>\n",
       "    <tr>\n",
       "      <th>8</th>\n",
       "      <td>https://www.booking.com/hotel/vn/vuon-xuan-tha...</td>\n",
       "      <td>Vuon Xuan Hotel</td>\n",
       "      <td>NaN</td>\n",
       "      <td>9,1</td>\n",
       "      <td>40 Đường Tô Hiến Thành, Đà Lạt, Việt Nam</td>\n",
       "      <td>Tọa lạc tại thành phố Đà Lạt, cách Công viên Y...</td>\n",
       "      <td>11.92828875,108.44488965</td>\n",
       "      <td>-3712045</td>\n",
       "      <td>thành phố đà lạt công viên yersin 1 6 km vuon ...</td>\n",
       "      <td>11.92828875</td>\n",
       "      <td>108.44488965</td>\n",
       "    </tr>\n",
       "    <tr>\n",
       "      <th>9</th>\n",
       "      <td>https://www.booking.com/hotel/vn/khach-san-tha...</td>\n",
       "      <td>ELC Dalat Hotel</td>\n",
       "      <td>NaN</td>\n",
       "      <td>9,2</td>\n",
       "      <td>33 Đường Bà Triệu, Đà Lạt, Việt Nam</td>\n",
       "      <td>Nằm ở thành phố Đà Lạt, cách Quảng trường Lâm ...</td>\n",
       "      <td>11.93742400,108.43372300</td>\n",
       "      <td>-3712045</td>\n",
       "      <td>nằm thành phố đà lạt quảng trường lâm viên 1 5...</td>\n",
       "      <td>11.93742400</td>\n",
       "      <td>108.43372300</td>\n",
       "    </tr>\n",
       "    <tr>\n",
       "      <th>10</th>\n",
       "      <td>https://www.booking.com/hotel/vn/greeneco-dala...</td>\n",
       "      <td>GREENECO DA LAT HOTEL - Khách sạn Green Eco Đà...</td>\n",
       "      <td>NaN</td>\n",
       "      <td>8,9</td>\n",
       "      <td>9A Đường Triệu Việt Vương, Đà Lạt, Việt Nam</td>\n",
       "      <td>Tọa lạc tại thành phố Đà Lạt, cách Thiền viện ...</td>\n",
       "      <td>11.91931830,108.43617910</td>\n",
       "      <td>-3712045</td>\n",
       "      <td>thành phố đà lạt thiền viện trúc lâm 2 2 km hồ...</td>\n",
       "      <td>11.91931830</td>\n",
       "      <td>108.43617910</td>\n",
       "    </tr>\n",
       "    <tr>\n",
       "      <th>11</th>\n",
       "      <td>https://www.booking.com/hotel/vn/tropicana-2.v...</td>\n",
       "      <td>Miền Nhiệt Đới 2 Hotel</td>\n",
       "      <td>NaN</td>\n",
       "      <td>8,1</td>\n",
       "      <td>64 Phan Nhu Thach, ward 1, Đà Lạt, Việt Nam</td>\n",
       "      <td>Tọa lạc tại thành phố Đà Lạt, cách Quảng trườn...</td>\n",
       "      <td>11.94058158,108.43391991</td>\n",
       "      <td>-3712045</td>\n",
       "      <td>thành phố đà lạt quảng trường lâm viên 1 4 km ...</td>\n",
       "      <td>11.94058158</td>\n",
       "      <td>108.43391991</td>\n",
       "    </tr>\n",
       "    <tr>\n",
       "      <th>12</th>\n",
       "      <td>https://www.booking.com/hotel/vn/khach-san-da-...</td>\n",
       "      <td>Da Lat Prince Hotel</td>\n",
       "      <td>NaN</td>\n",
       "      <td>8,4</td>\n",
       "      <td>23 Quang Trung, Đà Lạt, Việt Nam</td>\n",
       "      <td>Tọa lạc tại thành phố Đà Lạt, cách Vườn hoa Đà...</td>\n",
       "      <td>11.94634200,108.45792800</td>\n",
       "      <td>-3712045</td>\n",
       "      <td>thành phố đà lạt vườn hoa đà lạt 1 3 km da lat...</td>\n",
       "      <td>11.94634200</td>\n",
       "      <td>108.45792800</td>\n",
       "    </tr>\n",
       "    <tr>\n",
       "      <th>13</th>\n",
       "      <td>https://www.booking.com/hotel/vn/apeda-thanh-p...</td>\n",
       "      <td>Hera Boutique Hotel</td>\n",
       "      <td>NaN</td>\n",
       "      <td>8,0</td>\n",
       "      <td>23 Đường Trần Phú, Đà Lạt, Việt Nam</td>\n",
       "      <td>Tọa lạc tại thành phố Đà Lạt, cách Quảng trườn...</td>\n",
       "      <td>11.93635000,108.43404500</td>\n",
       "      <td>-3712045</td>\n",
       "      <td>thành phố đà lạt quảng trường lâm viên 1 4 km ...</td>\n",
       "      <td>11.93635000</td>\n",
       "      <td>108.43404500</td>\n",
       "    </tr>\n",
       "    <tr>\n",
       "      <th>14</th>\n",
       "      <td>https://www.booking.com/hotel/vn/royal-palace-...</td>\n",
       "      <td>Royal Palace</td>\n",
       "      <td>NaN</td>\n",
       "      <td>8,4</td>\n",
       "      <td>Đường Hà Huy Tập 55 49A Đường Hà Huy Tập, Đà L...</td>\n",
       "      <td>Tọa lạc tại thành phố Đà Lạt, cách Quảng trườn...</td>\n",
       "      <td>11.93521058,108.44099387</td>\n",
       "      <td>-3712045</td>\n",
       "      <td>thành phố đà lạt quảng trường lâm viên 1 2 km ...</td>\n",
       "      <td>11.93521058</td>\n",
       "      <td>108.44099387</td>\n",
       "    </tr>\n",
       "    <tr>\n",
       "      <th>15</th>\n",
       "      <td>https://www.booking.com/hotel/vn/victory-da-la...</td>\n",
       "      <td>TTR Skyview Hotel</td>\n",
       "      <td>NaN</td>\n",
       "      <td>7,6</td>\n",
       "      <td>50 Phan Nhu Thach, Đà Lạt, Việt Nam</td>\n",
       "      <td>Tọa lạc tại thành phố Đà Lạt, cách Quảng trườn...</td>\n",
       "      <td>11.94177930,108.43453370</td>\n",
       "      <td>-3712045</td>\n",
       "      <td>thành phố đà lạt quảng trường lâm viên 1 5 km ...</td>\n",
       "      <td>11.94177930</td>\n",
       "      <td>108.43453370</td>\n",
       "    </tr>\n",
       "    <tr>\n",
       "      <th>16</th>\n",
       "      <td>https://www.booking.com/hotel/vn/lovely-house-...</td>\n",
       "      <td>Lovely House</td>\n",
       "      <td>NaN</td>\n",
       "      <td>8,4</td>\n",
       "      <td>Hẻm 3 /4 Đường Đoàn Thị Điểm Phường 4 Thành ph...</td>\n",
       "      <td>Tọa lạc tại thành phố Đà Lạt, cách Quảng trườn...</td>\n",
       "      <td>11.93870000,108.43392300</td>\n",
       "      <td>-3712045</td>\n",
       "      <td>thành phố đà lạt quảng trường lâm viên 1 5 km ...</td>\n",
       "      <td>11.93870000</td>\n",
       "      <td>108.43392300</td>\n",
       "    </tr>\n",
       "    <tr>\n",
       "      <th>17</th>\n",
       "      <td>https://www.booking.com/hotel/vn/marigold-dala...</td>\n",
       "      <td>Marigold Hotel Dalat</td>\n",
       "      <td>NaN</td>\n",
       "      <td>7,9</td>\n",
       "      <td>83 Bui Thi Xuan, Ward 2, Đà Lạt, Việt Nam</td>\n",
       "      <td>Tọa lạc tại thành phố Đà Lạt, cách sân golf Da...</td>\n",
       "      <td>11.94585600,108.43957200</td>\n",
       "      <td>-3712045</td>\n",
       "      <td>thành phố đà lạt sân golf dalat palace golf cl...</td>\n",
       "      <td>11.94585600</td>\n",
       "      <td>108.43957200</td>\n",
       "    </tr>\n",
       "    <tr>\n",
       "      <th>18</th>\n",
       "      <td>https://www.booking.com/hotel/vn/strawberry-ga...</td>\n",
       "      <td>La Fleur 2 Luxury Garden Hotel</td>\n",
       "      <td>NaN</td>\n",
       "      <td>9,8</td>\n",
       "      <td>57 An Bình, P.3, Đà Lạt, Việt Nam</td>\n",
       "      <td>Tọa lạc tại thành phố Đà Lạt, cách Quảng trườn...</td>\n",
       "      <td>11.92468400,108.43703800</td>\n",
       "      <td>-3712045</td>\n",
       "      <td>thành phố đà lạt quảng trường lâm viên 2 8 km ...</td>\n",
       "      <td>11.92468400</td>\n",
       "      <td>108.43703800</td>\n",
       "    </tr>\n",
       "    <tr>\n",
       "      <th>19</th>\n",
       "      <td>https://www.booking.com/hotel/vn/cozy-boutique...</td>\n",
       "      <td>Nature Hotel</td>\n",
       "      <td>NaN</td>\n",
       "      <td>8,5</td>\n",
       "      <td>52 Luong The VInh, Đà Lạt, Việt Nam</td>\n",
       "      <td>Tọa lạc tại thành phố Đà Lạt, cách Quảng trườn...</td>\n",
       "      <td>11.93203784,108.44234600</td>\n",
       "      <td>-3712045</td>\n",
       "      <td>thành phố đà lạt quảng trường lâm viên 1 5 km ...</td>\n",
       "      <td>11.93203784</td>\n",
       "      <td>108.44234600</td>\n",
       "    </tr>\n",
       "    <tr>\n",
       "      <th>20</th>\n",
       "      <td>https://www.booking.com/hotel/vn/mia-house-da-...</td>\n",
       "      <td>Siba Home</td>\n",
       "      <td>NaN</td>\n",
       "      <td>9,4</td>\n",
       "      <td>B30 Mạc Đỉnh Chi, Đà Lạt, Việt Nam</td>\n",
       "      <td>Tọa lạc tại thành phố Đà Lạt, cách Quảng trườn...</td>\n",
       "      <td>11.94067200,108.42710300</td>\n",
       "      <td>-3712045</td>\n",
       "      <td>thành phố đà lạt quảng trường lâm viên 2 3 km ...</td>\n",
       "      <td>11.94067200</td>\n",
       "      <td>108.42710300</td>\n",
       "    </tr>\n",
       "    <tr>\n",
       "      <th>21</th>\n",
       "      <td>https://www.booking.com/hotel/vn/terracotta-am...</td>\n",
       "      <td>Terracotta Hotel &amp; Resort Dalat</td>\n",
       "      <td>NaN</td>\n",
       "      <td>8,2</td>\n",
       "      <td>Zone 7.9, Tuyen Lam Lake Tourist Area, Ward 3,...</td>\n",
       "      <td>Terracotta Hotel &amp; Resort Dalat cung cấp các p...</td>\n",
       "      <td>11.89485138,108.43825579</td>\n",
       "      <td>-3712045</td>\n",
       "      <td>terracotta hotel resort dalat cung phòng biệt ...</td>\n",
       "      <td>11.89485138</td>\n",
       "      <td>108.43825579</td>\n",
       "    </tr>\n",
       "    <tr>\n",
       "      <th>22</th>\n",
       "      <td>https://www.booking.com/hotel/vn/mercure-da-la...</td>\n",
       "      <td>Mercure Dalat Resort</td>\n",
       "      <td>NaN</td>\n",
       "      <td>8,9</td>\n",
       "      <td>03 Nguyen Du Street Ward 09, 670000 Đà Lạt, Vi...</td>\n",
       "      <td>Tọa lạc tại thành phố Đà Lạt, cách Vườn hoa Đà...</td>\n",
       "      <td>11.94518700,108.45949400</td>\n",
       "      <td>-3712045</td>\n",
       "      <td>thành phố đà lạt vườn hoa đà lạt 1 6 km mercur...</td>\n",
       "      <td>11.94518700</td>\n",
       "      <td>108.45949400</td>\n",
       "    </tr>\n",
       "    <tr>\n",
       "      <th>23</th>\n",
       "      <td>https://www.booking.com/hotel/vn/an-nam-dalat....</td>\n",
       "      <td>TTR An Nam Apart Hotel</td>\n",
       "      <td>NaN</td>\n",
       "      <td>8,6</td>\n",
       "      <td>29 Nguyen Cong Tru, Ward 8, Đà Lạt, Việt Nam</td>\n",
       "      <td>Nằm cách CLB chơi golf Dalat Palace 600 m, TTR...</td>\n",
       "      <td>11.95482000,108.44133100</td>\n",
       "      <td>-3712045</td>\n",
       "      <td>nằm clb golf dalat palace 600 m ttr an nam apa...</td>\n",
       "      <td>11.95482000</td>\n",
       "      <td>108.44133100</td>\n",
       "    </tr>\n",
       "    <tr>\n",
       "      <th>24</th>\n",
       "      <td>https://www.booking.com/hotel/vn/grey-house.vi...</td>\n",
       "      <td>Grey House</td>\n",
       "      <td>NaN</td>\n",
       "      <td>9,1</td>\n",
       "      <td>34 Lương Thế Vinh, Đà Lạt, Việt Nam</td>\n",
       "      <td>Tọa lạc tại thành phố Đà Lạt, cách Quảng trườn...</td>\n",
       "      <td>11.93323800,108.44180200</td>\n",
       "      <td>-3712045</td>\n",
       "      <td>thành phố đà lạt quảng trường lâm viên 1 5 km ...</td>\n",
       "      <td>11.93323800</td>\n",
       "      <td>108.44180200</td>\n",
       "    </tr>\n",
       "    <tr>\n",
       "      <th>25</th>\n",
       "      <td>https://www.booking.com/hotel/vn/himalaya-phoe...</td>\n",
       "      <td>Himalaya Phoenix Dalat Hotel</td>\n",
       "      <td>NaN</td>\n",
       "      <td>7,6</td>\n",
       "      <td>23 Le Hong Phong, Ward 4, Đà Lạt, Việt Nam</td>\n",
       "      <td>Tọa lạc tại thành phố Đà Lạt, cách Quảng trườn...</td>\n",
       "      <td>11.93318315,108.42924792</td>\n",
       "      <td>-3712045</td>\n",
       "      <td>thành phố đà lạt quảng trường lâm viên 2 4 km ...</td>\n",
       "      <td>11.93318315</td>\n",
       "      <td>108.42924792</td>\n",
       "    </tr>\n",
       "    <tr>\n",
       "      <th>26</th>\n",
       "      <td>https://www.booking.com/hotel/vn/be-u-thanh-ph...</td>\n",
       "      <td>Be U Hotel</td>\n",
       "      <td>NaN</td>\n",
       "      <td>8,7</td>\n",
       "      <td>112 Đường Lý Tự Trọng Phường 1, Đà Lạt, Việt Nam</td>\n",
       "      <td>Tọa lạc tại thành phố Đà Lạt, cách sân golf Da...</td>\n",
       "      <td>11.94775500,108.43857000</td>\n",
       "      <td>-3712045</td>\n",
       "      <td>thành phố đà lạt sân golf dalat palace golf cl...</td>\n",
       "      <td>11.94775500</td>\n",
       "      <td>108.43857000</td>\n",
       "    </tr>\n",
       "    <tr>\n",
       "      <th>27</th>\n",
       "      <td>https://www.booking.com/hotel/vn/ban-mai-da-la...</td>\n",
       "      <td>Ban Mai Hotel</td>\n",
       "      <td>NaN</td>\n",
       "      <td>9,3</td>\n",
       "      <td>Lô LK 9 KQH dân cư - tái định cư Phạm Hồng Thá...</td>\n",
       "      <td>Set in Da Lat, within less than 1 km of Xuan H...</td>\n",
       "      <td>11.94070586,108.45475722</td>\n",
       "      <td>-3712045</td>\n",
       "      <td>set in da lat within less than 1 km of xuan hu...</td>\n",
       "      <td>11.94070586</td>\n",
       "      <td>108.45475722</td>\n",
       "    </tr>\n",
       "    <tr>\n",
       "      <th>28</th>\n",
       "      <td>https://www.booking.com/hotel/vn/the-white.vi....</td>\n",
       "      <td>The White Delux Hotel</td>\n",
       "      <td>NaN</td>\n",
       "      <td>8,6</td>\n",
       "      <td>Lô 3- 15 Phan Như Thạch, phường 1, Đà Lạt, Viê...</td>\n",
       "      <td>Tọa lạc tại thành phố Đà Lạt, cách Quảng trườn...</td>\n",
       "      <td>11.94110300,108.43570300</td>\n",
       "      <td>-3712045</td>\n",
       "      <td>thành phố đà lạt quảng trường lâm viên 1 3 km ...</td>\n",
       "      <td>11.94110300</td>\n",
       "      <td>108.43570300</td>\n",
       "    </tr>\n",
       "    <tr>\n",
       "      <th>29</th>\n",
       "      <td>https://www.booking.com/hotel/vn/duong-xua-hom...</td>\n",
       "      <td>Duong Xua Villa</td>\n",
       "      <td>NaN</td>\n",
       "      <td>9,8</td>\n",
       "      <td>Cô Giang 3Bis/8, Đà Lạt, Việt Nam</td>\n",
       "      <td>Set in Da Lat in the Lam Dong region and Dalat...</td>\n",
       "      <td>11.94716596,108.45679511</td>\n",
       "      <td>-3712045</td>\n",
       "      <td>set in da lat in the lam dong region and dalat...</td>\n",
       "      <td>11.94716596</td>\n",
       "      <td>108.45679511</td>\n",
       "    </tr>\n",
       "    <tr>\n",
       "      <th>30</th>\n",
       "      <td>https://www.booking.com/hotel/vn/hong-mon-vill...</td>\n",
       "      <td>Hong Mon Villa</td>\n",
       "      <td>NaN</td>\n",
       "      <td>8,6</td>\n",
       "      <td>102 To Hien Thanh, Ward 3, Đà Lạt, Việt Nam</td>\n",
       "      <td>Với Wi-Fi miễn phí và một khu vườn, Hong Mon V...</td>\n",
       "      <td>11.93030040,108.44330102</td>\n",
       "      <td>-3712045</td>\n",
       "      <td>wi fi miễn phí khu vườn hong mon villa nằm đà ...</td>\n",
       "      <td>11.93030040</td>\n",
       "      <td>108.44330102</td>\n",
       "    </tr>\n",
       "    <tr>\n",
       "      <th>31</th>\n",
       "      <td>https://www.booking.com/hotel/vn/ana-mandara-v...</td>\n",
       "      <td>Ana Mandara Villas Dalat Resort &amp; Spa</td>\n",
       "      <td>NaN</td>\n",
       "      <td>8,6</td>\n",
       "      <td>Le Lai Street, Ward 5, Đà Lạt, Việt Nam</td>\n",
       "      <td>Đối với những ai đam mê lịch sử và phong cách,...</td>\n",
       "      <td>11.94418343,108.42332929</td>\n",
       "      <td>-3712045</td>\n",
       "      <td>đối đam mê lịch sử phong ana mandara villas da...</td>\n",
       "      <td>11.94418343</td>\n",
       "      <td>108.42332929</td>\n",
       "    </tr>\n",
       "    <tr>\n",
       "      <th>32</th>\n",
       "      <td>https://www.booking.com/hotel/vn/homestay-john...</td>\n",
       "      <td>Hostel-John Cafe and Beer</td>\n",
       "      <td>NaN</td>\n",
       "      <td>9,2</td>\n",
       "      <td>i13 kqh mạc đỉnh chi, phường 4, Tp Đà Lạt i13 ...</td>\n",
       "      <td>Nằm cách Quảng trường Lâm Viên 2,4 km, Hostel-...</td>\n",
       "      <td>11.94081696,108.42656979</td>\n",
       "      <td>-3712045</td>\n",
       "      <td>nằm quảng trường lâm viên 2 4 km hostel john c...</td>\n",
       "      <td>11.94081696</td>\n",
       "      <td>108.42656979</td>\n",
       "    </tr>\n",
       "    <tr>\n",
       "      <th>33</th>\n",
       "      <td>https://www.booking.com/hotel/vn/le-petit-pari...</td>\n",
       "      <td>Le Petit Paris Dalat Hotel</td>\n",
       "      <td>NaN</td>\n",
       "      <td>8,0</td>\n",
       "      <td>5 Mai Hac De, Đà Lạt, Việt Nam</td>\n",
       "      <td>Với sân vườn tuyệt đẹp, Le Petit Paris Dalat H...</td>\n",
       "      <td>11.94743359,108.42984641</td>\n",
       "      <td>-3712045</td>\n",
       "      <td>sân vườn tuyệt đẹp le petit paris dalat hotel ...</td>\n",
       "      <td>11.94743359</td>\n",
       "      <td>108.42984641</td>\n",
       "    </tr>\n",
       "    <tr>\n",
       "      <th>34</th>\n",
       "      <td>https://www.booking.com/hotel/vn/golden-bee.vi...</td>\n",
       "      <td>Golden Bee Hotel</td>\n",
       "      <td>NaN</td>\n",
       "      <td>8,3</td>\n",
       "      <td>17 Le Hong Phong, Ward 4, Đà Lạt, Việt Nam</td>\n",
       "      <td>Golden Bee Hotel cung cấp chỗ nghỉ tại thành p...</td>\n",
       "      <td>11.93380104,108.43119725</td>\n",
       "      <td>-3712045</td>\n",
       "      <td>golden bee hotel cung chỗ nghỉ thành phố đà lạ...</td>\n",
       "      <td>11.93380104</td>\n",
       "      <td>108.43119725</td>\n",
       "    </tr>\n",
       "    <tr>\n",
       "      <th>35</th>\n",
       "      <td>https://www.booking.com/hotel/vn/d-amp-t-villa...</td>\n",
       "      <td>DT Villa</td>\n",
       "      <td>NaN</td>\n",
       "      <td>8,5</td>\n",
       "      <td>Thửa 811, Hẻm 29, Đường 3 Tháng 4, Phường 3, Đ...</td>\n",
       "      <td>Tọa lạc tại thành phố Đà Lạt, cách Công viên Y...</td>\n",
       "      <td>11.93187800,108.44617800</td>\n",
       "      <td>-3712045</td>\n",
       "      <td>thành phố đà lạt công viên yersin 1 km dt vill...</td>\n",
       "      <td>11.93187800</td>\n",
       "      <td>108.44617800</td>\n",
       "    </tr>\n",
       "    <tr>\n",
       "      <th>36</th>\n",
       "      <td>https://www.booking.com/hotel/vn/villa-vista-d...</td>\n",
       "      <td>EX Villa Đà Lạt - Khách sạn cổ điển Pháp</td>\n",
       "      <td>NaN</td>\n",
       "      <td>8,0</td>\n",
       "      <td>6B Dong Da Street, Ward 3, Đà Lạt, Việt Nam</td>\n",
       "      <td>Tọa lạc tại thành phố Đà Lạt, cách Công viên Y...</td>\n",
       "      <td>11.92570544,108.44527445</td>\n",
       "      <td>-3712045</td>\n",
       "      <td>thành phố đà lạt công viên yersin 2 4 km ex vi...</td>\n",
       "      <td>11.92570544</td>\n",
       "      <td>108.44527445</td>\n",
       "    </tr>\n",
       "    <tr>\n",
       "      <th>37</th>\n",
       "      <td>https://www.booking.com/hotel/vn/minh-chien.vi...</td>\n",
       "      <td>Minh Chien Hotel</td>\n",
       "      <td>NaN</td>\n",
       "      <td>8,5</td>\n",
       "      <td>31 Thien My, Ward 4, Đà Lạt, Việt Nam</td>\n",
       "      <td>Tọa lạc tại thành phố Đà Lạt, cách Quảng trườn...</td>\n",
       "      <td>11.93829500,108.42567300</td>\n",
       "      <td>-3712045</td>\n",
       "      <td>thành phố đà lạt quảng trường lâm viên 2 7 km ...</td>\n",
       "      <td>11.93829500</td>\n",
       "      <td>108.42567300</td>\n",
       "    </tr>\n",
       "    <tr>\n",
       "      <th>38</th>\n",
       "      <td>https://www.booking.com/hotel/vn/la-pensee.vi....</td>\n",
       "      <td>La Pense'e Hotel - Dalat</td>\n",
       "      <td>NaN</td>\n",
       "      <td>8,9</td>\n",
       "      <td>Số 6, Đường Đống Đa, Phường 3, Đà Lạt, Việt Nam</td>\n",
       "      <td>Tọa lạc tại thành phố Đà Lạt, cách Công viên Y...</td>\n",
       "      <td>11.92578762,108.44529605</td>\n",
       "      <td>-3712045</td>\n",
       "      <td>thành phố đà lạt công viên yersin 2 3 km la pe...</td>\n",
       "      <td>11.92578762</td>\n",
       "      <td>108.44529605</td>\n",
       "    </tr>\n",
       "    <tr>\n",
       "      <th>39</th>\n",
       "      <td>https://www.booking.com/hotel/vn/dalat-stream....</td>\n",
       "      <td>DALAT STREAM HOTEL-Khách sạn đẹp Đà Lạt</td>\n",
       "      <td>NaN</td>\n",
       "      <td>9,6</td>\n",
       "      <td>Số 7 ngõ Yên Bình, Đường Đặng Thuỳ Trâm, Phườn...</td>\n",
       "      <td>Tọa lạc tại thành phố Đà Lạt, cách Quảng trườn...</td>\n",
       "      <td>11.94013081,108.42533570</td>\n",
       "      <td>-3712045</td>\n",
       "      <td>thành phố đà lạt quảng trường lâm viên 2 1 km ...</td>\n",
       "      <td>11.94013081</td>\n",
       "      <td>108.42533570</td>\n",
       "    </tr>\n",
       "    <tr>\n",
       "      <th>40</th>\n",
       "      <td>https://www.booking.com/hotel/vn/new-sun-thanh...</td>\n",
       "      <td>New Sun Hotel Đà Lạt</td>\n",
       "      <td>NaN</td>\n",
       "      <td>8,6</td>\n",
       "      <td>140 Đường Hai Bà Trưng, Phường 6, Đà Lạt, Việ...</td>\n",
       "      <td>Tọa lạc tại thành phố Đà Lạt, cách Quảng trườn...</td>\n",
       "      <td>11.94587500,108.43354500</td>\n",
       "      <td>-3712045</td>\n",
       "      <td>thành phố đà lạt quảng trường lâm viên 1 9 km ...</td>\n",
       "      <td>11.94587500</td>\n",
       "      <td>108.43354500</td>\n",
       "    </tr>\n",
       "    <tr>\n",
       "      <th>41</th>\n",
       "      <td>https://www.booking.com/hotel/vn/lasol-boutiqu...</td>\n",
       "      <td>Lasol Boutique Hotel</td>\n",
       "      <td>NaN</td>\n",
       "      <td>8,6</td>\n",
       "      <td>15 Đường Huỳnh Thúc Kháng, Đà Lạt, Việt Nam</td>\n",
       "      <td>Tọa lạc tại thành phố Đà Lạt, cách Quảng trườn...</td>\n",
       "      <td>11.93526700,108.42985300</td>\n",
       "      <td>-3712045</td>\n",
       "      <td>thành phố đà lạt quảng trường lâm viên 2 1 km ...</td>\n",
       "      <td>11.93526700</td>\n",
       "      <td>108.42985300</td>\n",
       "    </tr>\n",
       "    <tr>\n",
       "      <th>42</th>\n",
       "      <td>https://www.booking.com/hotel/vn/thanhthanh.vi...</td>\n",
       "      <td>Thanh Thanh Hotel</td>\n",
       "      <td>NaN</td>\n",
       "      <td>8,3</td>\n",
       "      <td>70B 3/2, Đà Lạt, Việt Nam</td>\n",
       "      <td>Thanh Thanh Hotel cung cấp chỗ nghỉ 2 sao tại ...</td>\n",
       "      <td>11.94227115,108.43402498</td>\n",
       "      <td>-3712045</td>\n",
       "      <td>hotel cung chỗ nghỉ 2 thành phố đà lạt quảng t...</td>\n",
       "      <td>11.94227115</td>\n",
       "      <td>108.43402498</td>\n",
       "    </tr>\n",
       "    <tr>\n",
       "      <th>43</th>\n",
       "      <td>https://www.booking.com/hotel/vn/redhouse.vi.h...</td>\n",
       "      <td>Redhouse Dalat Hotel</td>\n",
       "      <td>NaN</td>\n",
       "      <td>8,8</td>\n",
       "      <td>11 Luong The Vinh Street, Ward 3, Đà Lạt, Việ...</td>\n",
       "      <td>Nằm tại thành phố Đà Lạt, Redhouse Dalat Hotel...</td>\n",
       "      <td>11.93322740,108.44272970</td>\n",
       "      <td>-3712045</td>\n",
       "      <td>nằm thành phố đà lạt redhouse dalat hotel hàng...</td>\n",
       "      <td>11.93322740</td>\n",
       "      <td>108.44272970</td>\n",
       "    </tr>\n",
       "    <tr>\n",
       "      <th>44</th>\n",
       "      <td>https://www.booking.com/hotel/vn/ngan-pho-than...</td>\n",
       "      <td>Ngan Pho Studio &amp; Hotel</td>\n",
       "      <td>NaN</td>\n",
       "      <td>8,3</td>\n",
       "      <td>15C Nhà Chung, Phường 3, Đà Lạt, Việt Nam</td>\n",
       "      <td>Nằm cách Quảng trường Lâm Viên 1,4 km, Ngan Ph...</td>\n",
       "      <td>11.93432996,108.43670492</td>\n",
       "      <td>-3712045</td>\n",
       "      <td>nằm quảng trường lâm viên 1 4 km ngan studio h...</td>\n",
       "      <td>11.93432996</td>\n",
       "      <td>108.43670492</td>\n",
       "    </tr>\n",
       "    <tr>\n",
       "      <th>45</th>\n",
       "      <td>https://www.booking.com/hotel/vn/terracotta-vi...</td>\n",
       "      <td>Terracotta Villa Tuyen Lam Lake Dalat</td>\n",
       "      <td>NaN</td>\n",
       "      <td>8,2</td>\n",
       "      <td>Tuyen Lam Lake Tourist Area, Ward 3, Đà Lạt, V...</td>\n",
       "      <td>Nằm cách Hồ Tuyền Lâm 2 km, Terracotta Villa T...</td>\n",
       "      <td>11.89474979,108.43765068</td>\n",
       "      <td>-3712045</td>\n",
       "      <td>nằm hồ tuyền lâm 2 km terracotta villa tuyen l...</td>\n",
       "      <td>11.89474979</td>\n",
       "      <td>108.43765068</td>\n",
       "    </tr>\n",
       "    <tr>\n",
       "      <th>46</th>\n",
       "      <td>https://www.booking.com/hotel/vn/nam-home.vi.h...</td>\n",
       "      <td>Nấm Home</td>\n",
       "      <td>NaN</td>\n",
       "      <td>8,7</td>\n",
       "      <td>52 Đường An Dương Vương, Đà Lạt, Việt Nam</td>\n",
       "      <td>Tọa lạc tại thành phố Đà Lạt, cách Vườn hoa Đà...</td>\n",
       "      <td>11.95218400,108.43554600</td>\n",
       "      <td>-3712045</td>\n",
       "      <td>thành phố đà lạt vườn hoa đà lạt 1 5 km nấm ho...</td>\n",
       "      <td>11.95218400</td>\n",
       "      <td>108.43554600</td>\n",
       "    </tr>\n",
       "    <tr>\n",
       "      <th>47</th>\n",
       "      <td>https://www.booking.com/hotel/vn/royal-dalat-d...</td>\n",
       "      <td>Royal Dalat Hotel</td>\n",
       "      <td>NaN</td>\n",
       "      <td>7,3</td>\n",
       "      <td>24 Nguyen Chi Thanh, Đà Lạt, Việt Nam</td>\n",
       "      <td>Tọa lạc tại trung tâm thành phố Đà Lạt, Royal ...</td>\n",
       "      <td>11.94126279,108.43646677</td>\n",
       "      <td>-3712045</td>\n",
       "      <td>trung tâm thành phố đà lạt royal dalat hotel c...</td>\n",
       "      <td>11.94126279</td>\n",
       "      <td>108.43646677</td>\n",
       "    </tr>\n",
       "    <tr>\n",
       "      <th>48</th>\n",
       "      <td>https://www.booking.com/hotel/vn/luan-39-s-vil...</td>\n",
       "      <td>Luan'S Villa</td>\n",
       "      <td>NaN</td>\n",
       "      <td>9,4</td>\n",
       "      <td>10 Đường Sương Nguyệt Ánh, Phường 9 , Đà Lạt, ...</td>\n",
       "      <td>Luan'S Villa tọa lạc tại thành phố Đà Lạt, các...</td>\n",
       "      <td>11.94965740,108.45492850</td>\n",
       "      <td>-3712045</td>\n",
       "      <td>luan s villa tọa lạc thành phố đà lạt công viê...</td>\n",
       "      <td>11.94965740</td>\n",
       "      <td>108.45492850</td>\n",
       "    </tr>\n",
       "    <tr>\n",
       "      <th>49</th>\n",
       "      <td>https://www.booking.com/hotel/vn/savio-house.v...</td>\n",
       "      <td>Savio House</td>\n",
       "      <td>NaN</td>\n",
       "      <td>9,6</td>\n",
       "      <td>377 Phan Đình Phùng, Phường 2, Đà Lạt, Việt Nam</td>\n",
       "      <td>Savio House tọa lạc tại thành phố Đà Lạt, cách...</td>\n",
       "      <td>11.95124000,108.43343300</td>\n",
       "      <td>-3712045</td>\n",
       "      <td>savio house tọa lạc thành phố đà lạt hồ xuân h...</td>\n",
       "      <td>11.95124000</td>\n",
       "      <td>108.43343300</td>\n",
       "    </tr>\n",
       "  </tbody>\n",
       "</table>\n",
       "</div>"
      ],
      "text/plain": [
       "                                                links  \\\n",
       "0   https://www.booking.com/hotel/vn/bazan-hotel-d...   \n",
       "1   https://www.booking.com/hotel/vn/dalat-wind.vi...   \n",
       "2   https://www.booking.com/hotel/vn/ttr-central-h...   \n",
       "3   https://www.booking.com/hotel/vn/raon-valley-v...   \n",
       "4   https://www.booking.com/hotel/vn/dalat-feliz-h...   \n",
       "5   https://www.booking.com/hotel/vn/khach-san-hoa...   \n",
       "6   https://www.booking.com/hotel/vn/reddoorz-near...   \n",
       "7   https://www.booking.com/hotel/vn/raon-villa-da...   \n",
       "8   https://www.booking.com/hotel/vn/vuon-xuan-tha...   \n",
       "9   https://www.booking.com/hotel/vn/khach-san-tha...   \n",
       "10  https://www.booking.com/hotel/vn/greeneco-dala...   \n",
       "11  https://www.booking.com/hotel/vn/tropicana-2.v...   \n",
       "12  https://www.booking.com/hotel/vn/khach-san-da-...   \n",
       "13  https://www.booking.com/hotel/vn/apeda-thanh-p...   \n",
       "14  https://www.booking.com/hotel/vn/royal-palace-...   \n",
       "15  https://www.booking.com/hotel/vn/victory-da-la...   \n",
       "16  https://www.booking.com/hotel/vn/lovely-house-...   \n",
       "17  https://www.booking.com/hotel/vn/marigold-dala...   \n",
       "18  https://www.booking.com/hotel/vn/strawberry-ga...   \n",
       "19  https://www.booking.com/hotel/vn/cozy-boutique...   \n",
       "20  https://www.booking.com/hotel/vn/mia-house-da-...   \n",
       "21  https://www.booking.com/hotel/vn/terracotta-am...   \n",
       "22  https://www.booking.com/hotel/vn/mercure-da-la...   \n",
       "23  https://www.booking.com/hotel/vn/an-nam-dalat....   \n",
       "24  https://www.booking.com/hotel/vn/grey-house.vi...   \n",
       "25  https://www.booking.com/hotel/vn/himalaya-phoe...   \n",
       "26  https://www.booking.com/hotel/vn/be-u-thanh-ph...   \n",
       "27  https://www.booking.com/hotel/vn/ban-mai-da-la...   \n",
       "28  https://www.booking.com/hotel/vn/the-white.vi....   \n",
       "29  https://www.booking.com/hotel/vn/duong-xua-hom...   \n",
       "30  https://www.booking.com/hotel/vn/hong-mon-vill...   \n",
       "31  https://www.booking.com/hotel/vn/ana-mandara-v...   \n",
       "32  https://www.booking.com/hotel/vn/homestay-john...   \n",
       "33  https://www.booking.com/hotel/vn/le-petit-pari...   \n",
       "34  https://www.booking.com/hotel/vn/golden-bee.vi...   \n",
       "35  https://www.booking.com/hotel/vn/d-amp-t-villa...   \n",
       "36  https://www.booking.com/hotel/vn/villa-vista-d...   \n",
       "37  https://www.booking.com/hotel/vn/minh-chien.vi...   \n",
       "38  https://www.booking.com/hotel/vn/la-pensee.vi....   \n",
       "39  https://www.booking.com/hotel/vn/dalat-stream....   \n",
       "40  https://www.booking.com/hotel/vn/new-sun-thanh...   \n",
       "41  https://www.booking.com/hotel/vn/lasol-boutiqu...   \n",
       "42  https://www.booking.com/hotel/vn/thanhthanh.vi...   \n",
       "43  https://www.booking.com/hotel/vn/redhouse.vi.h...   \n",
       "44  https://www.booking.com/hotel/vn/ngan-pho-than...   \n",
       "45  https://www.booking.com/hotel/vn/terracotta-vi...   \n",
       "46  https://www.booking.com/hotel/vn/nam-home.vi.h...   \n",
       "47  https://www.booking.com/hotel/vn/royal-dalat-d...   \n",
       "48  https://www.booking.com/hotel/vn/luan-39-s-vil...   \n",
       "49  https://www.booking.com/hotel/vn/savio-house.v...   \n",
       "\n",
       "                                                names  reviews scores  \\\n",
       "0                                   Bazan Hotel Dalat      NaN    9,1   \n",
       "1                                    Dalat Wind Hotel      NaN    8,4   \n",
       "2                             TTR Central Apart Hotel      NaN    9,0   \n",
       "3                                          Raon Villa      NaN    9,3   \n",
       "4                                Feliz Dalat Homestay      NaN    9,5   \n",
       "5                                   Khách sạn Hoa Sen      NaN    8,0   \n",
       "6                                          Raon Dalat      NaN    9,2   \n",
       "7                                   AN Boutique Hotel      NaN    9,2   \n",
       "8                                     Vuon Xuan Hotel      NaN    9,1   \n",
       "9                                     ELC Dalat Hotel      NaN    9,2   \n",
       "10  GREENECO DA LAT HOTEL - Khách sạn Green Eco Đà...      NaN    8,9   \n",
       "11                             Miền Nhiệt Đới 2 Hotel      NaN    8,1   \n",
       "12                                Da Lat Prince Hotel      NaN    8,4   \n",
       "13                                Hera Boutique Hotel      NaN    8,0   \n",
       "14                                       Royal Palace      NaN    8,4   \n",
       "15                                  TTR Skyview Hotel      NaN    7,6   \n",
       "16                                       Lovely House      NaN    8,4   \n",
       "17                               Marigold Hotel Dalat      NaN    7,9   \n",
       "18                     La Fleur 2 Luxury Garden Hotel      NaN    9,8   \n",
       "19                                       Nature Hotel      NaN    8,5   \n",
       "20                                          Siba Home      NaN    9,4   \n",
       "21                    Terracotta Hotel & Resort Dalat      NaN    8,2   \n",
       "22                               Mercure Dalat Resort      NaN    8,9   \n",
       "23                             TTR An Nam Apart Hotel      NaN    8,6   \n",
       "24                                         Grey House      NaN    9,1   \n",
       "25                       Himalaya Phoenix Dalat Hotel      NaN    7,6   \n",
       "26                                         Be U Hotel      NaN    8,7   \n",
       "27                                      Ban Mai Hotel      NaN    9,3   \n",
       "28                              The White Delux Hotel      NaN    8,6   \n",
       "29                                    Duong Xua Villa      NaN    9,8   \n",
       "30                                     Hong Mon Villa      NaN    8,6   \n",
       "31              Ana Mandara Villas Dalat Resort & Spa      NaN    8,6   \n",
       "32                          Hostel-John Cafe and Beer      NaN    9,2   \n",
       "33                         Le Petit Paris Dalat Hotel      NaN    8,0   \n",
       "34                                   Golden Bee Hotel      NaN    8,3   \n",
       "35                                           DT Villa      NaN    8,5   \n",
       "36           EX Villa Đà Lạt - Khách sạn cổ điển Pháp      NaN    8,0   \n",
       "37                                   Minh Chien Hotel      NaN    8,5   \n",
       "38                           La Pense'e Hotel - Dalat      NaN    8,9   \n",
       "39            DALAT STREAM HOTEL-Khách sạn đẹp Đà Lạt      NaN    9,6   \n",
       "40                               New Sun Hotel Đà Lạt      NaN    8,6   \n",
       "41                               Lasol Boutique Hotel      NaN    8,6   \n",
       "42                                  Thanh Thanh Hotel      NaN    8,3   \n",
       "43                               Redhouse Dalat Hotel      NaN    8,8   \n",
       "44                            Ngan Pho Studio & Hotel      NaN    8,3   \n",
       "45              Terracotta Villa Tuyen Lam Lake Dalat      NaN    8,2   \n",
       "46                                           Nấm Home      NaN    8,7   \n",
       "47                                  Royal Dalat Hotel      NaN    7,3   \n",
       "48                                       Luan'S Villa      NaN    9,4   \n",
       "49                                        Savio House      NaN    9,6   \n",
       "\n",
       "                                            addresses  \\\n",
       "0                36 To Hien Thanh , Đà Lạt, Việt Nam   \n",
       "1   Lot R2 03-04. Golf Valley, Ward 2, Đà Lạt, Viê...   \n",
       "2                    4b Hải Thượng, Đà Lạt, Việt Nam   \n",
       "3      44D Trần Khánh Dư, Phường 8, Đà Lạt, Việt Nam   \n",
       "4   54/13 Phan Đình Phùng (08 Nguyễn Biểu) (Dốc Nh...   \n",
       "5   103 105 phan đình phùng tp Đà Lạt, tỉnh Lâm Đồ...   \n",
       "6         46 Tran Khanh Du, Ward 8, Đà Lạt, Việt Nam   \n",
       "7   138 Bùi Thị Xuân, phường 2, thành phố Đà Lạt, ...   \n",
       "8           40 Đường Tô Hiến Thành, Đà Lạt, Việt Nam   \n",
       "9                33 Đường Bà Triệu, Đà Lạt, Việt Nam   \n",
       "10       9A Đường Triệu Việt Vương, Đà Lạt, Việt Nam   \n",
       "11       64 Phan Nhu Thach, ward 1, Đà Lạt, Việt Nam   \n",
       "12                  23 Quang Trung, Đà Lạt, Việt Nam   \n",
       "13               23 Đường Trần Phú, Đà Lạt, Việt Nam   \n",
       "14  Đường Hà Huy Tập 55 49A Đường Hà Huy Tập, Đà L...   \n",
       "15               50 Phan Nhu Thach, Đà Lạt, Việt Nam   \n",
       "16  Hẻm 3 /4 Đường Đoàn Thị Điểm Phường 4 Thành ph...   \n",
       "17         83 Bui Thi Xuan, Ward 2, Đà Lạt, Việt Nam   \n",
       "18                 57 An Bình, P.3, Đà Lạt, Việt Nam   \n",
       "19               52 Luong The VInh, Đà Lạt, Việt Nam   \n",
       "20                B30 Mạc Đỉnh Chi, Đà Lạt, Việt Nam   \n",
       "21  Zone 7.9, Tuyen Lam Lake Tourist Area, Ward 3,...   \n",
       "22  03 Nguyen Du Street Ward 09, 670000 Đà Lạt, Vi...   \n",
       "23      29 Nguyen Cong Tru, Ward 8, Đà Lạt, Việt Nam   \n",
       "24               34 Lương Thế Vinh, Đà Lạt, Việt Nam   \n",
       "25        23 Le Hong Phong, Ward 4, Đà Lạt, Việt Nam   \n",
       "26  112 Đường Lý Tự Trọng Phường 1, Đà Lạt, Việt Nam   \n",
       "27  Lô LK 9 KQH dân cư - tái định cư Phạm Hồng Thá...   \n",
       "28  Lô 3- 15 Phan Như Thạch, phường 1, Đà Lạt, Viê...   \n",
       "29                 Cô Giang 3Bis/8, Đà Lạt, Việt Nam   \n",
       "30       102 To Hien Thanh, Ward 3, Đà Lạt, Việt Nam   \n",
       "31           Le Lai Street, Ward 5, Đà Lạt, Việt Nam   \n",
       "32  i13 kqh mạc đỉnh chi, phường 4, Tp Đà Lạt i13 ...   \n",
       "33                    5 Mai Hac De, Đà Lạt, Việt Nam   \n",
       "34        17 Le Hong Phong, Ward 4, Đà Lạt, Việt Nam   \n",
       "35  Thửa 811, Hẻm 29, Đường 3 Tháng 4, Phường 3, Đ...   \n",
       "36       6B Dong Da Street, Ward 3, Đà Lạt, Việt Nam   \n",
       "37             31 Thien My, Ward 4, Đà Lạt, Việt Nam   \n",
       "38   Số 6, Đường Đống Đa, Phường 3, Đà Lạt, Việt Nam   \n",
       "39  Số 7 ngõ Yên Bình, Đường Đặng Thuỳ Trâm, Phườn...   \n",
       "40  140 Đường Hai Bà Trưng, Phường 6, Đà Lạt, Việ...   \n",
       "41       15 Đường Huỳnh Thúc Kháng, Đà Lạt, Việt Nam   \n",
       "42                         70B 3/2, Đà Lạt, Việt Nam   \n",
       "43  11 Luong The Vinh Street, Ward 3, Đà Lạt, Việ...   \n",
       "44         15C Nhà Chung, Phường 3, Đà Lạt, Việt Nam   \n",
       "45  Tuyen Lam Lake Tourist Area, Ward 3, Đà Lạt, V...   \n",
       "46         52 Đường An Dương Vương, Đà Lạt, Việt Nam   \n",
       "47             24 Nguyen Chi Thanh, Đà Lạt, Việt Nam   \n",
       "48  10 Đường Sương Nguyệt Ánh, Phường 9 , Đà Lạt, ...   \n",
       "49   377 Phan Đình Phùng, Phường 2, Đà Lạt, Việt Nam   \n",
       "\n",
       "                                         descriptions  \\\n",
       "0   Tọa lạc tại thành phố Đà Lạt, cách Công viên Y...   \n",
       "1   Tọa lạc tại thành phố Đà Lạt, cách Hồ Xuân Hươ...   \n",
       "2   Nằm cách Quảng trường Lâm Viên 1,8 km, TTR Cen...   \n",
       "3   Tọa lạc tại thành phố Đà Lạt, cách sân golf Da...   \n",
       "4   Feliz Dalat Homestay cung cấp chỗ nghỉ ở vị tr...   \n",
       "5   Tọa lạc tại thành phố Đà Lạt, cách Quảng trườn...   \n",
       "6   Tọa lạc tại thành phố Đà Lạt, cách sân golf Da...   \n",
       "7   Tọa lạc tại thành phố Đà Lạt, cách sân golf Da...   \n",
       "8   Tọa lạc tại thành phố Đà Lạt, cách Công viên Y...   \n",
       "9   Nằm ở thành phố Đà Lạt, cách Quảng trường Lâm ...   \n",
       "10  Tọa lạc tại thành phố Đà Lạt, cách Thiền viện ...   \n",
       "11  Tọa lạc tại thành phố Đà Lạt, cách Quảng trườn...   \n",
       "12  Tọa lạc tại thành phố Đà Lạt, cách Vườn hoa Đà...   \n",
       "13  Tọa lạc tại thành phố Đà Lạt, cách Quảng trườn...   \n",
       "14  Tọa lạc tại thành phố Đà Lạt, cách Quảng trườn...   \n",
       "15  Tọa lạc tại thành phố Đà Lạt, cách Quảng trườn...   \n",
       "16  Tọa lạc tại thành phố Đà Lạt, cách Quảng trườn...   \n",
       "17  Tọa lạc tại thành phố Đà Lạt, cách sân golf Da...   \n",
       "18  Tọa lạc tại thành phố Đà Lạt, cách Quảng trườn...   \n",
       "19  Tọa lạc tại thành phố Đà Lạt, cách Quảng trườn...   \n",
       "20  Tọa lạc tại thành phố Đà Lạt, cách Quảng trườn...   \n",
       "21  Terracotta Hotel & Resort Dalat cung cấp các p...   \n",
       "22  Tọa lạc tại thành phố Đà Lạt, cách Vườn hoa Đà...   \n",
       "23  Nằm cách CLB chơi golf Dalat Palace 600 m, TTR...   \n",
       "24  Tọa lạc tại thành phố Đà Lạt, cách Quảng trườn...   \n",
       "25  Tọa lạc tại thành phố Đà Lạt, cách Quảng trườn...   \n",
       "26  Tọa lạc tại thành phố Đà Lạt, cách sân golf Da...   \n",
       "27  Set in Da Lat, within less than 1 km of Xuan H...   \n",
       "28  Tọa lạc tại thành phố Đà Lạt, cách Quảng trườn...   \n",
       "29  Set in Da Lat in the Lam Dong region and Dalat...   \n",
       "30  Với Wi-Fi miễn phí và một khu vườn, Hong Mon V...   \n",
       "31  Đối với những ai đam mê lịch sử và phong cách,...   \n",
       "32  Nằm cách Quảng trường Lâm Viên 2,4 km, Hostel-...   \n",
       "33  Với sân vườn tuyệt đẹp, Le Petit Paris Dalat H...   \n",
       "34  Golden Bee Hotel cung cấp chỗ nghỉ tại thành p...   \n",
       "35  Tọa lạc tại thành phố Đà Lạt, cách Công viên Y...   \n",
       "36  Tọa lạc tại thành phố Đà Lạt, cách Công viên Y...   \n",
       "37  Tọa lạc tại thành phố Đà Lạt, cách Quảng trườn...   \n",
       "38  Tọa lạc tại thành phố Đà Lạt, cách Công viên Y...   \n",
       "39  Tọa lạc tại thành phố Đà Lạt, cách Quảng trườn...   \n",
       "40  Tọa lạc tại thành phố Đà Lạt, cách Quảng trườn...   \n",
       "41  Tọa lạc tại thành phố Đà Lạt, cách Quảng trườn...   \n",
       "42  Thanh Thanh Hotel cung cấp chỗ nghỉ 2 sao tại ...   \n",
       "43  Nằm tại thành phố Đà Lạt, Redhouse Dalat Hotel...   \n",
       "44  Nằm cách Quảng trường Lâm Viên 1,4 km, Ngan Ph...   \n",
       "45  Nằm cách Hồ Tuyền Lâm 2 km, Terracotta Villa T...   \n",
       "46  Tọa lạc tại thành phố Đà Lạt, cách Vườn hoa Đà...   \n",
       "47  Tọa lạc tại trung tâm thành phố Đà Lạt, Royal ...   \n",
       "48  Luan'S Villa tọa lạc tại thành phố Đà Lạt, các...   \n",
       "49  Savio House tọa lạc tại thành phố Đà Lạt, cách...   \n",
       "\n",
       "          latitude_longitude     DEST  \\\n",
       "0   11.92824835,108.44512304 -3712045   \n",
       "1   11.94775486,108.44124913 -3712045   \n",
       "2   11.94222460,108.43152510 -3712045   \n",
       "3   11.96255100,108.44276300 -3712045   \n",
       "4   11.94363759,108.43447213 -3712045   \n",
       "5   11.94467500,108.43400800 -3712045   \n",
       "6   11.96217116,108.44034794 -3712045   \n",
       "7   11.94833781,108.43961489 -3712045   \n",
       "8   11.92828875,108.44488965 -3712045   \n",
       "9   11.93742400,108.43372300 -3712045   \n",
       "10  11.91931830,108.43617910 -3712045   \n",
       "11  11.94058158,108.43391991 -3712045   \n",
       "12  11.94634200,108.45792800 -3712045   \n",
       "13  11.93635000,108.43404500 -3712045   \n",
       "14  11.93521058,108.44099387 -3712045   \n",
       "15  11.94177930,108.43453370 -3712045   \n",
       "16  11.93870000,108.43392300 -3712045   \n",
       "17  11.94585600,108.43957200 -3712045   \n",
       "18  11.92468400,108.43703800 -3712045   \n",
       "19  11.93203784,108.44234600 -3712045   \n",
       "20  11.94067200,108.42710300 -3712045   \n",
       "21  11.89485138,108.43825579 -3712045   \n",
       "22  11.94518700,108.45949400 -3712045   \n",
       "23  11.95482000,108.44133100 -3712045   \n",
       "24  11.93323800,108.44180200 -3712045   \n",
       "25  11.93318315,108.42924792 -3712045   \n",
       "26  11.94775500,108.43857000 -3712045   \n",
       "27  11.94070586,108.45475722 -3712045   \n",
       "28  11.94110300,108.43570300 -3712045   \n",
       "29  11.94716596,108.45679511 -3712045   \n",
       "30  11.93030040,108.44330102 -3712045   \n",
       "31  11.94418343,108.42332929 -3712045   \n",
       "32  11.94081696,108.42656979 -3712045   \n",
       "33  11.94743359,108.42984641 -3712045   \n",
       "34  11.93380104,108.43119725 -3712045   \n",
       "35  11.93187800,108.44617800 -3712045   \n",
       "36  11.92570544,108.44527445 -3712045   \n",
       "37  11.93829500,108.42567300 -3712045   \n",
       "38  11.92578762,108.44529605 -3712045   \n",
       "39  11.94013081,108.42533570 -3712045   \n",
       "40  11.94587500,108.43354500 -3712045   \n",
       "41  11.93526700,108.42985300 -3712045   \n",
       "42  11.94227115,108.43402498 -3712045   \n",
       "43  11.93322740,108.44272970 -3712045   \n",
       "44  11.93432996,108.43670492 -3712045   \n",
       "45  11.89474979,108.43765068 -3712045   \n",
       "46  11.95218400,108.43554600 -3712045   \n",
       "47  11.94126279,108.43646677 -3712045   \n",
       "48  11.94965740,108.45492850 -3712045   \n",
       "49  11.95124000,108.43343300 -3712045   \n",
       "\n",
       "                                   descriptions_clean          lat  \\\n",
       "0   thành phố đà lạt công viên yersin 1 6 km bazan...  11.92824835   \n",
       "1   thành phố đà lạt hồ xuân hương 500 m dalat win...  11.94775486   \n",
       "2   nằm quảng trường lâm viên 1 8 km ttr central a...  11.94222460   \n",
       "3   thành phố đà lạt sân golf dalat palace golf cl...  11.96255100   \n",
       "4   feliz dalat homestay cung chỗ nghỉ vị trí lý t...  11.94363759   \n",
       "5   thành phố đà lạt quảng trường lâm viên 1 7 km ...  11.94467500   \n",
       "6   thành phố đà lạt sân golf dalat palace golf cl...  11.96217116   \n",
       "7   thành phố đà lạt sân golf dalat palace golf cl...  11.94833781   \n",
       "8   thành phố đà lạt công viên yersin 1 6 km vuon ...  11.92828875   \n",
       "9   nằm thành phố đà lạt quảng trường lâm viên 1 5...  11.93742400   \n",
       "10  thành phố đà lạt thiền viện trúc lâm 2 2 km hồ...  11.91931830   \n",
       "11  thành phố đà lạt quảng trường lâm viên 1 4 km ...  11.94058158   \n",
       "12  thành phố đà lạt vườn hoa đà lạt 1 3 km da lat...  11.94634200   \n",
       "13  thành phố đà lạt quảng trường lâm viên 1 4 km ...  11.93635000   \n",
       "14  thành phố đà lạt quảng trường lâm viên 1 2 km ...  11.93521058   \n",
       "15  thành phố đà lạt quảng trường lâm viên 1 5 km ...  11.94177930   \n",
       "16  thành phố đà lạt quảng trường lâm viên 1 5 km ...  11.93870000   \n",
       "17  thành phố đà lạt sân golf dalat palace golf cl...  11.94585600   \n",
       "18  thành phố đà lạt quảng trường lâm viên 2 8 km ...  11.92468400   \n",
       "19  thành phố đà lạt quảng trường lâm viên 1 5 km ...  11.93203784   \n",
       "20  thành phố đà lạt quảng trường lâm viên 2 3 km ...  11.94067200   \n",
       "21  terracotta hotel resort dalat cung phòng biệt ...  11.89485138   \n",
       "22  thành phố đà lạt vườn hoa đà lạt 1 6 km mercur...  11.94518700   \n",
       "23  nằm clb golf dalat palace 600 m ttr an nam apa...  11.95482000   \n",
       "24  thành phố đà lạt quảng trường lâm viên 1 5 km ...  11.93323800   \n",
       "25  thành phố đà lạt quảng trường lâm viên 2 4 km ...  11.93318315   \n",
       "26  thành phố đà lạt sân golf dalat palace golf cl...  11.94775500   \n",
       "27  set in da lat within less than 1 km of xuan hu...  11.94070586   \n",
       "28  thành phố đà lạt quảng trường lâm viên 1 3 km ...  11.94110300   \n",
       "29  set in da lat in the lam dong region and dalat...  11.94716596   \n",
       "30  wi fi miễn phí khu vườn hong mon villa nằm đà ...  11.93030040   \n",
       "31  đối đam mê lịch sử phong ana mandara villas da...  11.94418343   \n",
       "32  nằm quảng trường lâm viên 2 4 km hostel john c...  11.94081696   \n",
       "33  sân vườn tuyệt đẹp le petit paris dalat hotel ...  11.94743359   \n",
       "34  golden bee hotel cung chỗ nghỉ thành phố đà lạ...  11.93380104   \n",
       "35  thành phố đà lạt công viên yersin 1 km dt vill...  11.93187800   \n",
       "36  thành phố đà lạt công viên yersin 2 4 km ex vi...  11.92570544   \n",
       "37  thành phố đà lạt quảng trường lâm viên 2 7 km ...  11.93829500   \n",
       "38  thành phố đà lạt công viên yersin 2 3 km la pe...  11.92578762   \n",
       "39  thành phố đà lạt quảng trường lâm viên 2 1 km ...  11.94013081   \n",
       "40  thành phố đà lạt quảng trường lâm viên 1 9 km ...  11.94587500   \n",
       "41  thành phố đà lạt quảng trường lâm viên 2 1 km ...  11.93526700   \n",
       "42  hotel cung chỗ nghỉ 2 thành phố đà lạt quảng t...  11.94227115   \n",
       "43  nằm thành phố đà lạt redhouse dalat hotel hàng...  11.93322740   \n",
       "44  nằm quảng trường lâm viên 1 4 km ngan studio h...  11.93432996   \n",
       "45  nằm hồ tuyền lâm 2 km terracotta villa tuyen l...  11.89474979   \n",
       "46  thành phố đà lạt vườn hoa đà lạt 1 5 km nấm ho...  11.95218400   \n",
       "47  trung tâm thành phố đà lạt royal dalat hotel c...  11.94126279   \n",
       "48  luan s villa tọa lạc thành phố đà lạt công viê...  11.94965740   \n",
       "49  savio house tọa lạc thành phố đà lạt hồ xuân h...  11.95124000   \n",
       "\n",
       "             lon  \n",
       "0   108.44512304  \n",
       "1   108.44124913  \n",
       "2   108.43152510  \n",
       "3   108.44276300  \n",
       "4   108.43447213  \n",
       "5   108.43400800  \n",
       "6   108.44034794  \n",
       "7   108.43961489  \n",
       "8   108.44488965  \n",
       "9   108.43372300  \n",
       "10  108.43617910  \n",
       "11  108.43391991  \n",
       "12  108.45792800  \n",
       "13  108.43404500  \n",
       "14  108.44099387  \n",
       "15  108.43453370  \n",
       "16  108.43392300  \n",
       "17  108.43957200  \n",
       "18  108.43703800  \n",
       "19  108.44234600  \n",
       "20  108.42710300  \n",
       "21  108.43825579  \n",
       "22  108.45949400  \n",
       "23  108.44133100  \n",
       "24  108.44180200  \n",
       "25  108.42924792  \n",
       "26  108.43857000  \n",
       "27  108.45475722  \n",
       "28  108.43570300  \n",
       "29  108.45679511  \n",
       "30  108.44330102  \n",
       "31  108.42332929  \n",
       "32  108.42656979  \n",
       "33  108.42984641  \n",
       "34  108.43119725  \n",
       "35  108.44617800  \n",
       "36  108.44527445  \n",
       "37  108.42567300  \n",
       "38  108.44529605  \n",
       "39  108.42533570  \n",
       "40  108.43354500  \n",
       "41  108.42985300  \n",
       "42  108.43402498  \n",
       "43  108.44272970  \n",
       "44  108.43670492  \n",
       "45  108.43765068  \n",
       "46  108.43554600  \n",
       "47  108.43646677  \n",
       "48  108.45492850  \n",
       "49  108.43343300  "
      ]
     },
     "execution_count": 27,
     "metadata": {},
     "output_type": "execute_result"
    }
   ],
   "source": [
    "hotel"
   ]
  },
  {
   "cell_type": "code",
   "execution_count": 28,
   "id": "b82cc614",
   "metadata": {},
   "outputs": [
    {
     "data": {
      "text/html": [
       "<div>\n",
       "<style scoped>\n",
       "    .dataframe tbody tr th:only-of-type {\n",
       "        vertical-align: middle;\n",
       "    }\n",
       "\n",
       "    .dataframe tbody tr th {\n",
       "        vertical-align: top;\n",
       "    }\n",
       "\n",
       "    .dataframe thead th {\n",
       "        text-align: right;\n",
       "    }\n",
       "</style>\n",
       "<table border=\"1\" class=\"dataframe\">\n",
       "  <thead>\n",
       "    <tr style=\"text-align: right;\">\n",
       "      <th></th>\n",
       "      <th>links</th>\n",
       "      <th>names</th>\n",
       "      <th>reviews</th>\n",
       "      <th>scores</th>\n",
       "      <th>addresses</th>\n",
       "      <th>descriptions</th>\n",
       "      <th>latitude_longitude</th>\n",
       "      <th>DEST</th>\n",
       "      <th>descriptions_clean</th>\n",
       "      <th>lat</th>\n",
       "      <th>lon</th>\n",
       "    </tr>\n",
       "  </thead>\n",
       "  <tbody>\n",
       "    <tr>\n",
       "      <th>0</th>\n",
       "      <td>https://www.booking.com/hotel/vn/ruby-light-da...</td>\n",
       "      <td>Menora Grand Da Nang</td>\n",
       "      <td>NaN</td>\n",
       "      <td>8,3</td>\n",
       "      <td>69-71-73 Do Bi Street, My Khe Beach, Ngu Hanh ...</td>\n",
       "      <td>Nằm ở thành phố Đà Nẵng, cách Bãi biển Mỹ Khê ...</td>\n",
       "      <td>16.05331759,108.24603816</td>\n",
       "      <td>-3712125</td>\n",
       "      <td>nằm thành phố đà nẵng bãi biển mỹ khê 400 m me...</td>\n",
       "      <td>16.05331759</td>\n",
       "      <td>108.24603816</td>\n",
       "    </tr>\n",
       "    <tr>\n",
       "      <th>1</th>\n",
       "      <td>https://www.booking.com/hotel/vn/bazan-hotel-d...</td>\n",
       "      <td>Bazan Hotel Dalat</td>\n",
       "      <td>NaN</td>\n",
       "      <td>9,1</td>\n",
       "      <td>36 To Hien Thanh , Đà Lạt, Việt Nam</td>\n",
       "      <td>Tọa lạc tại thành phố Đà Lạt, cách Công viên Y...</td>\n",
       "      <td>11.92824835,108.44512304</td>\n",
       "      <td>-3712045</td>\n",
       "      <td>thành phố đà lạt công viên yersin 1 6 km bazan...</td>\n",
       "      <td>11.92824835</td>\n",
       "      <td>108.44512304</td>\n",
       "    </tr>\n",
       "    <tr>\n",
       "      <th>2</th>\n",
       "      <td>https://www.booking.com/hotel/vn/dalat-wind.vi...</td>\n",
       "      <td>Dalat Wind Hotel</td>\n",
       "      <td>NaN</td>\n",
       "      <td>8,4</td>\n",
       "      <td>Lot R2 03-04. Golf Valley, Ward 2, Đà Lạt, Viê...</td>\n",
       "      <td>Tọa lạc tại thành phố Đà Lạt, cách Hồ Xuân Hươ...</td>\n",
       "      <td>11.94775486,108.44124913</td>\n",
       "      <td>-3712045</td>\n",
       "      <td>thành phố đà lạt hồ xuân hương 500 m dalat win...</td>\n",
       "      <td>11.94775486</td>\n",
       "      <td>108.44124913</td>\n",
       "    </tr>\n",
       "    <tr>\n",
       "      <th>3</th>\n",
       "      <td>https://www.booking.com/hotel/vn/ttr-central-h...</td>\n",
       "      <td>TTR Central Apart Hotel</td>\n",
       "      <td>NaN</td>\n",
       "      <td>9,0</td>\n",
       "      <td>4b Hải Thượng, Đà Lạt, Việt Nam</td>\n",
       "      <td>Nằm cách Quảng trường Lâm Viên 1,8 km, TTR Cen...</td>\n",
       "      <td>11.94222460,108.43152510</td>\n",
       "      <td>-3712045</td>\n",
       "      <td>nằm quảng trường lâm viên 1 8 km ttr central a...</td>\n",
       "      <td>11.94222460</td>\n",
       "      <td>108.43152510</td>\n",
       "    </tr>\n",
       "    <tr>\n",
       "      <th>4</th>\n",
       "      <td>https://www.booking.com/hotel/vn/raon-valley-v...</td>\n",
       "      <td>Raon Villa</td>\n",
       "      <td>NaN</td>\n",
       "      <td>9,3</td>\n",
       "      <td>44D Trần Khánh Dư, Phường 8, Đà Lạt, Việt Nam</td>\n",
       "      <td>Tọa lạc tại thành phố Đà Lạt, cách sân golf Da...</td>\n",
       "      <td>11.96255100,108.44276300</td>\n",
       "      <td>-3712045</td>\n",
       "      <td>thành phố đà lạt sân golf dalat palace golf cl...</td>\n",
       "      <td>11.96255100</td>\n",
       "      <td>108.44276300</td>\n",
       "    </tr>\n",
       "    <tr>\n",
       "      <th>5</th>\n",
       "      <td>https://www.booking.com/hotel/vn/dalat-feliz-h...</td>\n",
       "      <td>Feliz Dalat Homestay</td>\n",
       "      <td>NaN</td>\n",
       "      <td>9,5</td>\n",
       "      <td>54/13 Phan Đình Phùng (08 Nguyễn Biểu) (Dốc Nh...</td>\n",
       "      <td>Feliz Dalat Homestay cung cấp chỗ nghỉ ở vị tr...</td>\n",
       "      <td>11.94363759,108.43447213</td>\n",
       "      <td>-3712045</td>\n",
       "      <td>feliz dalat homestay cung chỗ nghỉ vị trí lý t...</td>\n",
       "      <td>11.94363759</td>\n",
       "      <td>108.43447213</td>\n",
       "    </tr>\n",
       "    <tr>\n",
       "      <th>6</th>\n",
       "      <td>https://www.booking.com/hotel/vn/khach-san-hoa...</td>\n",
       "      <td>Khách sạn Hoa Sen</td>\n",
       "      <td>NaN</td>\n",
       "      <td>8,0</td>\n",
       "      <td>103 105 phan đình phùng tp Đà Lạt, tỉnh Lâm Đồ...</td>\n",
       "      <td>Tọa lạc tại thành phố Đà Lạt, cách Quảng trườn...</td>\n",
       "      <td>11.94467500,108.43400800</td>\n",
       "      <td>-3712045</td>\n",
       "      <td>thành phố đà lạt quảng trường lâm viên 1 7 km ...</td>\n",
       "      <td>11.94467500</td>\n",
       "      <td>108.43400800</td>\n",
       "    </tr>\n",
       "    <tr>\n",
       "      <th>7</th>\n",
       "      <td>https://www.booking.com/hotel/vn/reddoorz-near...</td>\n",
       "      <td>Raon Dalat</td>\n",
       "      <td>NaN</td>\n",
       "      <td>9,2</td>\n",
       "      <td>46 Tran Khanh Du, Ward 8, Đà Lạt, Việt Nam</td>\n",
       "      <td>Tọa lạc tại thành phố Đà Lạt, cách sân golf Da...</td>\n",
       "      <td>11.96217116,108.44034794</td>\n",
       "      <td>-3712045</td>\n",
       "      <td>thành phố đà lạt sân golf dalat palace golf cl...</td>\n",
       "      <td>11.96217116</td>\n",
       "      <td>108.44034794</td>\n",
       "    </tr>\n",
       "    <tr>\n",
       "      <th>8</th>\n",
       "      <td>https://www.booking.com/hotel/vn/raon-villa-da...</td>\n",
       "      <td>AN Boutique Hotel</td>\n",
       "      <td>NaN</td>\n",
       "      <td>9,2</td>\n",
       "      <td>138 Bùi Thị Xuân, phường 2, thành phố Đà Lạt, ...</td>\n",
       "      <td>Tọa lạc tại thành phố Đà Lạt, cách sân golf Da...</td>\n",
       "      <td>11.94833781,108.43961489</td>\n",
       "      <td>-3712045</td>\n",
       "      <td>thành phố đà lạt sân golf dalat palace golf cl...</td>\n",
       "      <td>11.94833781</td>\n",
       "      <td>108.43961489</td>\n",
       "    </tr>\n",
       "    <tr>\n",
       "      <th>9</th>\n",
       "      <td>https://www.booking.com/hotel/vn/vuon-xuan-tha...</td>\n",
       "      <td>Vuon Xuan Hotel</td>\n",
       "      <td>NaN</td>\n",
       "      <td>9,1</td>\n",
       "      <td>40 Đường Tô Hiến Thành, Đà Lạt, Việt Nam</td>\n",
       "      <td>Tọa lạc tại thành phố Đà Lạt, cách Công viên Y...</td>\n",
       "      <td>11.92828875,108.44488965</td>\n",
       "      <td>-3712045</td>\n",
       "      <td>thành phố đà lạt công viên yersin 1 6 km vuon ...</td>\n",
       "      <td>11.92828875</td>\n",
       "      <td>108.44488965</td>\n",
       "    </tr>\n",
       "    <tr>\n",
       "      <th>10</th>\n",
       "      <td>https://www.booking.com/hotel/vn/khach-san-tha...</td>\n",
       "      <td>ELC Dalat Hotel</td>\n",
       "      <td>NaN</td>\n",
       "      <td>9,2</td>\n",
       "      <td>33 Đường Bà Triệu, Đà Lạt, Việt Nam</td>\n",
       "      <td>Nằm ở thành phố Đà Lạt, cách Quảng trường Lâm ...</td>\n",
       "      <td>11.93742400,108.43372300</td>\n",
       "      <td>-3712045</td>\n",
       "      <td>nằm thành phố đà lạt quảng trường lâm viên 1 5...</td>\n",
       "      <td>11.93742400</td>\n",
       "      <td>108.43372300</td>\n",
       "    </tr>\n",
       "    <tr>\n",
       "      <th>11</th>\n",
       "      <td>https://www.booking.com/hotel/vn/greeneco-dala...</td>\n",
       "      <td>GREENECO DA LAT HOTEL - Khách sạn Green Eco Đà...</td>\n",
       "      <td>NaN</td>\n",
       "      <td>8,9</td>\n",
       "      <td>9A Đường Triệu Việt Vương, Đà Lạt, Việt Nam</td>\n",
       "      <td>Tọa lạc tại thành phố Đà Lạt, cách Thiền viện ...</td>\n",
       "      <td>11.91931830,108.43617910</td>\n",
       "      <td>-3712045</td>\n",
       "      <td>thành phố đà lạt thiền viện trúc lâm 2 2 km hồ...</td>\n",
       "      <td>11.91931830</td>\n",
       "      <td>108.43617910</td>\n",
       "    </tr>\n",
       "    <tr>\n",
       "      <th>12</th>\n",
       "      <td>https://www.booking.com/hotel/vn/tropicana-2.v...</td>\n",
       "      <td>Miền Nhiệt Đới 2 Hotel</td>\n",
       "      <td>NaN</td>\n",
       "      <td>8,1</td>\n",
       "      <td>64 Phan Nhu Thach, ward 1, Đà Lạt, Việt Nam</td>\n",
       "      <td>Tọa lạc tại thành phố Đà Lạt, cách Quảng trườn...</td>\n",
       "      <td>11.94058158,108.43391991</td>\n",
       "      <td>-3712045</td>\n",
       "      <td>thành phố đà lạt quảng trường lâm viên 1 4 km ...</td>\n",
       "      <td>11.94058158</td>\n",
       "      <td>108.43391991</td>\n",
       "    </tr>\n",
       "    <tr>\n",
       "      <th>13</th>\n",
       "      <td>https://www.booking.com/hotel/vn/khach-san-da-...</td>\n",
       "      <td>Da Lat Prince Hotel</td>\n",
       "      <td>NaN</td>\n",
       "      <td>8,4</td>\n",
       "      <td>23 Quang Trung, Đà Lạt, Việt Nam</td>\n",
       "      <td>Tọa lạc tại thành phố Đà Lạt, cách Vườn hoa Đà...</td>\n",
       "      <td>11.94634200,108.45792800</td>\n",
       "      <td>-3712045</td>\n",
       "      <td>thành phố đà lạt vườn hoa đà lạt 1 3 km da lat...</td>\n",
       "      <td>11.94634200</td>\n",
       "      <td>108.45792800</td>\n",
       "    </tr>\n",
       "    <tr>\n",
       "      <th>14</th>\n",
       "      <td>https://www.booking.com/hotel/vn/apeda-thanh-p...</td>\n",
       "      <td>Hera Boutique Hotel</td>\n",
       "      <td>NaN</td>\n",
       "      <td>8,0</td>\n",
       "      <td>23 Đường Trần Phú, Đà Lạt, Việt Nam</td>\n",
       "      <td>Tọa lạc tại thành phố Đà Lạt, cách Quảng trườn...</td>\n",
       "      <td>11.93635000,108.43404500</td>\n",
       "      <td>-3712045</td>\n",
       "      <td>thành phố đà lạt quảng trường lâm viên 1 4 km ...</td>\n",
       "      <td>11.93635000</td>\n",
       "      <td>108.43404500</td>\n",
       "    </tr>\n",
       "    <tr>\n",
       "      <th>15</th>\n",
       "      <td>https://www.booking.com/hotel/vn/royal-palace-...</td>\n",
       "      <td>Royal Palace</td>\n",
       "      <td>NaN</td>\n",
       "      <td>8,4</td>\n",
       "      <td>Đường Hà Huy Tập 55 49A Đường Hà Huy Tập, Đà L...</td>\n",
       "      <td>Tọa lạc tại thành phố Đà Lạt, cách Quảng trườn...</td>\n",
       "      <td>11.93521058,108.44099387</td>\n",
       "      <td>-3712045</td>\n",
       "      <td>thành phố đà lạt quảng trường lâm viên 1 2 km ...</td>\n",
       "      <td>11.93521058</td>\n",
       "      <td>108.44099387</td>\n",
       "    </tr>\n",
       "    <tr>\n",
       "      <th>16</th>\n",
       "      <td>https://www.booking.com/hotel/vn/victory-da-la...</td>\n",
       "      <td>TTR Skyview Hotel</td>\n",
       "      <td>NaN</td>\n",
       "      <td>7,6</td>\n",
       "      <td>50 Phan Nhu Thach, Đà Lạt, Việt Nam</td>\n",
       "      <td>Tọa lạc tại thành phố Đà Lạt, cách Quảng trườn...</td>\n",
       "      <td>11.94177930,108.43453370</td>\n",
       "      <td>-3712045</td>\n",
       "      <td>thành phố đà lạt quảng trường lâm viên 1 5 km ...</td>\n",
       "      <td>11.94177930</td>\n",
       "      <td>108.43453370</td>\n",
       "    </tr>\n",
       "    <tr>\n",
       "      <th>17</th>\n",
       "      <td>https://www.booking.com/hotel/vn/lovely-house-...</td>\n",
       "      <td>Lovely House</td>\n",
       "      <td>NaN</td>\n",
       "      <td>8,4</td>\n",
       "      <td>Hẻm 3 /4 Đường Đoàn Thị Điểm Phường 4 Thành ph...</td>\n",
       "      <td>Tọa lạc tại thành phố Đà Lạt, cách Quảng trườn...</td>\n",
       "      <td>11.93870000,108.43392300</td>\n",
       "      <td>-3712045</td>\n",
       "      <td>thành phố đà lạt quảng trường lâm viên 1 5 km ...</td>\n",
       "      <td>11.93870000</td>\n",
       "      <td>108.43392300</td>\n",
       "    </tr>\n",
       "    <tr>\n",
       "      <th>18</th>\n",
       "      <td>https://www.booking.com/hotel/vn/marigold-dala...</td>\n",
       "      <td>Marigold Hotel Dalat</td>\n",
       "      <td>NaN</td>\n",
       "      <td>7,9</td>\n",
       "      <td>83 Bui Thi Xuan, Ward 2, Đà Lạt, Việt Nam</td>\n",
       "      <td>Tọa lạc tại thành phố Đà Lạt, cách sân golf Da...</td>\n",
       "      <td>11.94585600,108.43957200</td>\n",
       "      <td>-3712045</td>\n",
       "      <td>thành phố đà lạt sân golf dalat palace golf cl...</td>\n",
       "      <td>11.94585600</td>\n",
       "      <td>108.43957200</td>\n",
       "    </tr>\n",
       "    <tr>\n",
       "      <th>19</th>\n",
       "      <td>https://www.booking.com/hotel/vn/strawberry-ga...</td>\n",
       "      <td>La Fleur 2 Luxury Garden Hotel</td>\n",
       "      <td>NaN</td>\n",
       "      <td>9,8</td>\n",
       "      <td>57 An Bình, P.3, Đà Lạt, Việt Nam</td>\n",
       "      <td>Tọa lạc tại thành phố Đà Lạt, cách Quảng trườn...</td>\n",
       "      <td>11.92468400,108.43703800</td>\n",
       "      <td>-3712045</td>\n",
       "      <td>thành phố đà lạt quảng trường lâm viên 2 8 km ...</td>\n",
       "      <td>11.92468400</td>\n",
       "      <td>108.43703800</td>\n",
       "    </tr>\n",
       "    <tr>\n",
       "      <th>20</th>\n",
       "      <td>https://www.booking.com/hotel/vn/cozy-boutique...</td>\n",
       "      <td>Nature Hotel</td>\n",
       "      <td>NaN</td>\n",
       "      <td>8,5</td>\n",
       "      <td>52 Luong The VInh, Đà Lạt, Việt Nam</td>\n",
       "      <td>Tọa lạc tại thành phố Đà Lạt, cách Quảng trườn...</td>\n",
       "      <td>11.93203784,108.44234600</td>\n",
       "      <td>-3712045</td>\n",
       "      <td>thành phố đà lạt quảng trường lâm viên 1 5 km ...</td>\n",
       "      <td>11.93203784</td>\n",
       "      <td>108.44234600</td>\n",
       "    </tr>\n",
       "    <tr>\n",
       "      <th>21</th>\n",
       "      <td>https://www.booking.com/hotel/vn/mia-house-da-...</td>\n",
       "      <td>Siba Home</td>\n",
       "      <td>NaN</td>\n",
       "      <td>9,4</td>\n",
       "      <td>B30 Mạc Đỉnh Chi, Đà Lạt, Việt Nam</td>\n",
       "      <td>Tọa lạc tại thành phố Đà Lạt, cách Quảng trườn...</td>\n",
       "      <td>11.94067200,108.42710300</td>\n",
       "      <td>-3712045</td>\n",
       "      <td>thành phố đà lạt quảng trường lâm viên 2 3 km ...</td>\n",
       "      <td>11.94067200</td>\n",
       "      <td>108.42710300</td>\n",
       "    </tr>\n",
       "    <tr>\n",
       "      <th>22</th>\n",
       "      <td>https://www.booking.com/hotel/vn/terracotta-am...</td>\n",
       "      <td>Terracotta Hotel &amp; Resort Dalat</td>\n",
       "      <td>NaN</td>\n",
       "      <td>8,2</td>\n",
       "      <td>Zone 7.9, Tuyen Lam Lake Tourist Area, Ward 3,...</td>\n",
       "      <td>Terracotta Hotel &amp; Resort Dalat cung cấp các p...</td>\n",
       "      <td>11.89485138,108.43825579</td>\n",
       "      <td>-3712045</td>\n",
       "      <td>terracotta hotel resort dalat cung phòng biệt ...</td>\n",
       "      <td>11.89485138</td>\n",
       "      <td>108.43825579</td>\n",
       "    </tr>\n",
       "    <tr>\n",
       "      <th>23</th>\n",
       "      <td>https://www.booking.com/hotel/vn/mercure-da-la...</td>\n",
       "      <td>Mercure Dalat Resort</td>\n",
       "      <td>NaN</td>\n",
       "      <td>8,9</td>\n",
       "      <td>03 Nguyen Du Street Ward 09, 670000 Đà Lạt, Vi...</td>\n",
       "      <td>Tọa lạc tại thành phố Đà Lạt, cách Vườn hoa Đà...</td>\n",
       "      <td>11.94518700,108.45949400</td>\n",
       "      <td>-3712045</td>\n",
       "      <td>thành phố đà lạt vườn hoa đà lạt 1 6 km mercur...</td>\n",
       "      <td>11.94518700</td>\n",
       "      <td>108.45949400</td>\n",
       "    </tr>\n",
       "    <tr>\n",
       "      <th>24</th>\n",
       "      <td>https://www.booking.com/hotel/vn/an-nam-dalat....</td>\n",
       "      <td>TTR An Nam Apart Hotel</td>\n",
       "      <td>NaN</td>\n",
       "      <td>8,6</td>\n",
       "      <td>29 Nguyen Cong Tru, Ward 8, Đà Lạt, Việt Nam</td>\n",
       "      <td>Nằm cách CLB chơi golf Dalat Palace 600 m, TTR...</td>\n",
       "      <td>11.95482000,108.44133100</td>\n",
       "      <td>-3712045</td>\n",
       "      <td>nằm clb golf dalat palace 600 m ttr an nam apa...</td>\n",
       "      <td>11.95482000</td>\n",
       "      <td>108.44133100</td>\n",
       "    </tr>\n",
       "    <tr>\n",
       "      <th>25</th>\n",
       "      <td>https://www.booking.com/hotel/vn/grey-house.vi...</td>\n",
       "      <td>Grey House</td>\n",
       "      <td>NaN</td>\n",
       "      <td>9,1</td>\n",
       "      <td>34 Lương Thế Vinh, Đà Lạt, Việt Nam</td>\n",
       "      <td>Tọa lạc tại thành phố Đà Lạt, cách Quảng trườn...</td>\n",
       "      <td>11.93323800,108.44180200</td>\n",
       "      <td>-3712045</td>\n",
       "      <td>thành phố đà lạt quảng trường lâm viên 1 5 km ...</td>\n",
       "      <td>11.93323800</td>\n",
       "      <td>108.44180200</td>\n",
       "    </tr>\n",
       "    <tr>\n",
       "      <th>26</th>\n",
       "      <td>https://www.booking.com/hotel/vn/himalaya-phoe...</td>\n",
       "      <td>Himalaya Phoenix Dalat Hotel</td>\n",
       "      <td>NaN</td>\n",
       "      <td>7,6</td>\n",
       "      <td>23 Le Hong Phong, Ward 4, Đà Lạt, Việt Nam</td>\n",
       "      <td>Tọa lạc tại thành phố Đà Lạt, cách Quảng trườn...</td>\n",
       "      <td>11.93318315,108.42924792</td>\n",
       "      <td>-3712045</td>\n",
       "      <td>thành phố đà lạt quảng trường lâm viên 2 4 km ...</td>\n",
       "      <td>11.93318315</td>\n",
       "      <td>108.42924792</td>\n",
       "    </tr>\n",
       "    <tr>\n",
       "      <th>27</th>\n",
       "      <td>https://www.booking.com/hotel/vn/be-u-thanh-ph...</td>\n",
       "      <td>Be U Hotel</td>\n",
       "      <td>NaN</td>\n",
       "      <td>8,7</td>\n",
       "      <td>112 Đường Lý Tự Trọng Phường 1, Đà Lạt, Việt Nam</td>\n",
       "      <td>Tọa lạc tại thành phố Đà Lạt, cách sân golf Da...</td>\n",
       "      <td>11.94775500,108.43857000</td>\n",
       "      <td>-3712045</td>\n",
       "      <td>thành phố đà lạt sân golf dalat palace golf cl...</td>\n",
       "      <td>11.94775500</td>\n",
       "      <td>108.43857000</td>\n",
       "    </tr>\n",
       "    <tr>\n",
       "      <th>28</th>\n",
       "      <td>https://www.booking.com/hotel/vn/ban-mai-da-la...</td>\n",
       "      <td>Ban Mai Hotel</td>\n",
       "      <td>NaN</td>\n",
       "      <td>9,3</td>\n",
       "      <td>Lô LK 9 KQH dân cư - tái định cư Phạm Hồng Thá...</td>\n",
       "      <td>Set in Da Lat, within less than 1 km of Xuan H...</td>\n",
       "      <td>11.94070586,108.45475722</td>\n",
       "      <td>-3712045</td>\n",
       "      <td>set in da lat within less than 1 km of xuan hu...</td>\n",
       "      <td>11.94070586</td>\n",
       "      <td>108.45475722</td>\n",
       "    </tr>\n",
       "    <tr>\n",
       "      <th>29</th>\n",
       "      <td>https://www.booking.com/hotel/vn/the-white.vi....</td>\n",
       "      <td>The White Delux Hotel</td>\n",
       "      <td>NaN</td>\n",
       "      <td>8,6</td>\n",
       "      <td>Lô 3- 15 Phan Như Thạch, phường 1, Đà Lạt, Viê...</td>\n",
       "      <td>Tọa lạc tại thành phố Đà Lạt, cách Quảng trườn...</td>\n",
       "      <td>11.94110300,108.43570300</td>\n",
       "      <td>-3712045</td>\n",
       "      <td>thành phố đà lạt quảng trường lâm viên 1 3 km ...</td>\n",
       "      <td>11.94110300</td>\n",
       "      <td>108.43570300</td>\n",
       "    </tr>\n",
       "    <tr>\n",
       "      <th>30</th>\n",
       "      <td>https://www.booking.com/hotel/vn/duong-xua-hom...</td>\n",
       "      <td>Duong Xua Villa</td>\n",
       "      <td>NaN</td>\n",
       "      <td>9,8</td>\n",
       "      <td>Cô Giang 3Bis/8, Đà Lạt, Việt Nam</td>\n",
       "      <td>Set in Da Lat in the Lam Dong region and Dalat...</td>\n",
       "      <td>11.94716596,108.45679511</td>\n",
       "      <td>-3712045</td>\n",
       "      <td>set in da lat in the lam dong region and dalat...</td>\n",
       "      <td>11.94716596</td>\n",
       "      <td>108.45679511</td>\n",
       "    </tr>\n",
       "    <tr>\n",
       "      <th>31</th>\n",
       "      <td>https://www.booking.com/hotel/vn/hong-mon-vill...</td>\n",
       "      <td>Hong Mon Villa</td>\n",
       "      <td>NaN</td>\n",
       "      <td>8,6</td>\n",
       "      <td>102 To Hien Thanh, Ward 3, Đà Lạt, Việt Nam</td>\n",
       "      <td>Với Wi-Fi miễn phí và một khu vườn, Hong Mon V...</td>\n",
       "      <td>11.93030040,108.44330102</td>\n",
       "      <td>-3712045</td>\n",
       "      <td>wi fi miễn phí khu vườn hong mon villa nằm đà ...</td>\n",
       "      <td>11.93030040</td>\n",
       "      <td>108.44330102</td>\n",
       "    </tr>\n",
       "    <tr>\n",
       "      <th>32</th>\n",
       "      <td>https://www.booking.com/hotel/vn/ana-mandara-v...</td>\n",
       "      <td>Ana Mandara Villas Dalat Resort &amp; Spa</td>\n",
       "      <td>NaN</td>\n",
       "      <td>8,6</td>\n",
       "      <td>Le Lai Street, Ward 5, Đà Lạt, Việt Nam</td>\n",
       "      <td>Đối với những ai đam mê lịch sử và phong cách,...</td>\n",
       "      <td>11.94418343,108.42332929</td>\n",
       "      <td>-3712045</td>\n",
       "      <td>đối đam mê lịch sử phong ana mandara villas da...</td>\n",
       "      <td>11.94418343</td>\n",
       "      <td>108.42332929</td>\n",
       "    </tr>\n",
       "    <tr>\n",
       "      <th>33</th>\n",
       "      <td>https://www.booking.com/hotel/vn/homestay-john...</td>\n",
       "      <td>Hostel-John Cafe and Beer</td>\n",
       "      <td>NaN</td>\n",
       "      <td>9,2</td>\n",
       "      <td>i13 kqh mạc đỉnh chi, phường 4, Tp Đà Lạt i13 ...</td>\n",
       "      <td>Nằm cách Quảng trường Lâm Viên 2,4 km, Hostel-...</td>\n",
       "      <td>11.94081696,108.42656979</td>\n",
       "      <td>-3712045</td>\n",
       "      <td>nằm quảng trường lâm viên 2 4 km hostel john c...</td>\n",
       "      <td>11.94081696</td>\n",
       "      <td>108.42656979</td>\n",
       "    </tr>\n",
       "    <tr>\n",
       "      <th>34</th>\n",
       "      <td>https://www.booking.com/hotel/vn/le-petit-pari...</td>\n",
       "      <td>Le Petit Paris Dalat Hotel</td>\n",
       "      <td>NaN</td>\n",
       "      <td>8,0</td>\n",
       "      <td>5 Mai Hac De, Đà Lạt, Việt Nam</td>\n",
       "      <td>Với sân vườn tuyệt đẹp, Le Petit Paris Dalat H...</td>\n",
       "      <td>11.94743359,108.42984641</td>\n",
       "      <td>-3712045</td>\n",
       "      <td>sân vườn tuyệt đẹp le petit paris dalat hotel ...</td>\n",
       "      <td>11.94743359</td>\n",
       "      <td>108.42984641</td>\n",
       "    </tr>\n",
       "    <tr>\n",
       "      <th>35</th>\n",
       "      <td>https://www.booking.com/hotel/vn/golden-bee.vi...</td>\n",
       "      <td>Golden Bee Hotel</td>\n",
       "      <td>NaN</td>\n",
       "      <td>8,3</td>\n",
       "      <td>17 Le Hong Phong, Ward 4, Đà Lạt, Việt Nam</td>\n",
       "      <td>Golden Bee Hotel cung cấp chỗ nghỉ tại thành p...</td>\n",
       "      <td>11.93380104,108.43119725</td>\n",
       "      <td>-3712045</td>\n",
       "      <td>golden bee hotel cung chỗ nghỉ thành phố đà lạ...</td>\n",
       "      <td>11.93380104</td>\n",
       "      <td>108.43119725</td>\n",
       "    </tr>\n",
       "    <tr>\n",
       "      <th>36</th>\n",
       "      <td>https://www.booking.com/hotel/vn/d-amp-t-villa...</td>\n",
       "      <td>DT Villa</td>\n",
       "      <td>NaN</td>\n",
       "      <td>8,5</td>\n",
       "      <td>Thửa 811, Hẻm 29, Đường 3 Tháng 4, Phường 3, Đ...</td>\n",
       "      <td>Tọa lạc tại thành phố Đà Lạt, cách Công viên Y...</td>\n",
       "      <td>11.93187800,108.44617800</td>\n",
       "      <td>-3712045</td>\n",
       "      <td>thành phố đà lạt công viên yersin 1 km dt vill...</td>\n",
       "      <td>11.93187800</td>\n",
       "      <td>108.44617800</td>\n",
       "    </tr>\n",
       "    <tr>\n",
       "      <th>37</th>\n",
       "      <td>https://www.booking.com/hotel/vn/villa-vista-d...</td>\n",
       "      <td>EX Villa Đà Lạt - Khách sạn cổ điển Pháp</td>\n",
       "      <td>NaN</td>\n",
       "      <td>8,0</td>\n",
       "      <td>6B Dong Da Street, Ward 3, Đà Lạt, Việt Nam</td>\n",
       "      <td>Tọa lạc tại thành phố Đà Lạt, cách Công viên Y...</td>\n",
       "      <td>11.92570544,108.44527445</td>\n",
       "      <td>-3712045</td>\n",
       "      <td>thành phố đà lạt công viên yersin 2 4 km ex vi...</td>\n",
       "      <td>11.92570544</td>\n",
       "      <td>108.44527445</td>\n",
       "    </tr>\n",
       "    <tr>\n",
       "      <th>38</th>\n",
       "      <td>https://www.booking.com/hotel/vn/minh-chien.vi...</td>\n",
       "      <td>Minh Chien Hotel</td>\n",
       "      <td>NaN</td>\n",
       "      <td>8,5</td>\n",
       "      <td>31 Thien My, Ward 4, Đà Lạt, Việt Nam</td>\n",
       "      <td>Tọa lạc tại thành phố Đà Lạt, cách Quảng trườn...</td>\n",
       "      <td>11.93829500,108.42567300</td>\n",
       "      <td>-3712045</td>\n",
       "      <td>thành phố đà lạt quảng trường lâm viên 2 7 km ...</td>\n",
       "      <td>11.93829500</td>\n",
       "      <td>108.42567300</td>\n",
       "    </tr>\n",
       "    <tr>\n",
       "      <th>39</th>\n",
       "      <td>https://www.booking.com/hotel/vn/la-pensee.vi....</td>\n",
       "      <td>La Pense'e Hotel - Dalat</td>\n",
       "      <td>NaN</td>\n",
       "      <td>8,9</td>\n",
       "      <td>Số 6, Đường Đống Đa, Phường 3, Đà Lạt, Việt Nam</td>\n",
       "      <td>Tọa lạc tại thành phố Đà Lạt, cách Công viên Y...</td>\n",
       "      <td>11.92578762,108.44529605</td>\n",
       "      <td>-3712045</td>\n",
       "      <td>thành phố đà lạt công viên yersin 2 3 km la pe...</td>\n",
       "      <td>11.92578762</td>\n",
       "      <td>108.44529605</td>\n",
       "    </tr>\n",
       "    <tr>\n",
       "      <th>40</th>\n",
       "      <td>https://www.booking.com/hotel/vn/dalat-stream....</td>\n",
       "      <td>DALAT STREAM HOTEL-Khách sạn đẹp Đà Lạt</td>\n",
       "      <td>NaN</td>\n",
       "      <td>9,6</td>\n",
       "      <td>Số 7 ngõ Yên Bình, Đường Đặng Thuỳ Trâm, Phườn...</td>\n",
       "      <td>Tọa lạc tại thành phố Đà Lạt, cách Quảng trườn...</td>\n",
       "      <td>11.94013081,108.42533570</td>\n",
       "      <td>-3712045</td>\n",
       "      <td>thành phố đà lạt quảng trường lâm viên 2 1 km ...</td>\n",
       "      <td>11.94013081</td>\n",
       "      <td>108.42533570</td>\n",
       "    </tr>\n",
       "    <tr>\n",
       "      <th>41</th>\n",
       "      <td>https://www.booking.com/hotel/vn/new-sun-thanh...</td>\n",
       "      <td>New Sun Hotel Đà Lạt</td>\n",
       "      <td>NaN</td>\n",
       "      <td>8,6</td>\n",
       "      <td>140 Đường Hai Bà Trưng, Phường 6, Đà Lạt, Việ...</td>\n",
       "      <td>Tọa lạc tại thành phố Đà Lạt, cách Quảng trườn...</td>\n",
       "      <td>11.94587500,108.43354500</td>\n",
       "      <td>-3712045</td>\n",
       "      <td>thành phố đà lạt quảng trường lâm viên 1 9 km ...</td>\n",
       "      <td>11.94587500</td>\n",
       "      <td>108.43354500</td>\n",
       "    </tr>\n",
       "    <tr>\n",
       "      <th>42</th>\n",
       "      <td>https://www.booking.com/hotel/vn/lasol-boutiqu...</td>\n",
       "      <td>Lasol Boutique Hotel</td>\n",
       "      <td>NaN</td>\n",
       "      <td>8,6</td>\n",
       "      <td>15 Đường Huỳnh Thúc Kháng, Đà Lạt, Việt Nam</td>\n",
       "      <td>Tọa lạc tại thành phố Đà Lạt, cách Quảng trườn...</td>\n",
       "      <td>11.93526700,108.42985300</td>\n",
       "      <td>-3712045</td>\n",
       "      <td>thành phố đà lạt quảng trường lâm viên 2 1 km ...</td>\n",
       "      <td>11.93526700</td>\n",
       "      <td>108.42985300</td>\n",
       "    </tr>\n",
       "    <tr>\n",
       "      <th>43</th>\n",
       "      <td>https://www.booking.com/hotel/vn/thanhthanh.vi...</td>\n",
       "      <td>Thanh Thanh Hotel</td>\n",
       "      <td>NaN</td>\n",
       "      <td>8,3</td>\n",
       "      <td>70B 3/2, Đà Lạt, Việt Nam</td>\n",
       "      <td>Thanh Thanh Hotel cung cấp chỗ nghỉ 2 sao tại ...</td>\n",
       "      <td>11.94227115,108.43402498</td>\n",
       "      <td>-3712045</td>\n",
       "      <td>hotel cung chỗ nghỉ 2 thành phố đà lạt quảng t...</td>\n",
       "      <td>11.94227115</td>\n",
       "      <td>108.43402498</td>\n",
       "    </tr>\n",
       "    <tr>\n",
       "      <th>44</th>\n",
       "      <td>https://www.booking.com/hotel/vn/redhouse.vi.h...</td>\n",
       "      <td>Redhouse Dalat Hotel</td>\n",
       "      <td>NaN</td>\n",
       "      <td>8,8</td>\n",
       "      <td>11 Luong The Vinh Street, Ward 3, Đà Lạt, Việ...</td>\n",
       "      <td>Nằm tại thành phố Đà Lạt, Redhouse Dalat Hotel...</td>\n",
       "      <td>11.93322740,108.44272970</td>\n",
       "      <td>-3712045</td>\n",
       "      <td>nằm thành phố đà lạt redhouse dalat hotel hàng...</td>\n",
       "      <td>11.93322740</td>\n",
       "      <td>108.44272970</td>\n",
       "    </tr>\n",
       "    <tr>\n",
       "      <th>45</th>\n",
       "      <td>https://www.booking.com/hotel/vn/ngan-pho-than...</td>\n",
       "      <td>Ngan Pho Studio &amp; Hotel</td>\n",
       "      <td>NaN</td>\n",
       "      <td>8,3</td>\n",
       "      <td>15C Nhà Chung, Phường 3, Đà Lạt, Việt Nam</td>\n",
       "      <td>Nằm cách Quảng trường Lâm Viên 1,4 km, Ngan Ph...</td>\n",
       "      <td>11.93432996,108.43670492</td>\n",
       "      <td>-3712045</td>\n",
       "      <td>nằm quảng trường lâm viên 1 4 km ngan studio h...</td>\n",
       "      <td>11.93432996</td>\n",
       "      <td>108.43670492</td>\n",
       "    </tr>\n",
       "    <tr>\n",
       "      <th>46</th>\n",
       "      <td>https://www.booking.com/hotel/vn/terracotta-vi...</td>\n",
       "      <td>Terracotta Villa Tuyen Lam Lake Dalat</td>\n",
       "      <td>NaN</td>\n",
       "      <td>8,2</td>\n",
       "      <td>Tuyen Lam Lake Tourist Area, Ward 3, Đà Lạt, V...</td>\n",
       "      <td>Nằm cách Hồ Tuyền Lâm 2 km, Terracotta Villa T...</td>\n",
       "      <td>11.89474979,108.43765068</td>\n",
       "      <td>-3712045</td>\n",
       "      <td>nằm hồ tuyền lâm 2 km terracotta villa tuyen l...</td>\n",
       "      <td>11.89474979</td>\n",
       "      <td>108.43765068</td>\n",
       "    </tr>\n",
       "    <tr>\n",
       "      <th>47</th>\n",
       "      <td>https://www.booking.com/hotel/vn/nam-home.vi.h...</td>\n",
       "      <td>Nấm Home</td>\n",
       "      <td>NaN</td>\n",
       "      <td>8,7</td>\n",
       "      <td>52 Đường An Dương Vương, Đà Lạt, Việt Nam</td>\n",
       "      <td>Tọa lạc tại thành phố Đà Lạt, cách Vườn hoa Đà...</td>\n",
       "      <td>11.95218400,108.43554600</td>\n",
       "      <td>-3712045</td>\n",
       "      <td>thành phố đà lạt vườn hoa đà lạt 1 5 km nấm ho...</td>\n",
       "      <td>11.95218400</td>\n",
       "      <td>108.43554600</td>\n",
       "    </tr>\n",
       "    <tr>\n",
       "      <th>48</th>\n",
       "      <td>https://www.booking.com/hotel/vn/royal-dalat-d...</td>\n",
       "      <td>Royal Dalat Hotel</td>\n",
       "      <td>NaN</td>\n",
       "      <td>7,3</td>\n",
       "      <td>24 Nguyen Chi Thanh, Đà Lạt, Việt Nam</td>\n",
       "      <td>Tọa lạc tại trung tâm thành phố Đà Lạt, Royal ...</td>\n",
       "      <td>11.94126279,108.43646677</td>\n",
       "      <td>-3712045</td>\n",
       "      <td>trung tâm thành phố đà lạt royal dalat hotel c...</td>\n",
       "      <td>11.94126279</td>\n",
       "      <td>108.43646677</td>\n",
       "    </tr>\n",
       "    <tr>\n",
       "      <th>49</th>\n",
       "      <td>https://www.booking.com/hotel/vn/luan-39-s-vil...</td>\n",
       "      <td>Luan'S Villa</td>\n",
       "      <td>NaN</td>\n",
       "      <td>9,4</td>\n",
       "      <td>10 Đường Sương Nguyệt Ánh, Phường 9 , Đà Lạt, ...</td>\n",
       "      <td>Luan'S Villa tọa lạc tại thành phố Đà Lạt, các...</td>\n",
       "      <td>11.94965740,108.45492850</td>\n",
       "      <td>-3712045</td>\n",
       "      <td>luan s villa tọa lạc thành phố đà lạt công viê...</td>\n",
       "      <td>11.94965740</td>\n",
       "      <td>108.45492850</td>\n",
       "    </tr>\n",
       "    <tr>\n",
       "      <th>50</th>\n",
       "      <td>https://www.booking.com/hotel/vn/savio-house.v...</td>\n",
       "      <td>Savio House</td>\n",
       "      <td>NaN</td>\n",
       "      <td>9,6</td>\n",
       "      <td>377 Phan Đình Phùng, Phường 2, Đà Lạt, Việt Nam</td>\n",
       "      <td>Savio House tọa lạc tại thành phố Đà Lạt, cách...</td>\n",
       "      <td>11.95124000,108.43343300</td>\n",
       "      <td>-3712045</td>\n",
       "      <td>savio house tọa lạc thành phố đà lạt hồ xuân h...</td>\n",
       "      <td>11.95124000</td>\n",
       "      <td>108.43343300</td>\n",
       "    </tr>\n",
       "  </tbody>\n",
       "</table>\n",
       "</div>"
      ],
      "text/plain": [
       "                                                links  \\\n",
       "0   https://www.booking.com/hotel/vn/ruby-light-da...   \n",
       "1   https://www.booking.com/hotel/vn/bazan-hotel-d...   \n",
       "2   https://www.booking.com/hotel/vn/dalat-wind.vi...   \n",
       "3   https://www.booking.com/hotel/vn/ttr-central-h...   \n",
       "4   https://www.booking.com/hotel/vn/raon-valley-v...   \n",
       "5   https://www.booking.com/hotel/vn/dalat-feliz-h...   \n",
       "6   https://www.booking.com/hotel/vn/khach-san-hoa...   \n",
       "7   https://www.booking.com/hotel/vn/reddoorz-near...   \n",
       "8   https://www.booking.com/hotel/vn/raon-villa-da...   \n",
       "9   https://www.booking.com/hotel/vn/vuon-xuan-tha...   \n",
       "10  https://www.booking.com/hotel/vn/khach-san-tha...   \n",
       "11  https://www.booking.com/hotel/vn/greeneco-dala...   \n",
       "12  https://www.booking.com/hotel/vn/tropicana-2.v...   \n",
       "13  https://www.booking.com/hotel/vn/khach-san-da-...   \n",
       "14  https://www.booking.com/hotel/vn/apeda-thanh-p...   \n",
       "15  https://www.booking.com/hotel/vn/royal-palace-...   \n",
       "16  https://www.booking.com/hotel/vn/victory-da-la...   \n",
       "17  https://www.booking.com/hotel/vn/lovely-house-...   \n",
       "18  https://www.booking.com/hotel/vn/marigold-dala...   \n",
       "19  https://www.booking.com/hotel/vn/strawberry-ga...   \n",
       "20  https://www.booking.com/hotel/vn/cozy-boutique...   \n",
       "21  https://www.booking.com/hotel/vn/mia-house-da-...   \n",
       "22  https://www.booking.com/hotel/vn/terracotta-am...   \n",
       "23  https://www.booking.com/hotel/vn/mercure-da-la...   \n",
       "24  https://www.booking.com/hotel/vn/an-nam-dalat....   \n",
       "25  https://www.booking.com/hotel/vn/grey-house.vi...   \n",
       "26  https://www.booking.com/hotel/vn/himalaya-phoe...   \n",
       "27  https://www.booking.com/hotel/vn/be-u-thanh-ph...   \n",
       "28  https://www.booking.com/hotel/vn/ban-mai-da-la...   \n",
       "29  https://www.booking.com/hotel/vn/the-white.vi....   \n",
       "30  https://www.booking.com/hotel/vn/duong-xua-hom...   \n",
       "31  https://www.booking.com/hotel/vn/hong-mon-vill...   \n",
       "32  https://www.booking.com/hotel/vn/ana-mandara-v...   \n",
       "33  https://www.booking.com/hotel/vn/homestay-john...   \n",
       "34  https://www.booking.com/hotel/vn/le-petit-pari...   \n",
       "35  https://www.booking.com/hotel/vn/golden-bee.vi...   \n",
       "36  https://www.booking.com/hotel/vn/d-amp-t-villa...   \n",
       "37  https://www.booking.com/hotel/vn/villa-vista-d...   \n",
       "38  https://www.booking.com/hotel/vn/minh-chien.vi...   \n",
       "39  https://www.booking.com/hotel/vn/la-pensee.vi....   \n",
       "40  https://www.booking.com/hotel/vn/dalat-stream....   \n",
       "41  https://www.booking.com/hotel/vn/new-sun-thanh...   \n",
       "42  https://www.booking.com/hotel/vn/lasol-boutiqu...   \n",
       "43  https://www.booking.com/hotel/vn/thanhthanh.vi...   \n",
       "44  https://www.booking.com/hotel/vn/redhouse.vi.h...   \n",
       "45  https://www.booking.com/hotel/vn/ngan-pho-than...   \n",
       "46  https://www.booking.com/hotel/vn/terracotta-vi...   \n",
       "47  https://www.booking.com/hotel/vn/nam-home.vi.h...   \n",
       "48  https://www.booking.com/hotel/vn/royal-dalat-d...   \n",
       "49  https://www.booking.com/hotel/vn/luan-39-s-vil...   \n",
       "50  https://www.booking.com/hotel/vn/savio-house.v...   \n",
       "\n",
       "                                                names  reviews scores  \\\n",
       "0                                Menora Grand Da Nang      NaN    8,3   \n",
       "1                                   Bazan Hotel Dalat      NaN    9,1   \n",
       "2                                    Dalat Wind Hotel      NaN    8,4   \n",
       "3                             TTR Central Apart Hotel      NaN    9,0   \n",
       "4                                          Raon Villa      NaN    9,3   \n",
       "5                                Feliz Dalat Homestay      NaN    9,5   \n",
       "6                                   Khách sạn Hoa Sen      NaN    8,0   \n",
       "7                                          Raon Dalat      NaN    9,2   \n",
       "8                                   AN Boutique Hotel      NaN    9,2   \n",
       "9                                     Vuon Xuan Hotel      NaN    9,1   \n",
       "10                                    ELC Dalat Hotel      NaN    9,2   \n",
       "11  GREENECO DA LAT HOTEL - Khách sạn Green Eco Đà...      NaN    8,9   \n",
       "12                             Miền Nhiệt Đới 2 Hotel      NaN    8,1   \n",
       "13                                Da Lat Prince Hotel      NaN    8,4   \n",
       "14                                Hera Boutique Hotel      NaN    8,0   \n",
       "15                                       Royal Palace      NaN    8,4   \n",
       "16                                  TTR Skyview Hotel      NaN    7,6   \n",
       "17                                       Lovely House      NaN    8,4   \n",
       "18                               Marigold Hotel Dalat      NaN    7,9   \n",
       "19                     La Fleur 2 Luxury Garden Hotel      NaN    9,8   \n",
       "20                                       Nature Hotel      NaN    8,5   \n",
       "21                                          Siba Home      NaN    9,4   \n",
       "22                    Terracotta Hotel & Resort Dalat      NaN    8,2   \n",
       "23                               Mercure Dalat Resort      NaN    8,9   \n",
       "24                             TTR An Nam Apart Hotel      NaN    8,6   \n",
       "25                                         Grey House      NaN    9,1   \n",
       "26                       Himalaya Phoenix Dalat Hotel      NaN    7,6   \n",
       "27                                         Be U Hotel      NaN    8,7   \n",
       "28                                      Ban Mai Hotel      NaN    9,3   \n",
       "29                              The White Delux Hotel      NaN    8,6   \n",
       "30                                    Duong Xua Villa      NaN    9,8   \n",
       "31                                     Hong Mon Villa      NaN    8,6   \n",
       "32              Ana Mandara Villas Dalat Resort & Spa      NaN    8,6   \n",
       "33                          Hostel-John Cafe and Beer      NaN    9,2   \n",
       "34                         Le Petit Paris Dalat Hotel      NaN    8,0   \n",
       "35                                   Golden Bee Hotel      NaN    8,3   \n",
       "36                                           DT Villa      NaN    8,5   \n",
       "37           EX Villa Đà Lạt - Khách sạn cổ điển Pháp      NaN    8,0   \n",
       "38                                   Minh Chien Hotel      NaN    8,5   \n",
       "39                           La Pense'e Hotel - Dalat      NaN    8,9   \n",
       "40            DALAT STREAM HOTEL-Khách sạn đẹp Đà Lạt      NaN    9,6   \n",
       "41                               New Sun Hotel Đà Lạt      NaN    8,6   \n",
       "42                               Lasol Boutique Hotel      NaN    8,6   \n",
       "43                                  Thanh Thanh Hotel      NaN    8,3   \n",
       "44                               Redhouse Dalat Hotel      NaN    8,8   \n",
       "45                            Ngan Pho Studio & Hotel      NaN    8,3   \n",
       "46              Terracotta Villa Tuyen Lam Lake Dalat      NaN    8,2   \n",
       "47                                           Nấm Home      NaN    8,7   \n",
       "48                                  Royal Dalat Hotel      NaN    7,3   \n",
       "49                                       Luan'S Villa      NaN    9,4   \n",
       "50                                        Savio House      NaN    9,6   \n",
       "\n",
       "                                            addresses  \\\n",
       "0   69-71-73 Do Bi Street, My Khe Beach, Ngu Hanh ...   \n",
       "1                36 To Hien Thanh , Đà Lạt, Việt Nam   \n",
       "2   Lot R2 03-04. Golf Valley, Ward 2, Đà Lạt, Viê...   \n",
       "3                    4b Hải Thượng, Đà Lạt, Việt Nam   \n",
       "4      44D Trần Khánh Dư, Phường 8, Đà Lạt, Việt Nam   \n",
       "5   54/13 Phan Đình Phùng (08 Nguyễn Biểu) (Dốc Nh...   \n",
       "6   103 105 phan đình phùng tp Đà Lạt, tỉnh Lâm Đồ...   \n",
       "7         46 Tran Khanh Du, Ward 8, Đà Lạt, Việt Nam   \n",
       "8   138 Bùi Thị Xuân, phường 2, thành phố Đà Lạt, ...   \n",
       "9           40 Đường Tô Hiến Thành, Đà Lạt, Việt Nam   \n",
       "10               33 Đường Bà Triệu, Đà Lạt, Việt Nam   \n",
       "11       9A Đường Triệu Việt Vương, Đà Lạt, Việt Nam   \n",
       "12       64 Phan Nhu Thach, ward 1, Đà Lạt, Việt Nam   \n",
       "13                  23 Quang Trung, Đà Lạt, Việt Nam   \n",
       "14               23 Đường Trần Phú, Đà Lạt, Việt Nam   \n",
       "15  Đường Hà Huy Tập 55 49A Đường Hà Huy Tập, Đà L...   \n",
       "16               50 Phan Nhu Thach, Đà Lạt, Việt Nam   \n",
       "17  Hẻm 3 /4 Đường Đoàn Thị Điểm Phường 4 Thành ph...   \n",
       "18         83 Bui Thi Xuan, Ward 2, Đà Lạt, Việt Nam   \n",
       "19                 57 An Bình, P.3, Đà Lạt, Việt Nam   \n",
       "20               52 Luong The VInh, Đà Lạt, Việt Nam   \n",
       "21                B30 Mạc Đỉnh Chi, Đà Lạt, Việt Nam   \n",
       "22  Zone 7.9, Tuyen Lam Lake Tourist Area, Ward 3,...   \n",
       "23  03 Nguyen Du Street Ward 09, 670000 Đà Lạt, Vi...   \n",
       "24      29 Nguyen Cong Tru, Ward 8, Đà Lạt, Việt Nam   \n",
       "25               34 Lương Thế Vinh, Đà Lạt, Việt Nam   \n",
       "26        23 Le Hong Phong, Ward 4, Đà Lạt, Việt Nam   \n",
       "27  112 Đường Lý Tự Trọng Phường 1, Đà Lạt, Việt Nam   \n",
       "28  Lô LK 9 KQH dân cư - tái định cư Phạm Hồng Thá...   \n",
       "29  Lô 3- 15 Phan Như Thạch, phường 1, Đà Lạt, Viê...   \n",
       "30                 Cô Giang 3Bis/8, Đà Lạt, Việt Nam   \n",
       "31       102 To Hien Thanh, Ward 3, Đà Lạt, Việt Nam   \n",
       "32           Le Lai Street, Ward 5, Đà Lạt, Việt Nam   \n",
       "33  i13 kqh mạc đỉnh chi, phường 4, Tp Đà Lạt i13 ...   \n",
       "34                    5 Mai Hac De, Đà Lạt, Việt Nam   \n",
       "35        17 Le Hong Phong, Ward 4, Đà Lạt, Việt Nam   \n",
       "36  Thửa 811, Hẻm 29, Đường 3 Tháng 4, Phường 3, Đ...   \n",
       "37       6B Dong Da Street, Ward 3, Đà Lạt, Việt Nam   \n",
       "38             31 Thien My, Ward 4, Đà Lạt, Việt Nam   \n",
       "39   Số 6, Đường Đống Đa, Phường 3, Đà Lạt, Việt Nam   \n",
       "40  Số 7 ngõ Yên Bình, Đường Đặng Thuỳ Trâm, Phườn...   \n",
       "41  140 Đường Hai Bà Trưng, Phường 6, Đà Lạt, Việ...   \n",
       "42       15 Đường Huỳnh Thúc Kháng, Đà Lạt, Việt Nam   \n",
       "43                         70B 3/2, Đà Lạt, Việt Nam   \n",
       "44  11 Luong The Vinh Street, Ward 3, Đà Lạt, Việ...   \n",
       "45         15C Nhà Chung, Phường 3, Đà Lạt, Việt Nam   \n",
       "46  Tuyen Lam Lake Tourist Area, Ward 3, Đà Lạt, V...   \n",
       "47         52 Đường An Dương Vương, Đà Lạt, Việt Nam   \n",
       "48             24 Nguyen Chi Thanh, Đà Lạt, Việt Nam   \n",
       "49  10 Đường Sương Nguyệt Ánh, Phường 9 , Đà Lạt, ...   \n",
       "50   377 Phan Đình Phùng, Phường 2, Đà Lạt, Việt Nam   \n",
       "\n",
       "                                         descriptions  \\\n",
       "0   Nằm ở thành phố Đà Nẵng, cách Bãi biển Mỹ Khê ...   \n",
       "1   Tọa lạc tại thành phố Đà Lạt, cách Công viên Y...   \n",
       "2   Tọa lạc tại thành phố Đà Lạt, cách Hồ Xuân Hươ...   \n",
       "3   Nằm cách Quảng trường Lâm Viên 1,8 km, TTR Cen...   \n",
       "4   Tọa lạc tại thành phố Đà Lạt, cách sân golf Da...   \n",
       "5   Feliz Dalat Homestay cung cấp chỗ nghỉ ở vị tr...   \n",
       "6   Tọa lạc tại thành phố Đà Lạt, cách Quảng trườn...   \n",
       "7   Tọa lạc tại thành phố Đà Lạt, cách sân golf Da...   \n",
       "8   Tọa lạc tại thành phố Đà Lạt, cách sân golf Da...   \n",
       "9   Tọa lạc tại thành phố Đà Lạt, cách Công viên Y...   \n",
       "10  Nằm ở thành phố Đà Lạt, cách Quảng trường Lâm ...   \n",
       "11  Tọa lạc tại thành phố Đà Lạt, cách Thiền viện ...   \n",
       "12  Tọa lạc tại thành phố Đà Lạt, cách Quảng trườn...   \n",
       "13  Tọa lạc tại thành phố Đà Lạt, cách Vườn hoa Đà...   \n",
       "14  Tọa lạc tại thành phố Đà Lạt, cách Quảng trườn...   \n",
       "15  Tọa lạc tại thành phố Đà Lạt, cách Quảng trườn...   \n",
       "16  Tọa lạc tại thành phố Đà Lạt, cách Quảng trườn...   \n",
       "17  Tọa lạc tại thành phố Đà Lạt, cách Quảng trườn...   \n",
       "18  Tọa lạc tại thành phố Đà Lạt, cách sân golf Da...   \n",
       "19  Tọa lạc tại thành phố Đà Lạt, cách Quảng trườn...   \n",
       "20  Tọa lạc tại thành phố Đà Lạt, cách Quảng trườn...   \n",
       "21  Tọa lạc tại thành phố Đà Lạt, cách Quảng trườn...   \n",
       "22  Terracotta Hotel & Resort Dalat cung cấp các p...   \n",
       "23  Tọa lạc tại thành phố Đà Lạt, cách Vườn hoa Đà...   \n",
       "24  Nằm cách CLB chơi golf Dalat Palace 600 m, TTR...   \n",
       "25  Tọa lạc tại thành phố Đà Lạt, cách Quảng trườn...   \n",
       "26  Tọa lạc tại thành phố Đà Lạt, cách Quảng trườn...   \n",
       "27  Tọa lạc tại thành phố Đà Lạt, cách sân golf Da...   \n",
       "28  Set in Da Lat, within less than 1 km of Xuan H...   \n",
       "29  Tọa lạc tại thành phố Đà Lạt, cách Quảng trườn...   \n",
       "30  Set in Da Lat in the Lam Dong region and Dalat...   \n",
       "31  Với Wi-Fi miễn phí và một khu vườn, Hong Mon V...   \n",
       "32  Đối với những ai đam mê lịch sử và phong cách,...   \n",
       "33  Nằm cách Quảng trường Lâm Viên 2,4 km, Hostel-...   \n",
       "34  Với sân vườn tuyệt đẹp, Le Petit Paris Dalat H...   \n",
       "35  Golden Bee Hotel cung cấp chỗ nghỉ tại thành p...   \n",
       "36  Tọa lạc tại thành phố Đà Lạt, cách Công viên Y...   \n",
       "37  Tọa lạc tại thành phố Đà Lạt, cách Công viên Y...   \n",
       "38  Tọa lạc tại thành phố Đà Lạt, cách Quảng trườn...   \n",
       "39  Tọa lạc tại thành phố Đà Lạt, cách Công viên Y...   \n",
       "40  Tọa lạc tại thành phố Đà Lạt, cách Quảng trườn...   \n",
       "41  Tọa lạc tại thành phố Đà Lạt, cách Quảng trườn...   \n",
       "42  Tọa lạc tại thành phố Đà Lạt, cách Quảng trườn...   \n",
       "43  Thanh Thanh Hotel cung cấp chỗ nghỉ 2 sao tại ...   \n",
       "44  Nằm tại thành phố Đà Lạt, Redhouse Dalat Hotel...   \n",
       "45  Nằm cách Quảng trường Lâm Viên 1,4 km, Ngan Ph...   \n",
       "46  Nằm cách Hồ Tuyền Lâm 2 km, Terracotta Villa T...   \n",
       "47  Tọa lạc tại thành phố Đà Lạt, cách Vườn hoa Đà...   \n",
       "48  Tọa lạc tại trung tâm thành phố Đà Lạt, Royal ...   \n",
       "49  Luan'S Villa tọa lạc tại thành phố Đà Lạt, các...   \n",
       "50  Savio House tọa lạc tại thành phố Đà Lạt, cách...   \n",
       "\n",
       "          latitude_longitude     DEST  \\\n",
       "0   16.05331759,108.24603816 -3712125   \n",
       "1   11.92824835,108.44512304 -3712045   \n",
       "2   11.94775486,108.44124913 -3712045   \n",
       "3   11.94222460,108.43152510 -3712045   \n",
       "4   11.96255100,108.44276300 -3712045   \n",
       "5   11.94363759,108.43447213 -3712045   \n",
       "6   11.94467500,108.43400800 -3712045   \n",
       "7   11.96217116,108.44034794 -3712045   \n",
       "8   11.94833781,108.43961489 -3712045   \n",
       "9   11.92828875,108.44488965 -3712045   \n",
       "10  11.93742400,108.43372300 -3712045   \n",
       "11  11.91931830,108.43617910 -3712045   \n",
       "12  11.94058158,108.43391991 -3712045   \n",
       "13  11.94634200,108.45792800 -3712045   \n",
       "14  11.93635000,108.43404500 -3712045   \n",
       "15  11.93521058,108.44099387 -3712045   \n",
       "16  11.94177930,108.43453370 -3712045   \n",
       "17  11.93870000,108.43392300 -3712045   \n",
       "18  11.94585600,108.43957200 -3712045   \n",
       "19  11.92468400,108.43703800 -3712045   \n",
       "20  11.93203784,108.44234600 -3712045   \n",
       "21  11.94067200,108.42710300 -3712045   \n",
       "22  11.89485138,108.43825579 -3712045   \n",
       "23  11.94518700,108.45949400 -3712045   \n",
       "24  11.95482000,108.44133100 -3712045   \n",
       "25  11.93323800,108.44180200 -3712045   \n",
       "26  11.93318315,108.42924792 -3712045   \n",
       "27  11.94775500,108.43857000 -3712045   \n",
       "28  11.94070586,108.45475722 -3712045   \n",
       "29  11.94110300,108.43570300 -3712045   \n",
       "30  11.94716596,108.45679511 -3712045   \n",
       "31  11.93030040,108.44330102 -3712045   \n",
       "32  11.94418343,108.42332929 -3712045   \n",
       "33  11.94081696,108.42656979 -3712045   \n",
       "34  11.94743359,108.42984641 -3712045   \n",
       "35  11.93380104,108.43119725 -3712045   \n",
       "36  11.93187800,108.44617800 -3712045   \n",
       "37  11.92570544,108.44527445 -3712045   \n",
       "38  11.93829500,108.42567300 -3712045   \n",
       "39  11.92578762,108.44529605 -3712045   \n",
       "40  11.94013081,108.42533570 -3712045   \n",
       "41  11.94587500,108.43354500 -3712045   \n",
       "42  11.93526700,108.42985300 -3712045   \n",
       "43  11.94227115,108.43402498 -3712045   \n",
       "44  11.93322740,108.44272970 -3712045   \n",
       "45  11.93432996,108.43670492 -3712045   \n",
       "46  11.89474979,108.43765068 -3712045   \n",
       "47  11.95218400,108.43554600 -3712045   \n",
       "48  11.94126279,108.43646677 -3712045   \n",
       "49  11.94965740,108.45492850 -3712045   \n",
       "50  11.95124000,108.43343300 -3712045   \n",
       "\n",
       "                                   descriptions_clean          lat  \\\n",
       "0   nằm thành phố đà nẵng bãi biển mỹ khê 400 m me...  16.05331759   \n",
       "1   thành phố đà lạt công viên yersin 1 6 km bazan...  11.92824835   \n",
       "2   thành phố đà lạt hồ xuân hương 500 m dalat win...  11.94775486   \n",
       "3   nằm quảng trường lâm viên 1 8 km ttr central a...  11.94222460   \n",
       "4   thành phố đà lạt sân golf dalat palace golf cl...  11.96255100   \n",
       "5   feliz dalat homestay cung chỗ nghỉ vị trí lý t...  11.94363759   \n",
       "6   thành phố đà lạt quảng trường lâm viên 1 7 km ...  11.94467500   \n",
       "7   thành phố đà lạt sân golf dalat palace golf cl...  11.96217116   \n",
       "8   thành phố đà lạt sân golf dalat palace golf cl...  11.94833781   \n",
       "9   thành phố đà lạt công viên yersin 1 6 km vuon ...  11.92828875   \n",
       "10  nằm thành phố đà lạt quảng trường lâm viên 1 5...  11.93742400   \n",
       "11  thành phố đà lạt thiền viện trúc lâm 2 2 km hồ...  11.91931830   \n",
       "12  thành phố đà lạt quảng trường lâm viên 1 4 km ...  11.94058158   \n",
       "13  thành phố đà lạt vườn hoa đà lạt 1 3 km da lat...  11.94634200   \n",
       "14  thành phố đà lạt quảng trường lâm viên 1 4 km ...  11.93635000   \n",
       "15  thành phố đà lạt quảng trường lâm viên 1 2 km ...  11.93521058   \n",
       "16  thành phố đà lạt quảng trường lâm viên 1 5 km ...  11.94177930   \n",
       "17  thành phố đà lạt quảng trường lâm viên 1 5 km ...  11.93870000   \n",
       "18  thành phố đà lạt sân golf dalat palace golf cl...  11.94585600   \n",
       "19  thành phố đà lạt quảng trường lâm viên 2 8 km ...  11.92468400   \n",
       "20  thành phố đà lạt quảng trường lâm viên 1 5 km ...  11.93203784   \n",
       "21  thành phố đà lạt quảng trường lâm viên 2 3 km ...  11.94067200   \n",
       "22  terracotta hotel resort dalat cung phòng biệt ...  11.89485138   \n",
       "23  thành phố đà lạt vườn hoa đà lạt 1 6 km mercur...  11.94518700   \n",
       "24  nằm clb golf dalat palace 600 m ttr an nam apa...  11.95482000   \n",
       "25  thành phố đà lạt quảng trường lâm viên 1 5 km ...  11.93323800   \n",
       "26  thành phố đà lạt quảng trường lâm viên 2 4 km ...  11.93318315   \n",
       "27  thành phố đà lạt sân golf dalat palace golf cl...  11.94775500   \n",
       "28  set in da lat within less than 1 km of xuan hu...  11.94070586   \n",
       "29  thành phố đà lạt quảng trường lâm viên 1 3 km ...  11.94110300   \n",
       "30  set in da lat in the lam dong region and dalat...  11.94716596   \n",
       "31  wi fi miễn phí khu vườn hong mon villa nằm đà ...  11.93030040   \n",
       "32  đối đam mê lịch sử phong ana mandara villas da...  11.94418343   \n",
       "33  nằm quảng trường lâm viên 2 4 km hostel john c...  11.94081696   \n",
       "34  sân vườn tuyệt đẹp le petit paris dalat hotel ...  11.94743359   \n",
       "35  golden bee hotel cung chỗ nghỉ thành phố đà lạ...  11.93380104   \n",
       "36  thành phố đà lạt công viên yersin 1 km dt vill...  11.93187800   \n",
       "37  thành phố đà lạt công viên yersin 2 4 km ex vi...  11.92570544   \n",
       "38  thành phố đà lạt quảng trường lâm viên 2 7 km ...  11.93829500   \n",
       "39  thành phố đà lạt công viên yersin 2 3 km la pe...  11.92578762   \n",
       "40  thành phố đà lạt quảng trường lâm viên 2 1 km ...  11.94013081   \n",
       "41  thành phố đà lạt quảng trường lâm viên 1 9 km ...  11.94587500   \n",
       "42  thành phố đà lạt quảng trường lâm viên 2 1 km ...  11.93526700   \n",
       "43  hotel cung chỗ nghỉ 2 thành phố đà lạt quảng t...  11.94227115   \n",
       "44  nằm thành phố đà lạt redhouse dalat hotel hàng...  11.93322740   \n",
       "45  nằm quảng trường lâm viên 1 4 km ngan studio h...  11.93432996   \n",
       "46  nằm hồ tuyền lâm 2 km terracotta villa tuyen l...  11.89474979   \n",
       "47  thành phố đà lạt vườn hoa đà lạt 1 5 km nấm ho...  11.95218400   \n",
       "48  trung tâm thành phố đà lạt royal dalat hotel c...  11.94126279   \n",
       "49  luan s villa tọa lạc thành phố đà lạt công viê...  11.94965740   \n",
       "50  savio house tọa lạc thành phố đà lạt hồ xuân h...  11.95124000   \n",
       "\n",
       "             lon  \n",
       "0   108.24603816  \n",
       "1   108.44512304  \n",
       "2   108.44124913  \n",
       "3   108.43152510  \n",
       "4   108.44276300  \n",
       "5   108.43447213  \n",
       "6   108.43400800  \n",
       "7   108.44034794  \n",
       "8   108.43961489  \n",
       "9   108.44488965  \n",
       "10  108.43372300  \n",
       "11  108.43617910  \n",
       "12  108.43391991  \n",
       "13  108.45792800  \n",
       "14  108.43404500  \n",
       "15  108.44099387  \n",
       "16  108.43453370  \n",
       "17  108.43392300  \n",
       "18  108.43957200  \n",
       "19  108.43703800  \n",
       "20  108.44234600  \n",
       "21  108.42710300  \n",
       "22  108.43825579  \n",
       "23  108.45949400  \n",
       "24  108.44133100  \n",
       "25  108.44180200  \n",
       "26  108.42924792  \n",
       "27  108.43857000  \n",
       "28  108.45475722  \n",
       "29  108.43570300  \n",
       "30  108.45679511  \n",
       "31  108.44330102  \n",
       "32  108.42332929  \n",
       "33  108.42656979  \n",
       "34  108.42984641  \n",
       "35  108.43119725  \n",
       "36  108.44617800  \n",
       "37  108.44527445  \n",
       "38  108.42567300  \n",
       "39  108.44529605  \n",
       "40  108.42533570  \n",
       "41  108.43354500  \n",
       "42  108.42985300  \n",
       "43  108.43402498  \n",
       "44  108.44272970  \n",
       "45  108.43670492  \n",
       "46  108.43765068  \n",
       "47  108.43554600  \n",
       "48  108.43646677  \n",
       "49  108.45492850  \n",
       "50  108.43343300  "
      ]
     },
     "execution_count": 28,
     "metadata": {},
     "output_type": "execute_result"
    }
   ],
   "source": [
    "hotelx"
   ]
  },
  {
   "cell_type": "code",
   "execution_count": 31,
   "id": "91bb40c1",
   "metadata": {},
   "outputs": [],
   "source": [
    "ksf = pd.DataFrame({'links':[1],'names':[1],'reviews':[1],'scores':[1],\n",
    "                      'addresses': [1],'Description':[1],'latitude_longitude': [1],'DEST': [1],'descriptions_clean':[1],'lat':[1],'lon':[1]})\n",
    "    "
   ]
  },
  {
   "cell_type": "code",
   "execution_count": 32,
   "id": "378eecfc",
   "metadata": {},
   "outputs": [
    {
     "data": {
      "text/html": [
       "<div>\n",
       "<style scoped>\n",
       "    .dataframe tbody tr th:only-of-type {\n",
       "        vertical-align: middle;\n",
       "    }\n",
       "\n",
       "    .dataframe tbody tr th {\n",
       "        vertical-align: top;\n",
       "    }\n",
       "\n",
       "    .dataframe thead th {\n",
       "        text-align: right;\n",
       "    }\n",
       "</style>\n",
       "<table border=\"1\" class=\"dataframe\">\n",
       "  <thead>\n",
       "    <tr style=\"text-align: right;\">\n",
       "      <th></th>\n",
       "      <th>links</th>\n",
       "      <th>names</th>\n",
       "      <th>reviews</th>\n",
       "      <th>scores</th>\n",
       "      <th>addresses</th>\n",
       "      <th>Description</th>\n",
       "      <th>latitude_longitude</th>\n",
       "      <th>DEST</th>\n",
       "      <th>descriptions_clean</th>\n",
       "      <th>lat</th>\n",
       "      <th>lon</th>\n",
       "    </tr>\n",
       "  </thead>\n",
       "  <tbody>\n",
       "    <tr>\n",
       "      <th>0</th>\n",
       "      <td>1</td>\n",
       "      <td>1</td>\n",
       "      <td>1</td>\n",
       "      <td>1</td>\n",
       "      <td>1</td>\n",
       "      <td>1</td>\n",
       "      <td>1</td>\n",
       "      <td>1</td>\n",
       "      <td>1</td>\n",
       "      <td>1</td>\n",
       "      <td>1</td>\n",
       "    </tr>\n",
       "  </tbody>\n",
       "</table>\n",
       "</div>"
      ],
      "text/plain": [
       "   links  names  reviews  scores  addresses  Description  latitude_longitude  \\\n",
       "0      1      1        1       1          1            1                   1   \n",
       "\n",
       "   DEST  descriptions_clean  lat  lon  \n",
       "0     1                   1    1    1  "
      ]
     },
     "execution_count": 32,
     "metadata": {},
     "output_type": "execute_result"
    }
   ],
   "source": [
    "ksf"
   ]
  },
  {
   "cell_type": "code",
   "execution_count": 33,
   "id": "d79a411a",
   "metadata": {},
   "outputs": [],
   "source": [
    "des = 'ádnjasfbsdkanfksdfsadf'"
   ]
  },
  {
   "cell_type": "code",
   "execution_count": 34,
   "id": "0afbe341",
   "metadata": {},
   "outputs": [],
   "source": [
    "    ks = pd.DataFrame({'links':[1],'names':[1],'reviews':[1],'scores':[1],\n",
    "                      'addresses': [1],'Description':[1],'latitude_longitude': [1],'DEST': [1],'descriptions_clean':[des],'lat':[1],'lon':[1]})"
   ]
  },
  {
   "cell_type": "code",
   "execution_count": 35,
   "id": "e3a4dfa9",
   "metadata": {},
   "outputs": [
    {
     "data": {
      "text/html": [
       "<div>\n",
       "<style scoped>\n",
       "    .dataframe tbody tr th:only-of-type {\n",
       "        vertical-align: middle;\n",
       "    }\n",
       "\n",
       "    .dataframe tbody tr th {\n",
       "        vertical-align: top;\n",
       "    }\n",
       "\n",
       "    .dataframe thead th {\n",
       "        text-align: right;\n",
       "    }\n",
       "</style>\n",
       "<table border=\"1\" class=\"dataframe\">\n",
       "  <thead>\n",
       "    <tr style=\"text-align: right;\">\n",
       "      <th></th>\n",
       "      <th>links</th>\n",
       "      <th>names</th>\n",
       "      <th>reviews</th>\n",
       "      <th>scores</th>\n",
       "      <th>addresses</th>\n",
       "      <th>Description</th>\n",
       "      <th>latitude_longitude</th>\n",
       "      <th>DEST</th>\n",
       "      <th>descriptions_clean</th>\n",
       "      <th>lat</th>\n",
       "      <th>lon</th>\n",
       "    </tr>\n",
       "  </thead>\n",
       "  <tbody>\n",
       "    <tr>\n",
       "      <th>0</th>\n",
       "      <td>1</td>\n",
       "      <td>1</td>\n",
       "      <td>1</td>\n",
       "      <td>1</td>\n",
       "      <td>1</td>\n",
       "      <td>1</td>\n",
       "      <td>1</td>\n",
       "      <td>1</td>\n",
       "      <td>ádnjasfbsdkanfksdfsadf</td>\n",
       "      <td>1</td>\n",
       "      <td>1</td>\n",
       "    </tr>\n",
       "  </tbody>\n",
       "</table>\n",
       "</div>"
      ],
      "text/plain": [
       "   links  names  reviews  scores  addresses  Description  latitude_longitude  \\\n",
       "0      1      1        1       1          1            1                   1   \n",
       "\n",
       "   DEST      descriptions_clean  lat  lon  \n",
       "0     1  ádnjasfbsdkanfksdfsadf    1    1  "
      ]
     },
     "execution_count": 35,
     "metadata": {},
     "output_type": "execute_result"
    }
   ],
   "source": [
    "ks"
   ]
  },
  {
   "cell_type": "code",
   "execution_count": null,
   "id": "6f1597a4",
   "metadata": {},
   "outputs": [],
   "source": []
  },
  {
   "cell_type": "code",
   "execution_count": 44,
   "id": "c188e850",
   "metadata": {},
   "outputs": [],
   "source": [
    "tf = TfidfVectorizer(analyzer='word', ngram_range=(1, 4), min_df=0)\n",
    "tfidf_matrix = tf.fit_transform(df['descriptions_clean'])\n",
    "cosine_similarities = linear_kernel(tfidf_matrix, tfidf_matrix)"
   ]
  },
  {
   "cell_type": "code",
   "execution_count": 46,
   "id": "5fa79d6c",
   "metadata": {},
   "outputs": [
    {
     "name": "stdout",
     "output_type": "stream",
     "text": [
      "[[1.         0.10464524 0.10174804 ... 0.0606804  0.06064757 0.00361092]\n",
      " [0.10464524 1.         0.08443689 ... 0.04971149 0.02352292 0.00159125]\n",
      " [0.10174804 0.08443689 1.         ... 0.04117241 0.03439735 0.00656977]\n",
      " ...\n",
      " [0.0606804  0.04971149 0.04117241 ... 1.         0.08410422 0.00994434]\n",
      " [0.06064757 0.02352292 0.03439735 ... 0.08410422 1.         0.02301175]\n",
      " [0.00361092 0.00159125 0.00656977 ... 0.00994434 0.02301175 1.        ]]\n"
     ]
    }
   ],
   "source": [
    "cosine_similarities"
   ]
  }
 ],
 "metadata": {
  "kernelspec": {
   "display_name": "Python 3 (ipykernel)",
   "language": "python",
   "name": "python3"
  },
  "language_info": {
   "codemirror_mode": {
    "name": "ipython",
    "version": 3
   },
   "file_extension": ".py",
   "mimetype": "text/x-python",
   "name": "python",
   "nbconvert_exporter": "python",
   "pygments_lexer": "ipython3",
   "version": "3.9.7"
  }
 },
 "nbformat": 4,
 "nbformat_minor": 5
}
